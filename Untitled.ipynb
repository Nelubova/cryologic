{
 "cells": [
  {
   "cell_type": "code",
   "execution_count": 112,
   "metadata": {},
   "outputs": [
    {
     "name": "stdout",
     "output_type": "stream",
     "text": [
      "1-.-2-3-1-2-3\n"
     ]
    },
    {
     "data": {
      "text/latex": [
       "$$T_1,K$$"
      ],
      "text/plain": [
       "<IPython.core.display.Math object>"
      ]
     },
     "metadata": {},
     "output_type": "display_data"
    },
    {
     "data": {
      "text/html": [
       "<table class = \"tbl\" border=\"5\"><tr><td>1</td></tr><tr><td>2</td></tr><tr><td>3</td></tr><tr><td>4</td></tr><tr><td>5233</td></tr></table>"
      ],
      "text/plain": [
       "<IPython.core.display.HTML object>"
      ]
     },
     "metadata": {},
     "output_type": "display_data"
    },
    {
     "data": {
      "text/latex": [
       "$$,$$"
      ],
      "text/plain": [
       "<IPython.core.display.Math object>"
      ]
     },
     "metadata": {},
     "output_type": "display_data"
    },
    {
     "data": {
      "text/html": [
       "<table><tr><td>1<\td><\tr><tr><td>2<\td><\tr><tr><td>3<\td><\tr><tr><td>4<\td><\tr><tr><td>5233<\td><\tr><\table>"
      ],
      "text/plain": [
       "<IPython.core.display.HTML object>"
      ]
     },
     "metadata": {},
     "output_type": "display_data"
    }
   ],
   "source": [
    "from IPython.display import HTML, display\n",
    "from IPython.display import display, Math, Latex, Markdown\n",
    "import tabulate\n",
    "v1 = 1232;\n",
    "T=[[123,1],[1232,2],[2321,3],[23202,4],[2351,4]]\n",
    "T1 = [1,2,3,4,5233]\n",
    "def displayHTMLtable(obj, name = '', razmer = ''):\n",
    "    display(Math(name+r','+razmer)) \n",
    "    display(HTML(\n",
    "    #'<style>.tbl {border-style:solid;border:4px;}</style>'+    \n",
    "    '<table class = \"tbl\" border=\"5\"><tr>{}</tr></table>'.format(\n",
    "        '</tr><tr>'.join(\n",
    "            '<td>{}</td>'.format(str(row) ) for row in obj)\n",
    "        )\n",
    "    ))\n",
    "def test(obj, name='', razmer=''):\n",
    "    display(Math(name+r','+razmer)) \n",
    "    display(HTML(\n",
    "    '<table><tr>{}<\\tr><\\table>'.format( '<\\tr><tr>'.join('<td>{}<\\td>'.format(str(o)) for o in obj) )\n",
    "    ))\n",
    "num = 1.23123\n",
    "s = '-'\n",
    "\n",
    "print(s.join(str(num)))\n",
    "    #display(Math(razmer))\n",
    "#display(HTML(tabulate.tabulate(T, tablefmt='html')))\n",
    "displayHTMLtable(T1,r'T_1',r'K')\n",
    "def printAns(obj,name,razmer):\n",
    "    display(Math(r'\\begin{align} '+name+r'='+str(obj)+razmer+r' \\end{align}'))\n",
    "#printAns(24.3,r'T_1', 'K')\n",
    "h1 = 2313232\n",
    "#printAns(h1,r'h_1',r'\\frac{Дж}{кг}')\n",
    "#display(Math(r'h_3 = \\frac{G_1 \\cdot h_1 + G_2 \\cdot h_2}{G_3}'))\n",
    "# display(Markdown('''$$ \\begin{align} \n",
    "#                 T_1 \n",
    "#                 \\end{align} $$'''))\n",
    "# r'''\\begin{equation*}\n",
    "# P(E)   = {n \\choose k} p^k (1-p)^{ n-k}\n",
    "# \\end{equation*}'''\n",
    "deltaS =1\n",
    "#printAns(deltaS,r\"\\Delta S'\",r'\\frac{Дж}{кгК}')\n",
    "#printAns(v1,r\"v_1\",r'\\frac{м^3}{кг}')\n",
    "\n",
    "#print(str(1231.23))\n",
    "test(T1)"
   ]
  }
 ],
 "metadata": {
  "kernelspec": {
   "display_name": "Python 3",
   "language": "python",
   "name": "python3"
  },
  "language_info": {
   "codemirror_mode": {
    "name": "ipython",
    "version": 3
   },
   "file_extension": ".py",
   "mimetype": "text/x-python",
   "name": "python",
   "nbconvert_exporter": "python",
   "pygments_lexer": "ipython3",
   "version": "3.6.2"
  }
 },
 "nbformat": 4,
 "nbformat_minor": 2
}
