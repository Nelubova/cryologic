{
 "cells": [
  {
   "cell_type": "markdown",
   "metadata": {},
   "source": [
    "# <center>Домашнее задание №2 по курсу \"Научные основы криологии\"</center>\n",
    "### <center>Расчет основных характеристик дроссельных циклов</center>"
   ]
  },
  {
   "cell_type": "markdown",
   "metadata": {},
   "source": [
    "Для каждого из первых трёх заданных дроссельных циклов провести \n",
    "расчет двух режимов работы при заданных в таблице параметрах. Контроль \n",
    "правильности  расчетов  проводится:  для  рефрижераторных  циклов -по \n",
    "удельной  холодопроизводительности,  холодильному  коэффиц\n",
    "иенту  и \n",
    "степени  термодинамического  совершенства  цикла;  для  ожижительных \n",
    "циклов -по коэффициенту ожижения, затратам энергии для получения \n",
    "1кг\n",
    "жидкого  продукта  и  степени  термодинамического  совершенства.  Для \n",
    "четвёртого цикла необходимо определить  следующие  у\n",
    "дельные  величины: \n",
    "работу цикла, теплоту конденсации,  полезную холодопроизводительность, \n",
    "холодильный коэффициент и степень термодинамического совершенства. \n",
    "По результатам работы составить отчет, включающий задание, порядок \n",
    "и результаты расчета, схему кажд\n",
    "ого цикла с обозначениями изображением в \n",
    "T-S-диаграмме процессов цикла. Отчет должен содержать также результаты \n",
    "оптимизации первых трёх циклов для определения максимальных значений \n",
    "степени термодинамического совершенства, значения температур, давлений, \n",
    "энтальпий для pасчетных pежимов pаботы.\n",
    "\n",
    "Дополнительные данные: \n",
    "- недорекуперация в теплообменниках $\\Delta T_H$ равна 15К\n",
    "- внешний теплоприток $q_{o.c.} = 2 кДж/кг$;\n",
    "- температура изотермического сжатия в компрессоре $Т_1=300K$\n",
    "- изотермический КПД компрессоров 0.7\n",
    "\n",
    "Для цикла с предварительным охлаждением дополнительно задано:\n",
    "- температура предварительного охлаждения для -250 К, (хладагент аммиак)\n",
    "- холодопроизводительность  в  дополнительном  цикле  на  единицу затрат работы $q_l = 2.8$ Дж\"холода\"/Дж\"работы\"\n",
    "\n",
    "В  цикле  с  двойным  дросселированием  и  циркуляцией  части  потока дополнительно задано:\n",
    "- Давление промежуточного сжатия $p_D$\n",
    "- доля циркулирующего потока D"
   ]
  },
  {
   "cell_type": "code",
   "execution_count": 1,
   "metadata": {},
   "outputs": [],
   "source": [
    "# Подключение необходимых библиотек и настройка окружения\n",
    "import CoolProp.CoolProp as CP\n",
    "import math\n",
    "import CoolProp\n",
    "from CoolProp.Plots import PropertyPlot\n",
    "import matplotlib.pyplot as plt\n",
    "from CoolProp.Plots.SimpleCycles import StateContainer\n",
    "import warnings\n",
    "warnings.filterwarnings('ignore')\n",
    "import matplotlib.pyplot as plt\n",
    "plt.rcParams[\"figure.figsize\"] = (9,9) #размер графиков (в дюймах)\n",
    "from IPython.display import display, Math, Latex, HTML\n",
    "def printAns(obj,name,razmer=''): # вспомогательная функция для вывода значений\n",
    "    display(Math(name+r'='+('%.4f' % obj)+razmer))"
   ]
  },
  {
   "cell_type": "markdown",
   "metadata": {},
   "source": [
    "### Задача 1\n",
    "Дано: ПД; газ - Азот, давление 600/350;\n",
    "\n",
    "*Далее второй нижний индекс указывает на то, для какого давления вычислено*\n",
    "\n",
    "*Прим: $h_{12}$ - энтальпия в точке 1 для давления $p_2=350$*\n",
    "#### Рефрижераторный режим."
   ]
  },
  {
   "cell_type": "code",
   "execution_count": 2,
   "metadata": {},
   "outputs": [
    {
     "data": {
      "text/latex": [
       "$$R=296.6429Дж/(кгК)$$"
      ],
      "text/plain": [
       "<IPython.core.display.Math object>"
      ]
     },
     "metadata": {},
     "output_type": "display_data"
    }
   ],
   "source": [
    "#Дано\n",
    "p2_1 = 600 * 10**5 #Па\n",
    "p2_2 = 350 * 10**5 #Па\n",
    "gas = 'Nitrogen'\n",
    "Tx = 78 # для рефрежираторного режима\n",
    "T1 = 300\n",
    "q_oc = 2 * 10**3 #дж/кг\n",
    "deltaTn = 15 # недорекуперация\n",
    "R = 8.31 / CP.PropsSI('M',gas)\n",
    "printAns(R,'R', 'Дж/(кгК)') #индивидуальная газовая постоянная\n",
    "n = 0.7 # кпд изотермический"
   ]
  },
  {
   "cell_type": "markdown",
   "metadata": {},
   "source": [
    "![PDr](imgs/ПДр.jpg)\n",
    "Определим давление $P_1$. \n",
    "Так как точка 4 располагается на кривой насыщенного пара и температура в ней известна (Tx) можно определить давление.\n",
    "По температуре $T_x$ определяем давление насыщенного пара $P_1$"
   ]
  },
  {
   "cell_type": "code",
   "execution_count": 3,
   "metadata": {},
   "outputs": [
    {
     "data": {
      "text/latex": [
       "$$p_1=109255.2141Па$$"
      ],
      "text/plain": [
       "<IPython.core.display.Math object>"
      ]
     },
     "metadata": {},
     "output_type": "display_data"
    }
   ],
   "source": [
    "p1 = CP.PropsSI('P','Q',1,'T',Tx,gas) # определим давление p1 зная Температуру Тх и то что в точке 4 насыщенный пар(Q=1)\n",
    "printAns( p1,r'p_1', 'Па')"
   ]
  },
  {
   "cell_type": "markdown",
   "metadata": {
    "collapsed": true
   },
   "source": [
    "В точке 5 температура $T_5 = T_1- \\Delta T_H$\n",
    "По известным давлениям $P_1 , P_2$ и температурам $T_1 , T_5$ определим энтальпии."
   ]
  },
  {
   "cell_type": "code",
   "execution_count": 4,
   "metadata": {},
   "outputs": [
    {
     "data": {
      "text/latex": [
       "$$T_5=285.0000K$$"
      ],
      "text/plain": [
       "<IPython.core.display.Math object>"
      ]
     },
     "metadata": {},
     "output_type": "display_data"
    },
    {
     "data": {
      "text/latex": [
       "$$h_5=295553.7560Дж/кг$$"
      ],
      "text/plain": [
       "<IPython.core.display.Math object>"
      ]
     },
     "metadata": {},
     "output_type": "display_data"
    },
    {
     "data": {
      "text/latex": [
       "$$h_{1 1}=276613.8471Дж/кг$$"
      ],
      "text/plain": [
       "<IPython.core.display.Math object>"
      ]
     },
     "metadata": {},
     "output_type": "display_data"
    },
    {
     "data": {
      "text/latex": [
       "$$h_{1 2}=271570.0545Дж/кг$$"
      ],
      "text/plain": [
       "<IPython.core.display.Math object>"
      ]
     },
     "metadata": {},
     "output_type": "display_data"
    }
   ],
   "source": [
    "T5 = T1 - deltaTn\n",
    "printAns( T5,r'T_5', 'K')\n",
    "h5 = CP.PropsSI('H', 'P', p1, 'T', T5, gas)\n",
    "h1_1 = CP.PropsSI('H', 'P', p2_1, 'T', T1, gas) # энтальпия h1 для первого варианта давления P2\n",
    "h1_2 = CP.PropsSI('H', 'P', p2_2, 'T', T1, gas)\n",
    "printAns(h5,r'h_5','Дж/кг')\n",
    "printAns(h1_1,r'h_{1 1}','Дж/кг')\n",
    "printAns(h1_2,r'h_{1 2}','Дж/кг')"
   ]
  },
  {
   "cell_type": "markdown",
   "metadata": {
    "collapsed": true
   },
   "source": [
    "Определим холодопроизводительность $q_x = (h_5 - h_1) - q_{o.c.}$ "
   ]
  },
  {
   "cell_type": "code",
   "execution_count": 5,
   "metadata": {},
   "outputs": [
    {
     "data": {
      "text/latex": [
       "$$q_{x1}=16939.9089Дж/кг$$"
      ],
      "text/plain": [
       "<IPython.core.display.Math object>"
      ]
     },
     "metadata": {},
     "output_type": "display_data"
    },
    {
     "data": {
      "text/latex": [
       "$$q_{x2}=21983.7015Дж/кг$$"
      ],
      "text/plain": [
       "<IPython.core.display.Math object>"
      ]
     },
     "metadata": {},
     "output_type": "display_data"
    }
   ],
   "source": [
    "qx_1 = (h5-h1_1) - q_oc\n",
    "qx_2 = (h5-h1_2) - q_oc\n",
    "printAns(qx_1,r'q_{x1}','Дж/кг')\n",
    "printAns(qx_2,r'q_{x2}','Дж/кг')"
   ]
  },
  {
   "cell_type": "markdown",
   "metadata": {},
   "source": [
    "Определим затрачиваемую работу( в данном случае работу сжатия ) по формуле\n",
    "\n",
    "$ l = l_{сж} = \\frac {T_1(S_6-S_1)-(h_6-h_1)}{\\eta_{из} }$\n",
    "\n",
    "Для этого определим параметры в точке 6 (1'). Энтальпия в точке 6 определяется по давлению и температуре."
   ]
  },
  {
   "cell_type": "code",
   "execution_count": 6,
   "metadata": {},
   "outputs": [
    {
     "data": {
      "text/latex": [
       "$$s_6=6819.3151Дж/кгК$$"
      ],
      "text/plain": [
       "<IPython.core.display.Math object>"
      ]
     },
     "metadata": {},
     "output_type": "display_data"
    },
    {
     "data": {
      "text/latex": [
       "$$h_6=311175.9430Дж/кг$$"
      ],
      "text/plain": [
       "<IPython.core.display.Math object>"
      ]
     },
     "metadata": {},
     "output_type": "display_data"
    },
    {
     "data": {
      "text/latex": [
       "$$s_{1 1}=4757.8830Дж/кгК$$"
      ],
      "text/plain": [
       "<IPython.core.display.Math object>"
      ]
     },
     "metadata": {},
     "output_type": "display_data"
    },
    {
     "data": {
      "text/latex": [
       "$$s_{1 2}=4952.7075Дж/кгК$$"
      ],
      "text/plain": [
       "<IPython.core.display.Math object>"
      ]
     },
     "metadata": {},
     "output_type": "display_data"
    },
    {
     "data": {
      "text/latex": [
       "$$l_1=834096.4952дж/кг$$"
      ],
      "text/plain": [
       "<IPython.core.display.Math object>"
      ]
     },
     "metadata": {},
     "output_type": "display_data"
    },
    {
     "data": {
      "text/latex": [
       "$$l_2=743394.8388дж/кг$$"
      ],
      "text/plain": [
       "<IPython.core.display.Math object>"
      ]
     },
     "metadata": {},
     "output_type": "display_data"
    }
   ],
   "source": [
    "s6=CP.PropsSI('S','P',p1,'T',T1,gas)\n",
    "h6=CP.PropsSI('H','P',p1,'T',T1,gas)\n",
    "s1_1=CP.PropsSI('S','P',p2_1,'T',T1,gas)\n",
    "s1_2=CP.PropsSI('S','P',p2_2,'T',T1,gas)\n",
    "printAns(s6,r's_6','Дж/кгК')\n",
    "printAns(h6,r'h_6','Дж/кг')\n",
    "printAns(s1_1,r's_{1 1}','Дж/кгК')\n",
    "printAns(s1_2,r's_{1 2}','Дж/кгК')\n",
    "l_1 = (T1*(s6-s1_1)-(h6-h1_1))/n\n",
    "l_2 = (T1*(s6-s1_2)-(h6-h1_2))/n\n",
    "printAns(l_1,r'l_1', 'дж/кг')\n",
    "printAns(l_2,r'l_2', 'дж/кг')"
   ]
  },
  {
   "cell_type": "markdown",
   "metadata": {},
   "source": [
    "Холодильный коэффициент: $ \\epsilon = \\frac {q_x}{l}$"
   ]
  },
  {
   "cell_type": "code",
   "execution_count": 7,
   "metadata": {},
   "outputs": [
    {
     "data": {
      "text/latex": [
       "$$\\epsilon_1=0.0203$$"
      ],
      "text/plain": [
       "<IPython.core.display.Math object>"
      ]
     },
     "metadata": {},
     "output_type": "display_data"
    },
    {
     "data": {
      "text/latex": [
       "$$\\epsilon_2=0.0296$$"
      ],
      "text/plain": [
       "<IPython.core.display.Math object>"
      ]
     },
     "metadata": {},
     "output_type": "display_data"
    }
   ],
   "source": [
    "epsilon_1 = qx_1/l_1\n",
    "epsilon_2 = qx_2/l_2\n",
    "printAns(epsilon_1,r'\\epsilon_1','')\n",
    "printAns(epsilon_2,r'\\epsilon_2','')"
   ]
  },
  {
   "cell_type": "markdown",
   "metadata": {},
   "source": [
    "Степень термодинамического совершенства: $\\eta_{T} = \\frac {\\epsilon}{\\epsilon_K}$\n",
    "\n",
    "$\\epsilon_K = \\frac {T_x}{T_1 - T_x}$"
   ]
  },
  {
   "cell_type": "code",
   "execution_count": 8,
   "metadata": {},
   "outputs": [
    {
     "data": {
      "text/latex": [
       "$$\\epsilon_K=0.3514$$"
      ],
      "text/plain": [
       "<IPython.core.display.Math object>"
      ]
     },
     "metadata": {},
     "output_type": "display_data"
    },
    {
     "name": "stdout",
     "output_type": "stream",
     "text": [
      "Степень термодинамического совершенства:\n"
     ]
    },
    {
     "data": {
      "text/latex": [
       "$$\\eta_{T 1}=0.0578$$"
      ],
      "text/plain": [
       "<IPython.core.display.Math object>"
      ]
     },
     "metadata": {},
     "output_type": "display_data"
    },
    {
     "data": {
      "text/latex": [
       "$$\\eta_{T 2}=0.0842$$"
      ],
      "text/plain": [
       "<IPython.core.display.Math object>"
      ]
     },
     "metadata": {},
     "output_type": "display_data"
    }
   ],
   "source": [
    "epsilon_K = Tx/(T1-Tx) \n",
    "printAns(epsilon_K,r'\\epsilon_K','')\n",
    "n_T_1 = epsilon_1 / epsilon_K # степень термодинамического совершенства\n",
    "n_T_2 = epsilon_2 / epsilon_K # степень термодинамического совершенства\n",
    "print(\"Степень термодинамического совершенства:\")\n",
    "printAns(n_T_1,r'\\eta_{T 1}','') \n",
    "printAns(n_T_2,r'\\eta_{T 2}','') "
   ]
  },
  {
   "cell_type": "markdown",
   "metadata": {},
   "source": [
    "### Ответ:\n",
    "Удельная холодопроизводительность:\n",
    "\n",
    "$q_x = 16939.909 Дж/кг$ для $p_2$ = 600 Бар\n",
    "\n",
    "$q_x = 21983.702 Дж/кг$ для $p_2$ = 350 Бар\n",
    "\n",
    "Холодильный коэффициент: \n",
    "\n",
    "$\\epsilon = 0.0203$ для $p_2$ = 600 Бар\n",
    "\n",
    "$\\epsilon = 0.0296$ для $p_2$ = 350 Бар\n",
    "\n",
    "Степень термодинамического совершенства: \n",
    "\n",
    "$\\eta_T = 0.0578$ для $p_2$ = 600 Бар\n",
    "\n",
    "$\\eta_T = 0.0842$ для $p_2$ = 350 Бар"
   ]
  },
  {
   "cell_type": "markdown",
   "metadata": {},
   "source": [
    "### Задача 2\n",
    "Цикл с предворительных охлаждением\n",
    "\n",
    "Дано :\n",
    "\n",
    "Ожижительный режим\n",
    "\n",
    "Газ - водород\n",
    "\n",
    "Давления: 40/10 бар\n",
    "\n",
    "Давление $p_1=1.75$ бар\n",
    "\n",
    "![POo](imgs/ПОо.jpg)"
   ]
  },
  {
   "cell_type": "code",
   "execution_count": 9,
   "metadata": {},
   "outputs": [
    {
     "data": {
      "text/latex": [
       "$$R=4122.2692Дж/(кгК)$$"
      ],
      "text/plain": [
       "<IPython.core.display.Math object>"
      ]
     },
     "metadata": {},
     "output_type": "display_data"
    }
   ],
   "source": [
    "#Дано\n",
    "gas = 'Hydrogen'\n",
    "p2_1 = 40* 10**5 #Па  ** - символ возведения в степень\n",
    "p2_2 = 10 * 10**5 #Па\n",
    "T1 = 300\n",
    "p1 = 1.75 * 10**5 # Па\n",
    "q_oc = 2 * 10**3 #дж/кг\n",
    "deltaTn = 15 # недорекуперация\n",
    "R = 8.31 / CP.PropsSI('M',gas)\n",
    "printAns(R,'R', 'Дж/(кгК)') #индивидуальная газовая постоянная\n",
    "n = 0.7 # кпд изотермический\n",
    "q_l=2.8 # Дж/Дж"
   ]
  },
  {
   "cell_type": "markdown",
   "metadata": {},
   "source": [
    "Для установок с рабочими веществами Ne, H2, He предварительное охлаждение обязательно. \n",
    "\n",
    "Для Ne, H2 используют ванну с кипящим азотом.\n",
    "\n",
    "Температура предварительного охлаждения жидким азотом 80К\n",
    "\n",
    "$\\Delta T_{H 1} = \\Delta T_{H 2} = \\Delta T_{H} $\n",
    "\n",
    "$T_3 = 80 K$ \n",
    "\n",
    "$T_7 = 80-15=65 K$\n",
    "\n",
    "По температурам $T_3, T_7$ и давлениям $p_1,p_2$ определим энтальпии $h_3,h_7$. Так же определим $h_ж$ на линии насыщения по давлению $p_1$\n",
    "\n",
    "Затем вычислим коэффициент ожижения\n",
    "\n",
    "$\\chi = \\frac { (h_7-h_3)-q_{oc}}{h_7-h_ж}$"
   ]
  },
  {
   "cell_type": "code",
   "execution_count": 10,
   "metadata": {},
   "outputs": [
    {
     "data": {
      "text/latex": [
       "$$h_{3 1}=1001350.8638Дж/кг$$"
      ],
      "text/plain": [
       "<IPython.core.display.Math object>"
      ]
     },
     "metadata": {},
     "output_type": "display_data"
    },
    {
     "data": {
      "text/latex": [
       "$$h_{3 2}=1064681.9528Дж/кг$$"
      ],
      "text/plain": [
       "<IPython.core.display.Math object>"
      ]
     },
     "metadata": {},
     "output_type": "display_data"
    },
    {
     "data": {
      "text/latex": [
       "$$h_7=923579.5573Дж/кг$$"
      ],
      "text/plain": [
       "<IPython.core.display.Math object>"
      ]
     },
     "metadata": {},
     "output_type": "display_data"
    },
    {
     "data": {
      "text/latex": [
       "$$h_ж=21418.6909Дж/кг$$"
      ],
      "text/plain": [
       "<IPython.core.display.Math object>"
      ]
     },
     "metadata": {},
     "output_type": "display_data"
    },
    {
     "data": {
      "text/latex": [
       "$$\\chi_1=-0.0884$$"
      ],
      "text/plain": [
       "<IPython.core.display.Math object>"
      ]
     },
     "metadata": {},
     "output_type": "display_data"
    },
    {
     "data": {
      "text/latex": [
       "$$\\chi_2=-0.1586$$"
      ],
      "text/plain": [
       "<IPython.core.display.Math object>"
      ]
     },
     "metadata": {},
     "output_type": "display_data"
    }
   ],
   "source": [
    "Tx = 80 # температура предварительного охлаждения\n",
    "T3 = Tx\n",
    "T7 = Tx-deltaTn\n",
    "h3_1 = CP.PropsSI('H','P',p2_1,'T',T3,gas) #энтальпия для давления p2=400\n",
    "h3_2 = CP.PropsSI('H','P',p2_2,'T',T3,gas) #энтальпия для давлдения p2 = 100\n",
    "h7 = CP.PropsSI('H','P',p1,'T',T7,gas)\n",
    "hf = CP.PropsSI('H','P',p1,'Q',0,gas)\n",
    "x_1 = (h7-h3_1-q_oc)/(h7-hf)\n",
    "x_2 = (h7-h3_2-q_oc)/(h7-hf)\n",
    "printAns(h3_1,r'h_{3 1}','Дж/кг')\n",
    "printAns(h3_2,r'h_{3 2}','Дж/кг')\n",
    "printAns(h7,r'h_7','Дж/кг')\n",
    "printAns(hf,r'h_ж','Дж/кг')\n",
    "printAns(x_1, r'\\chi_1')\n",
    "printAns(x_2, r'\\chi_2')"
   ]
  },
  {
   "cell_type": "markdown",
   "metadata": {},
   "source": [
    "Полезная холодопроизводительность меньше нуля, это происходит по причине того что тепловой эффект дросселирования отрицателен, то есть изотермическое сжатие происходит выше линии инверсии, т.е давления сжатие слишком велики для водорода. \n",
    "\n",
    "Определим необходимые параметры для дальнейшего расчета, а именно: $s_{1'},h_{1'},s_1,h_8,s_ж$\n",
    "\n",
    "$T_8=T_1-\\Delta T_H$ "
   ]
  },
  {
   "cell_type": "code",
   "execution_count": 11,
   "metadata": {},
   "outputs": [
    {
     "data": {
      "text/latex": [
       "$$T_8=285.0000K$$"
      ],
      "text/plain": [
       "<IPython.core.display.Math object>"
      ]
     },
     "metadata": {},
     "output_type": "display_data"
    },
    {
     "data": {
      "text/latex": [
       "$$s_{1'}=51209.9559Дж/кгК$$"
      ],
      "text/plain": [
       "<IPython.core.display.Math object>"
      ]
     },
     "metadata": {},
     "output_type": "display_data"
    },
    {
     "data": {
      "text/latex": [
       "$$s_{1 1}=38267.9711Дж/кгК$$"
      ],
      "text/plain": [
       "<IPython.core.display.Math object>"
      ]
     },
     "metadata": {},
     "output_type": "display_data"
    },
    {
     "data": {
      "text/latex": [
       "$$s_{1 1}=44013.2087Дж/кгК$$"
      ],
      "text/plain": [
       "<IPython.core.display.Math object>"
      ]
     },
     "metadata": {},
     "output_type": "display_data"
    },
    {
     "data": {
      "text/latex": [
       "$$h_{1'}=3958600.1431Дж/кг$$"
      ],
      "text/plain": [
       "<IPython.core.display.Math object>"
      ]
     },
     "metadata": {},
     "output_type": "display_data"
    },
    {
     "data": {
      "text/latex": [
       "$$h_{8}=3744297.4671Дж/кг$$"
      ],
      "text/plain": [
       "<IPython.core.display.Math object>"
      ]
     },
     "metadata": {},
     "output_type": "display_data"
    },
    {
     "data": {
      "text/latex": [
       "$$s_{ж}=952.6056Дж/кгК$$"
      ],
      "text/plain": [
       "<IPython.core.display.Math object>"
      ]
     },
     "metadata": {},
     "output_type": "display_data"
    }
   ],
   "source": [
    "s1_ = CP.PropsSI('S','P',p1,'T',T1,gas)\n",
    "h1_ = CP.PropsSI('H','P',p1,'T',T1,gas)\n",
    "h1_1 = CP.PropsSI('H','P',p2_1,'T',T1,gas)\n",
    "h1_2 = CP.PropsSI('H','P',p2_2,'T',T1,gas)\n",
    "s1_1 = CP.PropsSI('S','P',p2_1,'T',T1,gas)\n",
    "s1_2 = CP.PropsSI('S','P',p2_2,'T',T1,gas)\n",
    "T8 = T1-deltaTn\n",
    "printAns(T8,'T_8','K')\n",
    "h8 = CP.PropsSI('H','P',p1,'T',T8,gas)\n",
    "sf = CP.PropsSI('S','P',p1,'Q',0,gas)\n",
    "printAns(s1_,r\"s_{1'}\",'Дж/кгК')\n",
    "printAns(s1_1,r\"s_{1 1}\",'Дж/кгК')\n",
    "printAns(s1_2,r\"s_{1 1}\",'Дж/кгК')\n",
    "printAns(h1_,r\"h_{1'}\",'Дж/кг')\n",
    "printAns(h8,r\"h_{8}\",'Дж/кг')\n",
    "printAns(sf,r\"s_{ж}\",'Дж/кгК')"
   ]
  },
  {
   "cell_type": "markdown",
   "metadata": {},
   "source": [
    "Определим теплоту предварительного охлаждения \n",
    "\n",
    "$ q_{по} = (h_7-h_3)-(h_8-h_1)+\\chi \\cdot (h_8-h_7)+q_{ос} $"
   ]
  },
  {
   "cell_type": "code",
   "execution_count": 12,
   "metadata": {},
   "outputs": [
    {
     "data": {
      "text/latex": [
       "$$q_{по 1}=-93716.9358Дж/кг$$"
      ],
      "text/plain": [
       "<IPython.core.display.Math object>"
      ]
     },
     "metadata": {},
     "output_type": "display_data"
    },
    {
     "data": {
      "text/latex": [
       "$$q_{по 2}=-368622.1887Дж/кг$$"
      ],
      "text/plain": [
       "<IPython.core.display.Math object>"
      ]
     },
     "metadata": {},
     "output_type": "display_data"
    }
   ],
   "source": [
    "q_po_1 = (h7-h3_1)-(h8-h1_1)+x_1*(h8-h7)+q_oc # для первого давления p2\n",
    "q_po_2 = (h7-h3_2)-(h8-h1_2)+x_2*(h8-h7)+q_oc # для второго давления p2\n",
    "printAns(q_po_1,'q_{по 1}','Дж/кг')\n",
    "printAns(q_po_2,'q_{по 2}','Дж/кг')"
   ]
  },
  {
   "cell_type": "markdown",
   "metadata": {},
   "source": [
    "Долполнительная работа получения жидкости : $l_{доп}= \\frac {q_{по}} {q_l} $\n",
    "\n",
    "Работа сжатия : $l_{сж} = \\frac {T_1(s_{1'}-s_1)-(h_{1'}-h_1)} {\\eta_из}$\n",
    "\n",
    "Полная минимальная необходимая работа: $l = l_{сж} + l_{доп}$\n",
    "\n",
    "Затраты работы на единицу полученной жидкости : $Ne = \\frac {l_{сж}} {\\chi}$\n",
    "\n",
    "минимальная работа ожижения $l_{min} = T_1(s_{1'}-s_ж)-(h_{1'}-h_ж)$\n",
    "\n",
    "степень термодинамического совершенства : $\\eta_T = \\frac {l_{min}} {Ne}$"
   ]
  },
  {
   "cell_type": "code",
   "execution_count": 13,
   "metadata": {},
   "outputs": [
    {
     "data": {
      "text/latex": [
       "$$l_{доп 1}=-33470.3342дж/кг$$"
      ],
      "text/plain": [
       "<IPython.core.display.Math object>"
      ]
     },
     "metadata": {},
     "output_type": "display_data"
    },
    {
     "data": {
      "text/latex": [
       "$$l_{доп 2}=-131650.7817дж/кг$$"
      ],
      "text/plain": [
       "<IPython.core.display.Math object>"
      ]
     },
     "metadata": {},
     "output_type": "display_data"
    },
    {
     "data": {
      "text/latex": [
       "$$l_{сж 1}=5571088.6441дж/кг$$"
      ],
      "text/plain": [
       "<IPython.core.display.Math object>"
      ]
     },
     "metadata": {},
     "output_type": "display_data"
    },
    {
     "data": {
      "text/latex": [
       "$$l_{сж 2}=3089470.1463дж/кг$$"
      ],
      "text/plain": [
       "<IPython.core.display.Math object>"
      ]
     },
     "metadata": {},
     "output_type": "display_data"
    },
    {
     "data": {
      "text/latex": [
       "$$l_{1}=5537618.3099дж/кг$$"
      ],
      "text/plain": [
       "<IPython.core.display.Math object>"
      ]
     },
     "metadata": {},
     "output_type": "display_data"
    },
    {
     "data": {
      "text/latex": [
       "$$l_{2}=2957819.3647дж/кг$$"
      ],
      "text/plain": [
       "<IPython.core.display.Math object>"
      ]
     },
     "metadata": {},
     "output_type": "display_data"
    },
    {
     "data": {
      "text/latex": [
       "$$Ne_1=-63005338.3567дж/кг$$"
      ],
      "text/plain": [
       "<IPython.core.display.Math object>"
      ]
     },
     "metadata": {},
     "output_type": "display_data"
    },
    {
     "data": {
      "text/latex": [
       "$$Ne_2=-19476956.0231дж/кг$$"
      ],
      "text/plain": [
       "<IPython.core.display.Math object>"
      ]
     },
     "metadata": {},
     "output_type": "display_data"
    },
    {
     "data": {
      "text/latex": [
       "$$l_{min}=11140023.6424дж/кг$$"
      ],
      "text/plain": [
       "<IPython.core.display.Math object>"
      ]
     },
     "metadata": {},
     "output_type": "display_data"
    },
    {
     "data": {
      "text/latex": [
       "$$\\eta_{T 1}=-0.1768$$"
      ],
      "text/plain": [
       "<IPython.core.display.Math object>"
      ]
     },
     "metadata": {},
     "output_type": "display_data"
    },
    {
     "data": {
      "text/latex": [
       "$$\\eta_{T 2}=-0.5720$$"
      ],
      "text/plain": [
       "<IPython.core.display.Math object>"
      ]
     },
     "metadata": {},
     "output_type": "display_data"
    }
   ],
   "source": [
    "l_dop_1 = q_po_1/q_l\n",
    "l_dop_2 = q_po_2/q_l\n",
    "l_cz_1 = (T1*(s1_-s1_1)-(h1_-h1_1))/n #работа сжатия p2 = 400\n",
    "l_cz_2 = (T1*(s1_-s1_2)-(h1_-h1_2))/n #работа сжатия для p2 = 100\n",
    "l_1 = l_cz_1 + l_dop_1 \n",
    "l_2 = l_cz_2 + l_dop_2 \n",
    "Ne_1 = l_cz_1 / x_1\n",
    "Ne_2 = l_cz_2 / x_2\n",
    "l_min = T1*(s1_-sf)-(h1_-hf)\n",
    "n_T_1 = l_min/Ne_1\n",
    "n_T_2 = l_min/Ne_2\n",
    "printAns(l_dop_1,r'l_{доп 1}','дж/кг')\n",
    "printAns(l_dop_2,r'l_{доп 2}','дж/кг')\n",
    "printAns(l_cz_1,r'l_{сж 1}','дж/кг')\n",
    "printAns(l_cz_2,r'l_{сж 2}','дж/кг')\n",
    "printAns(l_1,r'l_{1}','дж/кг')\n",
    "printAns(l_2,r'l_{2}','дж/кг')\n",
    "printAns(Ne_1,r'Ne_1','дж/кг')\n",
    "printAns(Ne_2,r'Ne_2','дж/кг')\n",
    "printAns(l_min,r'l_{min}','дж/кг')\n",
    "printAns(n_T_1,r'\\eta_{T 1}')\n",
    "printAns(n_T_2,r'\\eta_{T 2}')"
   ]
  },
  {
   "cell_type": "markdown",
   "metadata": {},
   "source": [
    "### Задача 3 \n",
    "\n",
    "Дано: двойное дросселирование\n",
    "\n",
    "Ожижительный режим\n",
    "\n",
    "Газ - Азот \n",
    "\n",
    "Давления $p_2$: 400/100\n",
    "\n",
    "Давление промежуточного сжатия $p_D = 20бар$\n",
    "\n",
    "Доля циркулирующего потока $D=0.4$ \n",
    "\n",
    "p1 = 1.75 \n",
    "\n",
    "![DDo](imgs/ДДо.jpg)"
   ]
  },
  {
   "cell_type": "code",
   "execution_count": 14,
   "metadata": {},
   "outputs": [
    {
     "data": {
      "text/latex": [
       "$$R=296.6429Дж/(кгК)$$"
      ],
      "text/plain": [
       "<IPython.core.display.Math object>"
      ]
     },
     "metadata": {},
     "output_type": "display_data"
    }
   ],
   "source": [
    "#Дано \n",
    "#Дано\n",
    "gas = 'Nitrogen'\n",
    "p2_1 = 400 * 10**5 #Па  ** - символ возведения в степень\n",
    "p2_2 = 100 * 10**5 #Па\n",
    "T1 = 300\n",
    "p1 = 1.75 * 10**5 # Па\n",
    "q_oc = 2 * 10**3 #дж/кг\n",
    "deltaTn = 15 # недорекуперация\n",
    "R = 8.31 / CP.PropsSI('M',gas)\n",
    "printAns(R,'R', 'Дж/(кгК)') #индивидуальная газовая постоянная\n",
    "n = 0.7 # кпд изотермический\n",
    "p_D = 20 * 10**5 \n",
    "D = 0.4"
   ]
  },
  {
   "cell_type": "markdown",
   "metadata": {},
   "source": [
    "$T_7 = T_1 - \\Delta T_H$\n",
    "\n",
    "$T_9 = T_7$\n",
    "\n",
    "Определим основные параметры"
   ]
  },
  {
   "cell_type": "code",
   "execution_count": 15,
   "metadata": {},
   "outputs": [
    {
     "data": {
      "text/latex": [
       "$$T_7=285.0000K$$"
      ],
      "text/plain": [
       "<IPython.core.display.Math object>"
      ]
     },
     "metadata": {},
     "output_type": "display_data"
    },
    {
     "data": {
      "text/latex": [
       "$$T_9=285.0000K$$"
      ],
      "text/plain": [
       "<IPython.core.display.Math object>"
      ]
     },
     "metadata": {},
     "output_type": "display_data"
    },
    {
     "data": {
      "text/latex": [
       "$$T_6=82.3100K$$"
      ],
      "text/plain": [
       "<IPython.core.display.Math object>"
      ]
     },
     "metadata": {},
     "output_type": "display_data"
    },
    {
     "data": {
      "text/latex": [
       "$$T_8=115.5985K$$"
      ],
      "text/plain": [
       "<IPython.core.display.Math object>"
      ]
     },
     "metadata": {},
     "output_type": "display_data"
    },
    {
     "data": {
      "text/latex": [
       "$$h_{1 1}=271294.5466Дж/кг$$"
      ],
      "text/plain": [
       "<IPython.core.display.Math object>"
      ]
     },
     "metadata": {},
     "output_type": "display_data"
    },
    {
     "data": {
      "text/latex": [
       "$$h_{1 2}=291932.8706Дж/кг$$"
      ],
      "text/plain": [
       "<IPython.core.display.Math object>"
      ]
     },
     "metadata": {},
     "output_type": "display_data"
    },
    {
     "data": {
      "text/latex": [
       "$$h_{1'}=311030.9426Дж/кг$$"
      ],
      "text/plain": [
       "<IPython.core.display.Math object>"
      ]
     },
     "metadata": {},
     "output_type": "display_data"
    },
    {
     "data": {
      "text/latex": [
       "$$h_{1 ''}=307082.4361Дж/кг$$"
      ],
      "text/plain": [
       "<IPython.core.display.Math object>"
      ]
     },
     "metadata": {},
     "output_type": "display_data"
    },
    {
     "data": {
      "text/latex": [
       "$$h_{f}=-111786.9302Дж/кг$$"
      ],
      "text/plain": [
       "<IPython.core.display.Math object>"
      ]
     },
     "metadata": {},
     "output_type": "display_data"
    },
    {
     "data": {
      "text/latex": [
       "$$h_{7}=295391.7974Дж/кг$$"
      ],
      "text/plain": [
       "<IPython.core.display.Math object>"
      ]
     },
     "metadata": {},
     "output_type": "display_data"
    },
    {
     "data": {
      "text/latex": [
       "$$h_{9}=290969.8734Дж/кг$$"
      ],
      "text/plain": [
       "<IPython.core.display.Math object>"
      ]
     },
     "metadata": {},
     "output_type": "display_data"
    },
    {
     "data": {
      "text/latex": [
       "$$s_{1'}=6679.0427дж/кгK$$"
      ],
      "text/plain": [
       "<IPython.core.display.Math object>"
      ]
     },
     "metadata": {},
     "output_type": "display_data"
    },
    {
     "data": {
      "text/latex": [
       "$$s_{f}=2961.2069дж/кгK$$"
      ],
      "text/plain": [
       "<IPython.core.display.Math object>"
      ]
     },
     "metadata": {},
     "output_type": "display_data"
    },
    {
     "data": {
      "text/latex": [
       "$$Cp_{7}=1042.6955дж/кгK$$"
      ],
      "text/plain": [
       "<IPython.core.display.Math object>"
      ]
     },
     "metadata": {},
     "output_type": "display_data"
    },
    {
     "data": {
      "text/latex": [
       "$$s_{9}=1076.3584дж/кгK$$"
      ],
      "text/plain": [
       "<IPython.core.display.Math object>"
      ]
     },
     "metadata": {},
     "output_type": "display_data"
    }
   ],
   "source": [
    "T7 = T1 - deltaTn\n",
    "T9 = T7\n",
    "T6 = CP.PropsSI('T','Q',1,'P',p1,gas)\n",
    "T8 = CP.PropsSI('T','Q',1,'P',p_D,gas)\n",
    "h1_1 = CP.PropsSI('H','P',p2_1,'T',T1,gas)\n",
    "h1_2 = CP.PropsSI('H','P',p2_2,'T',T1,gas)\n",
    "s1_ = CP.PropsSI('S','P',p1,'T',T1,gas)\n",
    "h1_ = CP.PropsSI('H','P',p1,'T',T1,gas)\n",
    "h1__ = CP.PropsSI('H','P',p_D,'T',T1,gas)\n",
    "hf = CP.PropsSI('H','P',p1,'Q',0,gas)\n",
    "sf = CP.PropsSI('S','P',p1,'Q',0,gas)\n",
    "h7 = CP.PropsSI('H','P',p1,'T',T7,gas)\n",
    "h9 = CP.PropsSI('H','P',p_D,'T',T9,gas)\n",
    "Cp7 = CP.PropsSI('CPMASS', 'T',T7,'P',p1,gas)\n",
    "Cp9 = CP.PropsSI('CPMASS','T',T9,'P',p_D,gas)\n",
    "printAns(T7, r'T_7','K')\n",
    "printAns(T9, r'T_9','K')\n",
    "printAns(T6, r'T_6','K')\n",
    "printAns(T8, r'T_8','K')\n",
    "printAns(h1_1,r'h_{1 1}', 'Дж/кг')\n",
    "printAns(h1_2,r'h_{1 2}', 'Дж/кг')\n",
    "printAns(h1_,r\"h_{1'}\", 'Дж/кг')\n",
    "printAns(h1__,r\"h_{1 ''}\", 'Дж/кг')\n",
    "printAns(hf,r'h_{f}', 'Дж/кг')\n",
    "printAns(h7,r'h_{7}', 'Дж/кг')\n",
    "printAns(h9,r'h_{9}', 'Дж/кг')\n",
    "printAns(s1_,r\"s_{1'}\",'дж/кгK')\n",
    "printAns(sf,r\"s_{f}\",'дж/кгK')\n",
    "printAns(Cp7,r\"Cp_{7}\",'дж/кгK')\n",
    "printAns(Cp9,r\"s_{9}\",'дж/кгK')"
   ]
  },
  {
   "cell_type": "markdown",
   "metadata": {},
   "source": [
    "$$ \\chi = \\frac {h_{1'}-h_1 - D \\cdot (h_{1'}-h_{1''})-(Cp_7 \\cdot \\Delta T_H - D \\cdot Cp_9 \\cdot \\Delta T_H)-q_{oc}} {h_7-Cp_7 \\cdot \\Delta T_H - h_f} $$"
   ]
  },
  {
   "cell_type": "code",
   "execution_count": 16,
   "metadata": {},
   "outputs": [
    {
     "data": {
      "text/latex": [
       "$$\\chi=0.0689$$"
      ],
      "text/plain": [
       "<IPython.core.display.Math object>"
      ]
     },
     "metadata": {},
     "output_type": "display_data"
    },
    {
     "data": {
      "text/latex": [
       "$$\\chi=0.0162$$"
      ],
      "text/plain": [
       "<IPython.core.display.Math object>"
      ]
     },
     "metadata": {},
     "output_type": "display_data"
    }
   ],
   "source": [
    "x_1 = (h1_-h1_1 - D*(h1_-h1__)-(Cp7*deltaTn-D*Cp9*deltaTn)-q_oc)/(h7-Cp7*deltaTn-hf)\n",
    "x_2 = (h1_-h1_2 - D*(h1_-h1__)-(Cp7*deltaTn-D*Cp9*deltaTn)-q_oc)/(h7-Cp7*deltaTn-hf)\n",
    "printAns(x_1,'\\chi')\n",
    "printAns(x_2,'\\chi')"
   ]
  },
  {
   "cell_type": "markdown",
   "metadata": {},
   "source": [
    "Работа сжатия :\n",
    "$$ l = \\frac {(1-D)R\\cdot T1 \\cdot ln(p_D/p_1)}{\\eta_T} + \\frac {R\\cdot T1 \\cdot ln(p_2/p_D)}{\\eta_T} $$"
   ]
  },
  {
   "cell_type": "code",
   "execution_count": 17,
   "metadata": {},
   "outputs": [
    {
     "data": {
      "text/latex": [
       "$$l_1=566681.4485дж/кг$$"
      ],
      "text/plain": [
       "<IPython.core.display.Math object>"
      ]
     },
     "metadata": {},
     "output_type": "display_data"
    },
    {
     "data": {
      "text/latex": [
       "$$l_2=390438.1419дж/кг$$"
      ],
      "text/plain": [
       "<IPython.core.display.Math object>"
      ]
     },
     "metadata": {},
     "output_type": "display_data"
    }
   ],
   "source": [
    "l_1 = ((1-D)*R*T1*math.log(p_D/p1, math.e) / n) + R*T1*math.log(p2_1/p_D)/n\n",
    "l_2 = ((1-D)*R*T1*math.log(p_D/p1, math.e) / n) + R*T1*math.log(p2_2/p_D)/n\n",
    "printAns(l_1, r'l_1','дж/кг')\n",
    "printAns(l_2, r'l_2','дж/кг')"
   ]
  },
  {
   "cell_type": "markdown",
   "metadata": {},
   "source": [
    "Затраты работы на единицу полученной жидкости : $Ne = \\frac {l_{сж}} {\\chi}$\n",
    "\n",
    "минимальная работа ожижения $l_{min} = T_1(s_{1'}-s_ж)-(h_{1'}-h_ж)$\n",
    "\n",
    "степень термодинамического совершенства : $\\eta_T = \\frac {l_{min}} {Ne}$"
   ]
  },
  {
   "cell_type": "code",
   "execution_count": 18,
   "metadata": {},
   "outputs": [
    {
     "data": {
      "text/latex": [
       "$$Ne_1=8225388.8825$$"
      ],
      "text/plain": [
       "<IPython.core.display.Math object>"
      ]
     },
     "metadata": {},
     "output_type": "display_data"
    },
    {
     "data": {
      "text/latex": [
       "$$Ne_2=24125970.2422$$"
      ],
      "text/plain": [
       "<IPython.core.display.Math object>"
      ]
     },
     "metadata": {},
     "output_type": "display_data"
    },
    {
     "data": {
      "text/latex": [
       "$$l_{min}=692532.8440дж/кг$$"
      ],
      "text/plain": [
       "<IPython.core.display.Math object>"
      ]
     },
     "metadata": {},
     "output_type": "display_data"
    },
    {
     "data": {
      "text/latex": [
       "$$\\eta_{T 1}=0.0842$$"
      ],
      "text/plain": [
       "<IPython.core.display.Math object>"
      ]
     },
     "metadata": {},
     "output_type": "display_data"
    },
    {
     "data": {
      "text/latex": [
       "$$\\eta_{T 2}=0.0287$$"
      ],
      "text/plain": [
       "<IPython.core.display.Math object>"
      ]
     },
     "metadata": {},
     "output_type": "display_data"
    }
   ],
   "source": [
    "Ne_1 = l_1/x_1\n",
    "Ne_2 = l_2/x_2\n",
    "l_min = T1*(s1_-sf)-(h1_-hf)\n",
    "n_T_1 = l_min / Ne_1 \n",
    "n_T_2 = l_min / Ne_2\n",
    "printAns(Ne_1, r'Ne_1')\n",
    "printAns(Ne_2, r'Ne_2')\n",
    "printAns(l_min, r'l_{min}', 'дж/кг')\n",
    "printAns(n_T_1,r'\\eta_{T 1}')\n",
    "printAns(n_T_2,r'\\eta_{T 2}')"
   ]
  },
  {
   "cell_type": "markdown",
   "metadata": {},
   "source": [
    "### Задача 4 \n",
    "Дано : \n",
    "\n",
    "Газ R134\n",
    "\n",
    "$T_{кон} = 45 C$ \n",
    "$T_{исп} = 5 C$ \n",
    "\n",
    "![last](imgs/4.jpg)\n",
    "\n",
    "По температуре конденсации и испарения находим : $p_1, p_2,h_2,h_4, s_4$\n",
    "\n",
    "$h_3=h_2$\n",
    "\n",
    "$s_1=s_4$ \n",
    "\n",
    "По $p_1$ и $s_1$ находим $h_1$"
   ]
  },
  {
   "cell_type": "code",
   "execution_count": 19,
   "metadata": {},
   "outputs": [
    {
     "data": {
      "text/latex": [
       "$$p_1=349658.6079Па$$"
      ],
      "text/plain": [
       "<IPython.core.display.Math object>"
      ]
     },
     "metadata": {},
     "output_type": "display_data"
    },
    {
     "data": {
      "text/latex": [
       "$$p_2=1159924.2383Па$$"
      ],
      "text/plain": [
       "<IPython.core.display.Math object>"
      ]
     },
     "metadata": {},
     "output_type": "display_data"
    },
    {
     "data": {
      "text/latex": [
       "$$s_4=1724.4617дж/кгК$$"
      ],
      "text/plain": [
       "<IPython.core.display.Math object>"
      ]
     },
     "metadata": {},
     "output_type": "display_data"
    },
    {
     "data": {
      "text/latex": [
       "$$h_4=401492.2905дж/кг$$"
      ],
      "text/plain": [
       "<IPython.core.display.Math object>"
      ]
     },
     "metadata": {},
     "output_type": "display_data"
    },
    {
     "data": {
      "text/latex": [
       "$$h_2=263942.9265дж/кг$$"
      ],
      "text/plain": [
       "<IPython.core.display.Math object>"
      ]
     },
     "metadata": {},
     "output_type": "display_data"
    },
    {
     "data": {
      "text/latex": [
       "$$h_1=426395.5693дж/кг$$"
      ],
      "text/plain": [
       "<IPython.core.display.Math object>"
      ]
     },
     "metadata": {},
     "output_type": "display_data"
    }
   ],
   "source": [
    "#Дано \n",
    "Tkon = 45+273.15\n",
    "Tisp = 5 + 273.15\n",
    "gas = 'R134a'\n",
    "p1 =CP.PropsSI('P','Q',1,'T',Tisp,gas)\n",
    "p2 =CP.PropsSI('P','Q',1,'T',Tkon,gas)\n",
    "s4 =CP.PropsSI('S','Q',1,'T',Tisp,gas)\n",
    "h4 =CP.PropsSI('H','Q',1,'T',Tisp,gas)\n",
    "h2 =CP.PropsSI('H','Q',0,'T',Tkon,gas)\n",
    "s1 = s4\n",
    "h3 = h2\n",
    "h1 = CP.PropsSI('H','P',p2,'S',s1,gas)\n",
    "printAns(p1,r'p_1','Па')\n",
    "printAns(p2,r'p_2','Па')\n",
    "printAns(s4,r's_4','дж/кгК')\n",
    "printAns(h4,r'h_4','дж/кг')\n",
    "printAns(h2,r'h_2','дж/кг')\n",
    "printAns(h1,r'h_1','дж/кг')"
   ]
  },
  {
   "cell_type": "markdown",
   "metadata": {},
   "source": [
    "Расчетные формулы характеристик цикла: \n",
    "\n",
    "Работа сжатия $l_{сж} = h_1-h_4$\n",
    "\n",
    "Полезная холодопроизводительность $q_x = h_4-h_3$\n",
    "\n",
    "Холодильный коэффициент $\\epsilon = \\frac {q_x} {l_{сж}} $\n",
    "\n",
    "Холодильный коэффициент цикла карно $\\epsilon_k = \\frac {Tx}{T_T-Tx} $\n",
    "\n",
    "Степень термодинамического совершенства $\\eta_T = \\frac {\\epsilon}{\\epsilon_k}$"
   ]
  },
  {
   "cell_type": "code",
   "execution_count": 20,
   "metadata": {},
   "outputs": [
    {
     "data": {
      "text/latex": [
       "$$l_{сж}=24903.2788дж/кг$$"
      ],
      "text/plain": [
       "<IPython.core.display.Math object>"
      ]
     },
     "metadata": {},
     "output_type": "display_data"
    },
    {
     "data": {
      "text/latex": [
       "$$q_{x}=137549.3639дж/кг$$"
      ],
      "text/plain": [
       "<IPython.core.display.Math object>"
      ]
     },
     "metadata": {},
     "output_type": "display_data"
    },
    {
     "data": {
      "text/latex": [
       "$$\\epsilon=5.5233$$"
      ],
      "text/plain": [
       "<IPython.core.display.Math object>"
      ]
     },
     "metadata": {},
     "output_type": "display_data"
    },
    {
     "data": {
      "text/latex": [
       "$$\\epsilon_k=6.9537$$"
      ],
      "text/plain": [
       "<IPython.core.display.Math object>"
      ]
     },
     "metadata": {},
     "output_type": "display_data"
    },
    {
     "data": {
      "text/latex": [
       "$$\\eta_T=0.7943$$"
      ],
      "text/plain": [
       "<IPython.core.display.Math object>"
      ]
     },
     "metadata": {},
     "output_type": "display_data"
    }
   ],
   "source": [
    "l = h1-h4\n",
    "qx = h4-h3\n",
    "e = qx/l\n",
    "e_k = Tisp/(Tkon-Tisp)\n",
    "n_T = e / e_k\n",
    "printAns(l,'l_{сж}', 'дж/кг')\n",
    "printAns(qx,'q_{x}', 'дж/кг')\n",
    "printAns(e,'\\epsilon' )\n",
    "printAns(e_k,'\\epsilon_k' )\n",
    "printAns(n_T,'\\eta_T')"
   ]
  },
  {
   "cell_type": "code",
   "execution_count": null,
   "metadata": {},
   "outputs": [],
   "source": []
  }
 ],
 "metadata": {
  "kernelspec": {
   "display_name": "Python 3",
   "language": "python",
   "name": "python3"
  },
  "language_info": {
   "codemirror_mode": {
    "name": "ipython",
    "version": 3
   },
   "file_extension": ".py",
   "mimetype": "text/x-python",
   "name": "python",
   "nbconvert_exporter": "python",
   "pygments_lexer": "ipython3",
   "version": "3.6.3"
  }
 },
 "nbformat": 4,
 "nbformat_minor": 1
}
