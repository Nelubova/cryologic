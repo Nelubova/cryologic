{
 "cells": [
  {
   "cell_type": "markdown",
   "metadata": {},
   "source": [
    "# <center>Домашнее задание №2 по курсу \"Научные основы криологии\"</center>\n",
    "### <center>Расчет основных характеристик дроссельных циклов</center>"
   ]
  },
  {
   "cell_type": "markdown",
   "metadata": {},
   "source": [
    "Для каждого из первых трёх заданных дроссельных циклов провести \n",
    "расчет двух режимов работы при заданных в таблице параметрах. Контроль \n",
    "правильности  расчетов  проводится:  для  рефрижераторных  циклов -по \n",
    "удельной  холодопроизводительности,  холодильному  коэффиц\n",
    "иенту  и \n",
    "степени  термодинамического  совершенства  цикла;  для  ожижительных \n",
    "циклов -по коэффициенту ожижения, затратам энергии для получения \n",
    "1кг\n",
    "жидкого  продукта  и  степени  термодинамического  совершенства.  Для \n",
    "четвёртого цикла необходимо определить  следующие  у\n",
    "дельные  величины: \n",
    "работу цикла, теплоту конденсации,  полезную холодопроизводительность, \n",
    "холодильный коэффициент и степень термодинамического совершенства. \n",
    "По результатам работы составить отчет, включающий задание, порядок \n",
    "и результаты расчета, схему кажд\n",
    "ого цикла с обозначениями изображением в \n",
    "T-S-диаграмме процессов цикла. Отчет должен содержать также результаты \n",
    "оптимизации первых трёх циклов для определения максимальных значений \n",
    "степени термодинамического совершенства, значения температур, давлений, \n",
    "энтальпий для pасчетных pежимов pаботы.\n",
    "\n",
    "Дополнительные данные: \n",
    "- недорекуперация в теплообменниках $\\Delta T_H$ равна 15К\n",
    "- внешний теплоприток $q_{o.c.} = 2 кДж/кг$;\n",
    "- температура изотермического сжатия в компрессоре $Т_1=300K$\n",
    "- изотермический КПД компрессоров 0.7\n",
    "\n",
    "Для цикла с предварительным охлаждением дополнительно задано:\n",
    "- температура предварительного охлаждения для -250 К, (хладагент аммиак)\n",
    "- холодопроизводительность  в  дополнительном  цикле  на  единицу затрат работы $q_l = 2.8$ Дж\"холода\"/Дж\"работы\"\n",
    "\n",
    "В  цикле  с  двойным  дросселированием  и  циркуляцией  части  потока дополнительно задано:\n",
    "- Давление промежуточного сжатия $p_D$\n",
    "- доля циркулирующего потока D"
   ]
  },
  {
   "cell_type": "code",
   "execution_count": null,
   "metadata": {
    "collapsed": true
   },
   "outputs": [],
   "source": [
    "# Подключение необходимых библиотек и настройка окружения\n",
    "import CoolProp.CoolProp as CP\n",
    "import math\n",
    "import CoolProp\n",
    "from CoolProp.Plots import PropertyPlot\n",
    "import matplotlib.pyplot as plt\n",
    "from CoolProp.Plots.SimpleCycles import StateContainer\n",
    "import warnings\n",
    "warnings.filterwarnings('ignore')\n",
    "import matplotlib.pyplot as plt\n",
    "plt.rcParams[\"figure.figsize\"] = (9,9) #размер графиков (в дюймах)"
   ]
  },
  {
   "cell_type": "markdown",
   "metadata": {},
   "source": [
    "### Задача 1\n",
    "Дано: ПД; газ - Азот, давление 600/350;\n",
    "#### Рефрижераторный режим."
   ]
  },
  {
   "cell_type": "code",
   "execution_count": null,
   "metadata": {
    "collapsed": true
   },
   "outputs": [],
   "source": [
    "#Дано\n",
    "p2_1 = 600 * 10**5\n",
    "p2_2 = 350 * 10**5\n",
    "gas = 'Nitrogen'\n",
    "Tx = 78\n",
    "q_oc = 2 * 10**3 #дж/кг\n",
    "deltaTn = 15 # недорекуперация"
   ]
  },
  {
   "cell_type": "code",
   "execution_count": null,
   "metadata": {
    "collapsed": true
   },
   "outputs": [],
   "source": [
    "p1 = CP.PropsSI('P','Q',1,'T',Tx,gas) # определим давление p1 зная Температуру Тх и то что в точке 4 насыщенный пар(Q - mass vapor quality)"
   ]
  },
  {
   "cell_type": "code",
   "execution_count": null,
   "metadata": {
    "collapsed": true
   },
   "outputs": [],
   "source": []
  },
  {
   "cell_type": "code",
   "execution_count": null,
   "metadata": {
    "collapsed": true
   },
   "outputs": [],
   "source": []
  },
  {
   "cell_type": "code",
   "execution_count": null,
   "metadata": {
    "collapsed": true
   },
   "outputs": [],
   "source": []
  },
  {
   "cell_type": "code",
   "execution_count": null,
   "metadata": {
    "collapsed": true
   },
   "outputs": [],
   "source": []
  }
 ],
 "metadata": {
  "kernelspec": {
   "display_name": "Python 3",
   "language": "python",
   "name": "python3"
  },
  "language_info": {
   "codemirror_mode": {
    "name": "ipython",
    "version": 3
   },
   "file_extension": ".py",
   "mimetype": "text/x-python",
   "name": "python",
   "nbconvert_exporter": "python",
   "pygments_lexer": "ipython3",
   "version": "3.6.2"
  }
 },
 "nbformat": 4,
 "nbformat_minor": 2
}
