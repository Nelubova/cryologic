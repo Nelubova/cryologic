{
 "cells": [
  {
   "cell_type": "markdown",
   "metadata": {},
   "source": [
    "# <center>Домашнее задание №2 по курсу \"Научные основы криологии\"</center>\n",
    "### <center>Расчет основных характеристик дроссельных циклов</center>"
   ]
  },
  {
   "cell_type": "markdown",
   "metadata": {},
   "source": [
    "Для каждого из первых трёх заданных дроссельных циклов провести \n",
    "расчет двух режимов работы при заданных в таблице параметрах. Контроль \n",
    "правильности  расчетов  проводится:  для  рефрижераторных  циклов -по \n",
    "удельной  холодопроизводительности,  холодильному  коэффиц\n",
    "иенту  и \n",
    "степени  термодинамического  совершенства  цикла;  для  ожижительных \n",
    "циклов -по коэффициенту ожижения, затратам энергии для получения \n",
    "1кг\n",
    "жидкого  продукта  и  степени  термодинамического  совершенства.  Для \n",
    "четвёртого цикла необходимо определить  следующие  у\n",
    "дельные  величины: \n",
    "работу цикла, теплоту конденсации,  полезную холодопроизводительность, \n",
    "холодильный коэффициент и степень термодинамического совершенства. \n",
    "По результатам работы составить отчет, включающий задание, порядок \n",
    "и результаты расчета, схему кажд\n",
    "ого цикла с обозначениями изображением в \n",
    "T-S-диаграмме процессов цикла. Отчет должен содержать также результаты \n",
    "оптимизации первых трёх циклов для определения максимальных значений \n",
    "степени термодинамического совершенства, значения температур, давлений, \n",
    "энтальпий для pасчетных pежимов pаботы.\n",
    "\n",
    "Дополнительные данные: \n",
    "- недорекуперация в теплообменниках $\\Delta T_H$ равна 15К\n",
    "- внешний теплоприток $q_{o.c.} = 2 кДж/кг$;\n",
    "- температура изотермического сжатия в компрессоре $Т_1=300K$\n",
    "- изотермический КПД компрессоров 0.7\n",
    "\n",
    "Для цикла с предварительным охлаждением дополнительно задано:\n",
    "- температура предварительного охлаждения для -250 К, (хладагент аммиак)\n",
    "- холодопроизводительность  в  дополнительном  цикле  на  единицу затрат работы $q_l = 2.8$ Дж\"холода\"/Дж\"работы\"\n",
    "\n",
    "В  цикле  с  двойным  дросселированием  и  циркуляцией  части  потока дополнительно задано:\n",
    "- Давление промежуточного сжатия $p_D$\n",
    "- доля циркулирующего потока D"
   ]
  },
  {
   "cell_type": "code",
   "execution_count": 1,
   "metadata": {},
   "outputs": [],
   "source": [
    "# Подключение необходимых библиотек и настройка окружения\n",
    "import CoolProp.CoolProp as CP\n",
    "import math\n",
    "import CoolProp\n",
    "from CoolProp.Plots import PropertyPlot\n",
    "import matplotlib.pyplot as plt\n",
    "from CoolProp.Plots.SimpleCycles import StateContainer\n",
    "import warnings\n",
    "warnings.filterwarnings('ignore')\n",
    "import matplotlib.pyplot as plt\n",
    "plt.rcParams[\"figure.figsize\"] = (9,9) #размер графиков (в дюймах)\n",
    "from IPython.display import display, Math, Latex, HTML\n",
    "def printAns(obj,name,razmer=''): # вспомогательная функция для вывода значений\n",
    "    display(Math(name+r'='+('%.4f' % obj)+razmer))"
   ]
  },
  {
   "cell_type": "markdown",
   "metadata": {},
   "source": [
    "### Задача 1\n",
    "Дано: ПД; газ - Азот, давление 600/350;\n",
    "\n",
    "*Далее второй нижний индекс указывает на то, для какого давления вычислено*\n",
    "\n",
    "*Прим: $h_{12}$ - энтальпия в точке 1 для давления $p_2=350$*\n",
    "#### Рефрижераторный режим."
   ]
  },
  {
   "cell_type": "code",
   "execution_count": 2,
   "metadata": {},
   "outputs": [
    {
     "data": {
      "text/latex": [
       "$$R=286.8934Дж/(кгК)$$"
      ],
      "text/plain": [
       "<IPython.core.display.Math object>"
      ]
     },
     "metadata": {},
     "output_type": "display_data"
    }
   ],
   "source": [
    "#Дано\n",
    "p2_1 = 650 * 10**5 #Па\n",
    "p2_2 = 300 * 10**5 #Па\n",
    "gas = 'Air'\n",
    "Tx = 82 # для рефрежираторного режима\n",
    "T1 = 300\n",
    "q_oc = 2 * 10**3 #дж/кг\n",
    "deltaTn = 15 # недорекуперация\n",
    "R = 8.31 / CP.PropsSI('M',gas)\n",
    "printAns(R,'R', 'Дж/(кгК)') #индивидуальная газовая постоянная\n",
    "n = 0.7 # кпд изотермический"
   ]
  },
  {
   "cell_type": "markdown",
   "metadata": {},
   "source": [
    "![PDr](imgs/ПДр.jpg)\n",
    "Определим давление $P_1$. \n",
    "Так как точка 4 располагается на кривой насыщенного пара и температура в ней известна (Tx) можно определить давление.\n",
    "По температуре $T_x$ определяем давление насыщенного пара $P_1$"
   ]
  },
  {
   "cell_type": "code",
   "execution_count": 3,
   "metadata": {},
   "outputs": [
    {
     "data": {
      "text/latex": [
       "$$p_1=104710.8198Па$$"
      ],
      "text/plain": [
       "<IPython.core.display.Math object>"
      ]
     },
     "metadata": {},
     "output_type": "display_data"
    }
   ],
   "source": [
    "p1 = CP.PropsSI('P','Q',1,'T',Tx,gas) # определим давление p1 зная Температуру Тх и то что в точке 4 насыщенный пар(Q=1)\n",
    "printAns( p1,r'p_1', 'Па')"
   ]
  },
  {
   "cell_type": "markdown",
   "metadata": {
    "collapsed": true
   },
   "source": [
    "В точке 5 температура $T_5 = T_1- \\Delta T_H$\n",
    "По известным давлениям $P_1 , P_2$ и температурам $T_1 , T_5$ определим энтальпии."
   ]
  },
  {
   "cell_type": "code",
   "execution_count": 4,
   "metadata": {},
   "outputs": [
    {
     "data": {
      "text/latex": [
       "$$T_5=285.0000K$$"
      ],
      "text/plain": [
       "<IPython.core.display.Math object>"
      ]
     },
     "metadata": {},
     "output_type": "display_data"
    },
    {
     "data": {
      "text/latex": [
       "$$h_5=411197.2791Дж/кг$$"
      ],
      "text/plain": [
       "<IPython.core.display.Math object>"
      ]
     },
     "metadata": {},
     "output_type": "display_data"
    },
    {
     "data": {
      "text/latex": [
       "$$h_{1 1}=386586.3867Дж/кг$$"
      ],
      "text/plain": [
       "<IPython.core.display.Math object>"
      ]
     },
     "metadata": {},
     "output_type": "display_data"
    },
    {
     "data": {
      "text/latex": [
       "$$h_{1 2}=384124.6084Дж/кг$$"
      ],
      "text/plain": [
       "<IPython.core.display.Math object>"
      ]
     },
     "metadata": {},
     "output_type": "display_data"
    }
   ],
   "source": [
    "T5 = T1 - deltaTn\n",
    "printAns( T5,r'T_5', 'K')\n",
    "h5 = CP.PropsSI('H', 'P', p1, 'T', T5, gas)\n",
    "h1_1 = CP.PropsSI('H', 'P', p2_1, 'T', T1, gas) # энтальпия h1 для первого варианта давления P2\n",
    "h1_2 = CP.PropsSI('H', 'P', p2_2, 'T', T1, gas)\n",
    "printAns(h5,r'h_5','Дж/кг')\n",
    "printAns(h1_1,r'h_{1 1}','Дж/кг')\n",
    "printAns(h1_2,r'h_{1 2}','Дж/кг')"
   ]
  },
  {
   "cell_type": "markdown",
   "metadata": {
    "collapsed": true
   },
   "source": [
    "Определим холодопроизводительность $q_x = (h_5 - h_1) - q_{o.c.}$ "
   ]
  },
  {
   "cell_type": "code",
   "execution_count": 5,
   "metadata": {},
   "outputs": [
    {
     "data": {
      "text/latex": [
       "$$q_{x1}=22610.8924Дж/кг$$"
      ],
      "text/plain": [
       "<IPython.core.display.Math object>"
      ]
     },
     "metadata": {},
     "output_type": "display_data"
    },
    {
     "data": {
      "text/latex": [
       "$$q_{x2}=25072.6707Дж/кг$$"
      ],
      "text/plain": [
       "<IPython.core.display.Math object>"
      ]
     },
     "metadata": {},
     "output_type": "display_data"
    }
   ],
   "source": [
    "qx_1 = (h5-h1_1) - q_oc\n",
    "qx_2 = (h5-h1_2) - q_oc\n",
    "printAns(qx_1,r'q_{x1}','Дж/кг')\n",
    "printAns(qx_2,r'q_{x2}','Дж/кг')"
   ]
  },
  {
   "cell_type": "markdown",
   "metadata": {},
   "source": [
    "Определим затрачиваемую работу( в данном случае работу сжатия ) по формуле\n",
    "\n",
    "$ l = l_{сж} = \\frac {T_1(S_6-S_1)-(h_6-h_1)}{\\eta_{из} }$\n",
    "\n",
    "Для этого определим параметры в точке 6 (1'). Энтальпия в точке 6 определяется по давлению и температуре."
   ]
  },
  {
   "cell_type": "code",
   "execution_count": 6,
   "metadata": {},
   "outputs": [
    {
     "data": {
      "text/latex": [
       "$$s_6=3877.2565Дж/кгК$$"
      ],
      "text/plain": [
       "<IPython.core.display.Math object>"
      ]
     },
     "metadata": {},
     "output_type": "display_data"
    },
    {
     "data": {
      "text/latex": [
       "$$h_6=426290.1050Дж/кг$$"
      ],
      "text/plain": [
       "<IPython.core.display.Math object>"
      ]
     },
     "metadata": {},
     "output_type": "display_data"
    },
    {
     "data": {
      "text/latex": [
       "$$s_{1 1}=1836.0297Дж/кгК$$"
      ],
      "text/plain": [
       "<IPython.core.display.Math object>"
      ]
     },
     "metadata": {},
     "output_type": "display_data"
    },
    {
     "data": {
      "text/latex": [
       "$$s_{1 2}=2108.9911Дж/кгК$$"
      ],
      "text/plain": [
       "<IPython.core.display.Math object>"
      ]
     },
     "metadata": {},
     "output_type": "display_data"
    },
    {
     "data": {
      "text/latex": [
       "$$l_1=818091.8618дж/кг$$"
      ],
      "text/plain": [
       "<IPython.core.display.Math object>"
      ]
     },
     "metadata": {},
     "output_type": "display_data"
    },
    {
     "data": {
      "text/latex": [
       "$$l_2=697591.6042дж/кг$$"
      ],
      "text/plain": [
       "<IPython.core.display.Math object>"
      ]
     },
     "metadata": {},
     "output_type": "display_data"
    }
   ],
   "source": [
    "s6=CP.PropsSI('S','P',p1,'T',T1,gas)\n",
    "h6=CP.PropsSI('H','P',p1,'T',T1,gas)\n",
    "s1_1=CP.PropsSI('S','P',p2_1,'T',T1,gas)\n",
    "s1_2=CP.PropsSI('S','P',p2_2,'T',T1,gas)\n",
    "printAns(s6,r's_6','Дж/кгК')\n",
    "printAns(h6,r'h_6','Дж/кг')\n",
    "printAns(s1_1,r's_{1 1}','Дж/кгК')\n",
    "printAns(s1_2,r's_{1 2}','Дж/кгК')\n",
    "l_1 = (T1*(s6-s1_1)-(h6-h1_1))/n\n",
    "l_2 = (T1*(s6-s1_2)-(h6-h1_2))/n\n",
    "printAns(l_1,r'l_1', 'дж/кг')\n",
    "printAns(l_2,r'l_2', 'дж/кг')"
   ]
  },
  {
   "cell_type": "markdown",
   "metadata": {},
   "source": [
    "Холодильный коэффициент: $ \\epsilon = \\frac {q_x}{l}$"
   ]
  },
  {
   "cell_type": "code",
   "execution_count": 7,
   "metadata": {},
   "outputs": [
    {
     "data": {
      "text/latex": [
       "$$\\epsilon_1=0.0276$$"
      ],
      "text/plain": [
       "<IPython.core.display.Math object>"
      ]
     },
     "metadata": {},
     "output_type": "display_data"
    },
    {
     "data": {
      "text/latex": [
       "$$\\epsilon_2=0.0359$$"
      ],
      "text/plain": [
       "<IPython.core.display.Math object>"
      ]
     },
     "metadata": {},
     "output_type": "display_data"
    }
   ],
   "source": [
    "epsilon_1 = qx_1/l_1\n",
    "epsilon_2 = qx_2/l_2\n",
    "printAns(epsilon_1,r'\\epsilon_1','')\n",
    "printAns(epsilon_2,r'\\epsilon_2','')"
   ]
  },
  {
   "cell_type": "markdown",
   "metadata": {},
   "source": [
    "Степень термодинамического совершенства: $\\eta_{T} = \\frac {\\epsilon}{\\epsilon_K}$\n",
    "\n",
    "$\\epsilon_K = \\frac {T_x}{T_1 - T_x}$"
   ]
  },
  {
   "cell_type": "code",
   "execution_count": 8,
   "metadata": {},
   "outputs": [
    {
     "data": {
      "text/latex": [
       "$$\\epsilon_K=0.3761$$"
      ],
      "text/plain": [
       "<IPython.core.display.Math object>"
      ]
     },
     "metadata": {},
     "output_type": "display_data"
    },
    {
     "name": "stdout",
     "output_type": "stream",
     "text": [
      "Степень термодинамического совершенства:\n"
     ]
    },
    {
     "data": {
      "text/latex": [
       "$$\\eta_{T 1}=0.0735$$"
      ],
      "text/plain": [
       "<IPython.core.display.Math object>"
      ]
     },
     "metadata": {},
     "output_type": "display_data"
    },
    {
     "data": {
      "text/latex": [
       "$$\\eta_{T 2}=0.0956$$"
      ],
      "text/plain": [
       "<IPython.core.display.Math object>"
      ]
     },
     "metadata": {},
     "output_type": "display_data"
    }
   ],
   "source": [
    "epsilon_K = Tx/(T1-Tx) \n",
    "printAns(epsilon_K,r'\\epsilon_K','')\n",
    "n_T_1 = epsilon_1 / epsilon_K # степень термодинамического совершенства\n",
    "n_T_2 = epsilon_2 / epsilon_K # степень термодинамического совершенства\n",
    "print(\"Степень термодинамического совершенства:\")\n",
    "printAns(n_T_1,r'\\eta_{T 1}','') \n",
    "printAns(n_T_2,r'\\eta_{T 2}','') "
   ]
  },
  {
   "cell_type": "markdown",
   "metadata": {},
   "source": [
    "### Ответ:\n",
    "Удельная холодопроизводительность:\n",
    "\n",
    "$q_x = 16939.909 Дж/кг$ для $p_2$ = 600 Бар\n",
    "\n",
    "$q_x = 21983.702 Дж/кг$ для $p_2$ = 350 Бар\n",
    "\n",
    "Холодильный коэффициент: \n",
    "\n",
    "$\\epsilon = 0.0203$ для $p_2$ = 600 Бар\n",
    "\n",
    "$\\epsilon = 0.0296$ для $p_2$ = 350 Бар\n",
    "\n",
    "Степень термодинамического совершенства: \n",
    "\n",
    "$\\eta_T = 0.0578$ для $p_2$ = 600 Бар\n",
    "\n",
    "$\\eta_T = 0.0842$ для $p_2$ = 350 Бар"
   ]
  },
  {
   "cell_type": "markdown",
   "metadata": {},
   "source": [
    "### Задача 2\n",
    "Цикл с предворительных охлаждением\n",
    "\n",
    "Дано :\n",
    "\n",
    "Ожижительный режим\n",
    "\n",
    "Газ - водород\n",
    "\n",
    "Давления: 40/10 бар\n",
    "\n",
    "Давление $p_1=1.75$ бар\n",
    "\n",
    "![POo](imgs/ПОо.jpg)"
   ]
  },
  {
   "cell_type": "code",
   "execution_count": 9,
   "metadata": {},
   "outputs": [
    {
     "data": {
      "text/latex": [
       "$$R=411.8143Дж/(кгК)$$"
      ],
      "text/plain": [
       "<IPython.core.display.Math object>"
      ]
     },
     "metadata": {},
     "output_type": "display_data"
    }
   ],
   "source": [
    "#Дано\n",
    "gas = 'Neon'\n",
    "p2_1 = 430* 10**5 #Па  ** - символ возведения в степень\n",
    "p2_2 = 250 * 10**5 #Па\n",
    "T1 = 300\n",
    "p1 = 1.25 * 10**5 # Па\n",
    "q_oc = 2 * 10**3 #дж/кг\n",
    "deltaTn = 15 # недорекуперация\n",
    "R = 8.31 / CP.PropsSI('M',gas)\n",
    "printAns(R,'R', 'Дж/(кгК)') #индивидуальная газовая постоянная\n",
    "n = 0.7 # кпд изотермический\n",
    "q_l=2.8 # Дж/Дж"
   ]
  },
  {
   "cell_type": "markdown",
   "metadata": {},
   "source": [
    "Для установок с рабочими веществами Ne, H2, He предварительное охлаждение обязательно. \n",
    "\n",
    "Для Ne, H2 используют ванну с кипящим азотом.\n",
    "\n",
    "Температура предварительного охлаждения жидким азотом 80К\n",
    "\n",
    "$\\Delta T_{H 1} = \\Delta T_{H 2} = \\Delta T_{H} $\n",
    "\n",
    "$T_3 = 80 K$ \n",
    "\n",
    "$T_7 = 80-15=65 K$\n",
    "\n",
    "По температурам $T_3, T_7$ и давлениям $p_1,p_2$ определим энтальпии $h_3,h_7$. Так же определим $h_ж$ на линии насыщения по давлению $p_1$\n",
    "\n",
    "Затем вычислим коэффициент ожижения\n",
    "\n",
    "$\\chi = \\frac { (h_7-h_3)-q_{oc}}{h_7-h_ж}$"
   ]
  },
  {
   "cell_type": "code",
   "execution_count": 10,
   "metadata": {},
   "outputs": [
    {
     "data": {
      "text/latex": [
       "$$h_{3 1}=110963.4011Дж/кг$$"
      ],
      "text/plain": [
       "<IPython.core.display.Math object>"
      ]
     },
     "metadata": {},
     "output_type": "display_data"
    },
    {
     "data": {
      "text/latex": [
       "$$h_{3 2}=108023.8276Дж/кг$$"
      ],
      "text/plain": [
       "<IPython.core.display.Math object>"
      ]
     },
     "metadata": {},
     "output_type": "display_data"
    },
    {
     "data": {
      "text/latex": [
       "$$h_7=126140.1073Дж/кг$$"
      ],
      "text/plain": [
       "<IPython.core.display.Math object>"
      ]
     },
     "metadata": {},
     "output_type": "display_data"
    },
    {
     "data": {
      "text/latex": [
       "$$h_ж=1350.1932Дж/кг$$"
      ],
      "text/plain": [
       "<IPython.core.display.Math object>"
      ]
     },
     "metadata": {},
     "output_type": "display_data"
    },
    {
     "data": {
      "text/latex": [
       "$$\\chi_1=0.1056$$"
      ],
      "text/plain": [
       "<IPython.core.display.Math object>"
      ]
     },
     "metadata": {},
     "output_type": "display_data"
    },
    {
     "data": {
      "text/latex": [
       "$$\\chi_2=0.1291$$"
      ],
      "text/plain": [
       "<IPython.core.display.Math object>"
      ]
     },
     "metadata": {},
     "output_type": "display_data"
    }
   ],
   "source": [
    "Tx = 80 # температура предварительного охлаждения\n",
    "T3 = Tx\n",
    "T7 = Tx-deltaTn\n",
    "h3_1 = CP.PropsSI('H','P',p2_1,'T',T3,gas) #энтальпия для давления p2=400\n",
    "h3_2 = CP.PropsSI('H','P',p2_2,'T',T3,gas) #энтальпия для давлдения p2 = 100\n",
    "h7 = CP.PropsSI('H','P',p1,'T',T7,gas)\n",
    "hf = CP.PropsSI('H','P',p1,'Q',0,gas)\n",
    "x_1 = (h7-h3_1-q_oc)/(h7-hf)\n",
    "x_2 = (h7-h3_2-q_oc)/(h7-hf)\n",
    "printAns(h3_1,r'h_{3 1}','Дж/кг')\n",
    "printAns(h3_2,r'h_{3 2}','Дж/кг')\n",
    "printAns(h7,r'h_7','Дж/кг')\n",
    "printAns(hf,r'h_ж','Дж/кг')\n",
    "printAns(x_1, r'\\chi_1')\n",
    "printAns(x_2, r'\\chi_2')"
   ]
  },
  {
   "cell_type": "markdown",
   "metadata": {},
   "source": [
    "\n",
    "\n",
    "Определим необходимые параметры для дальнейшего расчета, а именно: $s_{1'},h_{1'},s_1,h_8,s_ж$\n",
    "\n",
    "$T_8=T_1-\\Delta T_H$ "
   ]
  },
  {
   "cell_type": "code",
   "execution_count": 11,
   "metadata": {},
   "outputs": [
    {
     "data": {
      "text/latex": [
       "$$T_8=285.0000K$$"
      ],
      "text/plain": [
       "<IPython.core.display.Math object>"
      ]
     },
     "metadata": {},
     "output_type": "display_data"
    },
    {
     "data": {
      "text/latex": [
       "$$s_{1'}=5598.9730Дж/кгК$$"
      ],
      "text/plain": [
       "<IPython.core.display.Math object>"
      ]
     },
     "metadata": {},
     "output_type": "display_data"
    },
    {
     "data": {
      "text/latex": [
       "$$s_{1 1}=3164.1644Дж/кгК$$"
      ],
      "text/plain": [
       "<IPython.core.display.Math object>"
      ]
     },
     "metadata": {},
     "output_type": "display_data"
    },
    {
     "data": {
      "text/latex": [
       "$$s_{1 1}=3397.2755Дж/кгК$$"
      ],
      "text/plain": [
       "<IPython.core.display.Math object>"
      ]
     },
     "metadata": {},
     "output_type": "display_data"
    },
    {
     "data": {
      "text/latex": [
       "$$h_{1'}=368686.4959Дж/кг$$"
      ],
      "text/plain": [
       "<IPython.core.display.Math object>"
      ]
     },
     "metadata": {},
     "output_type": "display_data"
    },
    {
     "data": {
      "text/latex": [
       "$$h_{8}=353229.9106Дж/кг$$"
      ],
      "text/plain": [
       "<IPython.core.display.Math object>"
      ]
     },
     "metadata": {},
     "output_type": "display_data"
    },
    {
     "data": {
      "text/latex": [
       "$$s_{ж}=48.4495Дж/кгК$$"
      ],
      "text/plain": [
       "<IPython.core.display.Math object>"
      ]
     },
     "metadata": {},
     "output_type": "display_data"
    }
   ],
   "source": [
    "s1_ = CP.PropsSI('S','P',p1,'T',T1,gas)\n",
    "h1_ = CP.PropsSI('H','P',p1,'T',T1,gas)\n",
    "h1_1 = CP.PropsSI('H','P',p2_1,'T',T1,gas)\n",
    "h1_2 = CP.PropsSI('H','P',p2_2,'T',T1,gas)\n",
    "s1_1 = CP.PropsSI('S','P',p2_1,'T',T1,gas)\n",
    "s1_2 = CP.PropsSI('S','P',p2_2,'T',T1,gas)\n",
    "T8 = T1-deltaTn\n",
    "printAns(T8,'T_8','K')\n",
    "h8 = CP.PropsSI('H','P',p1,'T',T8,gas)\n",
    "sf = CP.PropsSI('S','P',p1,'Q',0,gas)\n",
    "printAns(s1_,r\"s_{1'}\",'Дж/кгК')\n",
    "printAns(s1_1,r\"s_{1 1}\",'Дж/кгК')\n",
    "printAns(s1_2,r\"s_{1 1}\",'Дж/кгК')\n",
    "printAns(h1_,r\"h_{1'}\",'Дж/кг')\n",
    "printAns(h8,r\"h_{8}\",'Дж/кг')\n",
    "printAns(sf,r\"s_{ж}\",'Дж/кгК')"
   ]
  },
  {
   "cell_type": "markdown",
   "metadata": {},
   "source": [
    "Определим теплоту предварительного охлаждения \n",
    "\n",
    "$ q_{по} = (h_7-h_3)-(h_8-h_1)+\\chi \\cdot (h_8-h_7)+q_{ос} $"
   ]
  },
  {
   "cell_type": "code",
   "execution_count": 12,
   "metadata": {},
   "outputs": [
    {
     "data": {
      "text/latex": [
       "$$q_{по 1}=74012.3764Дж/кг$$"
      ],
      "text/plain": [
       "<IPython.core.display.Math object>"
      ]
     },
     "metadata": {},
     "output_type": "display_data"
    },
    {
     "data": {
      "text/latex": [
       "$$q_{по 2}=74136.3246Дж/кг$$"
      ],
      "text/plain": [
       "<IPython.core.display.Math object>"
      ]
     },
     "metadata": {},
     "output_type": "display_data"
    }
   ],
   "source": [
    "q_po_1 = (h7-h3_1)-(h8-h1_1)+x_1*(h8-h7)+q_oc # для первого давления p2\n",
    "q_po_2 = (h7-h3_2)-(h8-h1_2)+x_2*(h8-h7)+q_oc # для второго давления p2\n",
    "printAns(q_po_1,'q_{по 1}','Дж/кг')\n",
    "printAns(q_po_2,'q_{по 2}','Дж/кг')"
   ]
  },
  {
   "cell_type": "markdown",
   "metadata": {},
   "source": [
    "Долполнительная работа получения жидкости : $l_{доп}= \\frac {q_{по}} {q_l} $\n",
    "\n",
    "Работа сжатия : $l_{сж} = \\frac {T_1(s_{1'}-s_1)-(h_{1'}-h_1)} {\\eta_из}$\n",
    "\n",
    "Полная минимальная необходимая работа: $l = l_{сж} + l_{доп}$\n",
    "\n",
    "Затраты работы на единицу полученной жидкости : $Ne = \\frac {l_{сж}} {\\chi}$\n",
    "\n",
    "минимальная работа ожижения $l_{min} = T_1(s_{1'}-s_ж)-(h_{1'}-h_ж)$\n",
    "\n",
    "степень термодинамического совершенства : $\\eta_T = \\frac {l_{min}} {Ne}$"
   ]
  },
  {
   "cell_type": "code",
   "execution_count": 13,
   "metadata": {},
   "outputs": [
    {
     "data": {
      "text/latex": [
       "$$l_{доп 1}=26432.9916дж/кг$$"
      ],
      "text/plain": [
       "<IPython.core.display.Math object>"
      ]
     },
     "metadata": {},
     "output_type": "display_data"
    },
    {
     "data": {
      "text/latex": [
       "$$l_{доп 2}=26477.2588дж/кг$$"
      ],
      "text/plain": [
       "<IPython.core.display.Math object>"
      ]
     },
     "metadata": {},
     "output_type": "display_data"
    },
    {
     "data": {
      "text/latex": [
       "$$l_{сж 1}=1068347.1506дж/кг$$"
      ],
      "text/plain": [
       "<IPython.core.display.Math object>"
      ]
     },
     "metadata": {},
     "output_type": "display_data"
    },
    {
     "data": {
      "text/latex": [
       "$$l_{сж 2}=956778.0884дж/кг$$"
      ],
      "text/plain": [
       "<IPython.core.display.Math object>"
      ]
     },
     "metadata": {},
     "output_type": "display_data"
    },
    {
     "data": {
      "text/latex": [
       "$$l_{1}=1094780.1421дж/кг$$"
      ],
      "text/plain": [
       "<IPython.core.display.Math object>"
      ]
     },
     "metadata": {},
     "output_type": "display_data"
    },
    {
     "data": {
      "text/latex": [
       "$$l_{2}=983255.3471дж/кг$$"
      ],
      "text/plain": [
       "<IPython.core.display.Math object>"
      ]
     },
     "metadata": {},
     "output_type": "display_data"
    },
    {
     "data": {
      "text/latex": [
       "$$Ne_1=10117775.0673дж/кг$$"
      ],
      "text/plain": [
       "<IPython.core.display.Math object>"
      ]
     },
     "metadata": {},
     "output_type": "display_data"
    },
    {
     "data": {
      "text/latex": [
       "$$Ne_2=7408425.3942дж/кг$$"
      ],
      "text/plain": [
       "<IPython.core.display.Math object>"
      ]
     },
     "metadata": {},
     "output_type": "display_data"
    },
    {
     "data": {
      "text/latex": [
       "$$l_{min}=1297820.7303дж/кг$$"
      ],
      "text/plain": [
       "<IPython.core.display.Math object>"
      ]
     },
     "metadata": {},
     "output_type": "display_data"
    },
    {
     "data": {
      "text/latex": [
       "$$\\eta_{T 1}=0.1283$$"
      ],
      "text/plain": [
       "<IPython.core.display.Math object>"
      ]
     },
     "metadata": {},
     "output_type": "display_data"
    },
    {
     "data": {
      "text/latex": [
       "$$\\eta_{T 2}=0.1752$$"
      ],
      "text/plain": [
       "<IPython.core.display.Math object>"
      ]
     },
     "metadata": {},
     "output_type": "display_data"
    }
   ],
   "source": [
    "l_dop_1 = q_po_1/q_l\n",
    "l_dop_2 = q_po_2/q_l\n",
    "l_cz_1 = (T1*(s1_-s1_1)-(h1_-h1_1))/n #работа сжатия p2 = 400\n",
    "l_cz_2 = (T1*(s1_-s1_2)-(h1_-h1_2))/n #работа сжатия для p2 = 100\n",
    "l_1 = l_cz_1 + l_dop_1 \n",
    "l_2 = l_cz_2 + l_dop_2 \n",
    "Ne_1 = l_cz_1 / x_1\n",
    "Ne_2 = l_cz_2 / x_2\n",
    "l_min = T1*(s1_-sf)-(h1_-hf)\n",
    "n_T_1 = l_min/Ne_1\n",
    "n_T_2 = l_min/Ne_2\n",
    "printAns(l_dop_1,r'l_{доп 1}','дж/кг')\n",
    "printAns(l_dop_2,r'l_{доп 2}','дж/кг')\n",
    "printAns(l_cz_1,r'l_{сж 1}','дж/кг')\n",
    "printAns(l_cz_2,r'l_{сж 2}','дж/кг')\n",
    "printAns(l_1,r'l_{1}','дж/кг')\n",
    "printAns(l_2,r'l_{2}','дж/кг')\n",
    "printAns(Ne_1,r'Ne_1','дж/кг')\n",
    "printAns(Ne_2,r'Ne_2','дж/кг')\n",
    "printAns(l_min,r'l_{min}','дж/кг')\n",
    "printAns(n_T_1,r'\\eta_{T 1}')\n",
    "printAns(n_T_2,r'\\eta_{T 2}')"
   ]
  },
  {
   "cell_type": "markdown",
   "metadata": {},
   "source": [
    "### Задача 3 \n",
    "\n",
    "Дано: двойное дросселирование\n",
    "\n",
    "Рефрежираторный режим\n",
    "\n",
    "Газ - Кислород \n",
    "\n",
    "Давления $p_2$: 250/120\n",
    "\n",
    "Давление промежуточного сжатия $p_D = 50бар$\n",
    "\n",
    "Доля циркулирующего потока $D=0.3$ \n",
    "\n",
    "![DDo](imgs/ДДр.jpg)"
   ]
  },
  {
   "cell_type": "code",
   "execution_count": 14,
   "metadata": {},
   "outputs": [
    {
     "data": {
      "text/latex": [
       "$$R=259.6972Дж/(кгК)$$"
      ],
      "text/plain": [
       "<IPython.core.display.Math object>"
      ]
     },
     "metadata": {},
     "output_type": "display_data"
    }
   ],
   "source": [
    "#Дано\n",
    "gas = 'Oxygen'\n",
    "p2_1 = 400 * 10**5 #Па  ** - символ возведения в степень\n",
    "p2_2 = 220 * 10**5 #Па\n",
    "T1 = 300\n",
    "q_oc = 2 * 10**3 #дж/кг\n",
    "deltaTn = 15 # недорекуперация\n",
    "R = 8.31 / CP.PropsSI('M',gas)\n",
    "printAns(R,'R', 'Дж/(кгК)') #индивидуальная газовая постоянная\n",
    "n = 0.7 # кпд изотермический\n",
    "p_D = 30 * 10**5 \n",
    "D = 0.6\n",
    "Tx = 82"
   ]
  },
  {
   "cell_type": "markdown",
   "metadata": {},
   "source": [
    "Определим давление $P_1$. \n",
    "Так как точка 4 располагается на кривой насыщенного пара и температура в ней известна (Tx) можно определить давление.\n",
    "По температуре $T_x$ определяем давление насыщенного пара $P_1$\n",
    "И затем определяем основные параметры"
   ]
  },
  {
   "cell_type": "code",
   "execution_count": 15,
   "metadata": {},
   "outputs": [
    {
     "data": {
      "text/latex": [
       "$$p_1=39226.1949Па$$"
      ],
      "text/plain": [
       "<IPython.core.display.Math object>"
      ]
     },
     "metadata": {},
     "output_type": "display_data"
    },
    {
     "data": {
      "text/latex": [
       "$$T_7 = T_9 = T_1 - \\Delta T_H=285.0000K$$"
      ],
      "text/plain": [
       "<IPython.core.display.Math object>"
      ]
     },
     "metadata": {},
     "output_type": "display_data"
    },
    {
     "data": {
      "text/latex": [
       "$$h_{1 1}=209663.1009Дж/кг$$"
      ],
      "text/plain": [
       "<IPython.core.display.Math object>"
      ]
     },
     "metadata": {},
     "output_type": "display_data"
    },
    {
     "data": {
      "text/latex": [
       "$$h_{1 2}=226853.9749Дж/кг$$"
      ],
      "text/plain": [
       "<IPython.core.display.Math object>"
      ]
     },
     "metadata": {},
     "output_type": "display_data"
    },
    {
     "data": {
      "text/latex": [
       "$$h_{7}=259095.1274Дж/кг$$"
      ],
      "text/plain": [
       "<IPython.core.display.Math object>"
      ]
     },
     "metadata": {},
     "output_type": "display_data"
    },
    {
     "data": {
      "text/latex": [
       "$$h_{9}=251140.5940Дж/кг$$"
      ],
      "text/plain": [
       "<IPython.core.display.Math object>"
      ]
     },
     "metadata": {},
     "output_type": "display_data"
    }
   ],
   "source": [
    "p1 = CP.PropsSI('P','Q',1,'T',Tx,gas) # определим давление p1 зная Температуру Тх и то что в точке 4 насыщенный пар(Q=1)\n",
    "printAns( p1,r'p_1', 'Па')\n",
    "\n",
    "T7 = T1 - deltaTn\n",
    "T9 = T7\n",
    "T6 = CP.PropsSI('T','Q',1,'P',p1,gas)\n",
    "T8 = CP.PropsSI('T','Q',1,'P',p_D,gas)\n",
    "h1_1 = CP.PropsSI('H','P',p2_1,'T',T1,gas)\n",
    "h1_2 = CP.PropsSI('H','P',p2_2,'T',T1,gas)\n",
    "s1_ = CP.PropsSI('S','P',p1,'T',T1,gas)\n",
    "h1_ = CP.PropsSI('H','P',p1,'T',T1,gas)\n",
    "h1__ = CP.PropsSI('H','P',p_D,'T',T1,gas)\n",
    "hf = CP.PropsSI('H','P',p1,'Q',0,gas)\n",
    "sf = CP.PropsSI('S','P',p1,'Q',0,gas)\n",
    "h7 = CP.PropsSI('H','P',p1,'T',T7,gas)\n",
    "h9 = CP.PropsSI('H','P',p_D,'T',T9,gas)\n",
    "printAns(T7, r'T_7 = T_9 = T_1 - \\Delta T_H','K')\n",
    "#printAns(T9, r'T_9','K')\n",
    "#printAns(T6, r'T_6','K')\n",
    "#printAns(T8, r'T_8','K')\n",
    "printAns(h1_1,r'h_{1 1}', 'Дж/кг')\n",
    "printAns(h1_2,r'h_{1 2}', 'Дж/кг')\n",
    "#printAns(h1_,r\"h_{1'}\", 'Дж/кг')\n",
    "#printAns(h1__,r\"h_{1 ''}\", 'Дж/кг')\n",
    "#printAns(hf,r'h_{f}', 'Дж/кг')\n",
    "printAns(h7,r'h_{7}', 'Дж/кг')\n",
    "printAns(h9,r'h_{9}', 'Дж/кг')\n",
    "#printAns(s1_,r\"s_{1'}\",'дж/кгK')\n",
    "#printAns(sf,r\"s_{f}\",'дж/кгK')"
   ]
  },
  {
   "cell_type": "markdown",
   "metadata": {},
   "source": [
    "$$ q_x = (h_7-h_1)-D \\cdot (h_7-h_9) - q_oc$$"
   ]
  },
  {
   "cell_type": "code",
   "execution_count": 16,
   "metadata": {},
   "outputs": [
    {
     "data": {
      "text/latex": [
       "$$q_{x1}=42659.3064Дж/кг$$"
      ],
      "text/plain": [
       "<IPython.core.display.Math object>"
      ]
     },
     "metadata": {},
     "output_type": "display_data"
    },
    {
     "data": {
      "text/latex": [
       "$$q_{x2}=25468.4324Дж/кг$$"
      ],
      "text/plain": [
       "<IPython.core.display.Math object>"
      ]
     },
     "metadata": {},
     "output_type": "display_data"
    }
   ],
   "source": [
    "qx_1 = h7-h1_1 - D*(h7-h9) - q_oc\n",
    "qx_2 = h7-h1_2 - D*(h7-h9) - q_oc\n",
    "printAns(qx_1,r'q_{x1}','Дж/кг')\n",
    "printAns(qx_2,r'q_{x2}','Дж/кг')"
   ]
  },
  {
   "cell_type": "markdown",
   "metadata": {},
   "source": [
    "Работа сжатия :\n",
    "$$ l = \\frac {(1-D)R\\cdot T1 \\cdot ln(p_D/p_1)}{\\eta_T} + \\frac {R\\cdot T1 \\cdot ln(p_2/p_D)}{\\eta_T} $$"
   ]
  },
  {
   "cell_type": "code",
   "execution_count": 17,
   "metadata": {},
   "outputs": [
    {
     "data": {
      "text/latex": [
       "$$l_{сж1}=481375.8724дж/кг$$"
      ],
      "text/plain": [
       "<IPython.core.display.Math object>"
      ]
     },
     "metadata": {},
     "output_type": "display_data"
    },
    {
     "data": {
      "text/latex": [
       "$$l_{сж2}=414837.3217дж/кг$$"
      ],
      "text/plain": [
       "<IPython.core.display.Math object>"
      ]
     },
     "metadata": {},
     "output_type": "display_data"
    }
   ],
   "source": [
    "l_1 = ((1-D)*R*T1*math.log(p_D/p1, math.e) / n) + R*T1*math.log(p2_1/p_D)/n\n",
    "l_2 = ((1-D)*R*T1*math.log(p_D/p1, math.e) / n) + R*T1*math.log(p2_2/p_D)/n\n",
    "printAns(l_1, r'l_{сж1}','дж/кг')\n",
    "printAns(l_2, r'l_{сж2}','дж/кг')"
   ]
  },
  {
   "cell_type": "markdown",
   "metadata": {},
   "source": [
    "Холодильный коэффициент $$ \\epsilon = \\frac {q_x}{l_{сж}}$$\n",
    "Холодильный коэффициент цикла карно $$ \\epsilon_k = \\frac {Tx}{T_1 - Tx}$$"
   ]
  },
  {
   "cell_type": "code",
   "execution_count": 18,
   "metadata": {},
   "outputs": [
    {
     "data": {
      "text/latex": [
       "$$\\epsilon_1=0.0886$$"
      ],
      "text/plain": [
       "<IPython.core.display.Math object>"
      ]
     },
     "metadata": {},
     "output_type": "display_data"
    },
    {
     "data": {
      "text/latex": [
       "$$\\epsilon_2=0.0614$$"
      ],
      "text/plain": [
       "<IPython.core.display.Math object>"
      ]
     },
     "metadata": {},
     "output_type": "display_data"
    },
    {
     "data": {
      "text/latex": [
       "$$\\epsilon_k=0.3761$$"
      ],
      "text/plain": [
       "<IPython.core.display.Math object>"
      ]
     },
     "metadata": {},
     "output_type": "display_data"
    }
   ],
   "source": [
    "e_1 = qx_1 / l_1 \n",
    "e_2 = qx_2 / l_2 \n",
    "e_k = Tx/(T1-Tx)\n",
    "printAns(e_1,'\\epsilon_1' )\n",
    "printAns(e_2,'\\epsilon_2' )\n",
    "printAns(e_k,'\\epsilon_k' )"
   ]
  },
  {
   "cell_type": "markdown",
   "metadata": {},
   "source": [
    "Степень термодинамического совершенства : $$ \\eta_T = \\frac {\\epsilon}{\\epsilon_k} $$"
   ]
  },
  {
   "cell_type": "code",
   "execution_count": 19,
   "metadata": {},
   "outputs": [
    {
     "data": {
      "text/latex": [
       "$$\\eta_{T 1}=0.2356$$"
      ],
      "text/plain": [
       "<IPython.core.display.Math object>"
      ]
     },
     "metadata": {},
     "output_type": "display_data"
    },
    {
     "data": {
      "text/latex": [
       "$$\\eta_{T 2}=0.1632$$"
      ],
      "text/plain": [
       "<IPython.core.display.Math object>"
      ]
     },
     "metadata": {},
     "output_type": "display_data"
    }
   ],
   "source": [
    "n_T_1 = e_1 / e_k\n",
    "n_T_2 = e_2 / e_k\n",
    "printAns(n_T_1,'\\eta_{T 1}')\n",
    "printAns(n_T_2,'\\eta_{T 2}')"
   ]
  },
  {
   "cell_type": "markdown",
   "metadata": {},
   "source": [
    "### Задача 4 \n",
    "Дано : \n",
    "\n",
    "Газ R134\n",
    "\n",
    "$T_{кон} = 45 C$ \n",
    "$T_{исп} = 5 C$ \n",
    "\n",
    "![last](imgs/4.jpg)\n",
    "\n",
    "По температуре конденсации и испарения находим : $p_1, p_2,h_2,h_4, s_4$\n",
    "\n",
    "$h_3=h_2$\n",
    "\n",
    "$s_1=s_4$ \n",
    "\n",
    "По $p_1$ и $s_1$ находим $h_1$"
   ]
  },
  {
   "cell_type": "code",
   "execution_count": 20,
   "metadata": {},
   "outputs": [
    {
     "data": {
      "text/latex": [
       "$$p_1=584108.7329Па$$"
      ],
      "text/plain": [
       "<IPython.core.display.Math object>"
      ]
     },
     "metadata": {},
     "output_type": "display_data"
    },
    {
     "data": {
      "text/latex": [
       "$$p_2=1191876.1629Па$$"
      ],
      "text/plain": [
       "<IPython.core.display.Math object>"
      ]
     },
     "metadata": {},
     "output_type": "display_data"
    },
    {
     "data": {
      "text/latex": [
       "$$s_4=1743.6080дж/кгК$$"
      ],
      "text/plain": [
       "<IPython.core.display.Math object>"
      ]
     },
     "metadata": {},
     "output_type": "display_data"
    },
    {
     "data": {
      "text/latex": [
       "$$h_4=406849.2773дж/кг$$"
      ],
      "text/plain": [
       "<IPython.core.display.Math object>"
      ]
     },
     "metadata": {},
     "output_type": "display_data"
    },
    {
     "data": {
      "text/latex": [
       "$$h_2=236623.7999дж/кг$$"
      ],
      "text/plain": [
       "<IPython.core.display.Math object>"
      ]
     },
     "metadata": {},
     "output_type": "display_data"
    },
    {
     "data": {
      "text/latex": [
       "$$h_1=424288.8195дж/кг$$"
      ],
      "text/plain": [
       "<IPython.core.display.Math object>"
      ]
     },
     "metadata": {},
     "output_type": "display_data"
    }
   ],
   "source": [
    "#Дано \n",
    "Tkon = 30+273.15\n",
    "Tisp = 5 + 273.15\n",
    "gas = 'R22'\n",
    "p1 =CP.PropsSI('P','Q',1,'T',Tisp,gas)\n",
    "p2 =CP.PropsSI('P','Q',1,'T',Tkon,gas)\n",
    "s4 =CP.PropsSI('S','Q',1,'T',Tisp,gas)\n",
    "h4 =CP.PropsSI('H','Q',1,'T',Tisp,gas)\n",
    "h2 =CP.PropsSI('H','Q',0,'T',Tkon,gas)\n",
    "s1 = s4\n",
    "h3 = h2\n",
    "h1 = CP.PropsSI('H','P',p2,'S',s1,gas)\n",
    "printAns(p1,r'p_1','Па')\n",
    "printAns(p2,r'p_2','Па')\n",
    "printAns(s4,r's_4','дж/кгК')\n",
    "printAns(h4,r'h_4','дж/кг')\n",
    "printAns(h2,r'h_2','дж/кг')\n",
    "printAns(h1,r'h_1','дж/кг')"
   ]
  },
  {
   "cell_type": "markdown",
   "metadata": {},
   "source": [
    "Расчетные формулы характеристик цикла: \n",
    "\n",
    "Работа сжатия $l_{сж} = h_1-h_4$\n",
    "\n",
    "Полезная холодопроизводительность $q_x = h_4-h_3$\n",
    "\n",
    "Холодильный коэффициент $\\epsilon = \\frac {q_x} {l_{сж}} $\n",
    "\n",
    "Холодильный коэффициент цикла карно $\\epsilon_k = \\frac {Tx}{T_T-Tx} $\n",
    "\n",
    "Степень термодинамического совершенства $\\eta_T = \\frac {\\epsilon}{\\epsilon_k}$"
   ]
  },
  {
   "cell_type": "code",
   "execution_count": 21,
   "metadata": {},
   "outputs": [
    {
     "data": {
      "text/latex": [
       "$$l_{сж}=17439.5422дж/кг$$"
      ],
      "text/plain": [
       "<IPython.core.display.Math object>"
      ]
     },
     "metadata": {},
     "output_type": "display_data"
    },
    {
     "data": {
      "text/latex": [
       "$$q_{x}=170225.4774дж/кг$$"
      ],
      "text/plain": [
       "<IPython.core.display.Math object>"
      ]
     },
     "metadata": {},
     "output_type": "display_data"
    },
    {
     "data": {
      "text/latex": [
       "$$\\epsilon=9.7609$$"
      ],
      "text/plain": [
       "<IPython.core.display.Math object>"
      ]
     },
     "metadata": {},
     "output_type": "display_data"
    },
    {
     "data": {
      "text/latex": [
       "$$\\epsilon_k=11.1260$$"
      ],
      "text/plain": [
       "<IPython.core.display.Math object>"
      ]
     },
     "metadata": {},
     "output_type": "display_data"
    },
    {
     "data": {
      "text/latex": [
       "$$\\eta_T=0.8773$$"
      ],
      "text/plain": [
       "<IPython.core.display.Math object>"
      ]
     },
     "metadata": {},
     "output_type": "display_data"
    }
   ],
   "source": [
    "l = h1-h4\n",
    "qx = h4-h3\n",
    "e = qx/l\n",
    "e_k = Tisp/(Tkon-Tisp)\n",
    "n_T = e / e_k\n",
    "printAns(l,'l_{сж}', 'дж/кг')\n",
    "printAns(qx,'q_{x}', 'дж/кг')\n",
    "printAns(e,'\\epsilon' )\n",
    "printAns(e_k,'\\epsilon_k' )\n",
    "printAns(n_T,'\\eta_T')"
   ]
  },
  {
   "cell_type": "code",
   "execution_count": null,
   "metadata": {},
   "outputs": [],
   "source": []
  }
 ],
 "metadata": {
  "kernelspec": {
   "display_name": "Python 3",
   "language": "python",
   "name": "python3"
  },
  "language_info": {
   "codemirror_mode": {
    "name": "ipython",
    "version": 3
   },
   "file_extension": ".py",
   "mimetype": "text/x-python",
   "name": "python",
   "nbconvert_exporter": "python",
   "pygments_lexer": "ipython3",
   "version": "3.6.3"
  }
 },
 "nbformat": 4,
 "nbformat_minor": 1
}
