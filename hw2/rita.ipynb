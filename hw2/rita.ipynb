{
 "cells": [
  {
   "cell_type": "markdown",
   "metadata": {},
   "source": [
    "# <center>Домашнее задание №2 по курсу \"Научные основы криологии\"</center>\n",
    "### <center>Расчет основных характеристик дроссельных циклов</center>"
   ]
  },
  {
   "cell_type": "markdown",
   "metadata": {},
   "source": [
    "Для каждого из первых трёх заданных дроссельных циклов провести \n",
    "расчет двух режимов работы при заданных в таблице параметрах. Контроль \n",
    "правильности  расчетов  проводится:  для  рефрижераторных  циклов -по \n",
    "удельной  холодопроизводительности,  холодильному  коэффиц\n",
    "иенту  и \n",
    "степени  термодинамического  совершенства  цикла;  для  ожижительных \n",
    "циклов -по коэффициенту ожижения, затратам энергии для получения \n",
    "1кг\n",
    "жидкого  продукта  и  степени  термодинамического  совершенства.  Для \n",
    "четвёртого цикла необходимо определить  следующие  у\n",
    "дельные  величины: \n",
    "работу цикла, теплоту конденсации,  полезную холодопроизводительность, \n",
    "холодильный коэффициент и степень термодинамического совершенства. \n",
    "По результатам работы составить отчет, включающий задание, порядок \n",
    "и результаты расчета, схему кажд\n",
    "ого цикла с обозначениями изображением в \n",
    "T-S-диаграмме процессов цикла. Отчет должен содержать также результаты \n",
    "оптимизации первых трёх циклов для определения максимальных значений \n",
    "степени термодинамического совершенства, значения температур, давлений, \n",
    "энтальпий для pасчетных pежимов pаботы.\n",
    "\n",
    "Дополнительные данные: \n",
    "- недорекуперация в теплообменниках $\\Delta T_H$ равна 15К\n",
    "- внешний теплоприток $q_{o.c.} = 2 кДж/кг$;\n",
    "- температура изотермического сжатия в компрессоре $Т_1=300K$\n",
    "- изотермический КПД компрессоров 0.7\n",
    "\n",
    "Для цикла с предварительным охлаждением дополнительно задано:\n",
    "- температура предварительного охлаждения для -250 К, (хладагент аммиак)\n",
    "- холодопроизводительность  в  дополнительном  цикле  на  единицу затрат работы $q_l = 2.8$ Дж\"холода\"/Дж\"работы\"\n",
    "\n",
    "В  цикле  с  двойным  дросселированием  и  циркуляцией  части  потока дополнительно задано:\n",
    "- Давление промежуточного сжатия $p_D$\n",
    "- доля циркулирующего потока D"
   ]
  },
  {
   "cell_type": "code",
   "execution_count": 1,
   "metadata": {},
   "outputs": [],
   "source": [
    "# Подключение необходимых библиотек и настройка окружения\n",
    "import CoolProp.CoolProp as CP\n",
    "import math\n",
    "import CoolProp\n",
    "from CoolProp.Plots import PropertyPlot\n",
    "import matplotlib.pyplot as plt\n",
    "from CoolProp.Plots.SimpleCycles import StateContainer\n",
    "import warnings\n",
    "warnings.filterwarnings('ignore')\n",
    "import matplotlib.pyplot as plt\n",
    "plt.rcParams[\"figure.figsize\"] = (9,9) #размер графиков (в дюймах)\n",
    "from IPython.display import display, Math, Latex\n",
    "def printAns(obj,name,razmer=''): # вспомогательная функция для вывода значений\n",
    "    display(Math(name+r'='+('%.3f ' % obj)+' '+razmer))"
   ]
  },
  {
   "cell_type": "markdown",
   "metadata": {},
   "source": [
    "## Задача 1\n",
    "\n",
    "Дано:\n",
    "\n",
    "ПД.\n",
    "\n",
    "Ожижительный режим\n",
    "\n",
    "Давление $p_1=1.5 бар$\n",
    "\n",
    "Давления $p_2=400 | 150$ бар\n",
    "\n",
    "Газ - воздух\n",
    "\n",
    "![PDo](imgs/ПДо.jpg)\n",
    "\n",
    "### Для давления $p_2=400$ бар"
   ]
  },
  {
   "cell_type": "code",
   "execution_count": 2,
   "metadata": {},
   "outputs": [
    {
     "data": {
      "text/latex": [
       "$$R=286.893  Дж/(кгК)$$"
      ],
      "text/plain": [
       "<IPython.core.display.Math object>"
      ]
     },
     "metadata": {},
     "output_type": "display_data"
    }
   ],
   "source": [
    "#dano\n",
    "p1=1.5* 10**5\n",
    "p2_1=400*10**5\n",
    "p2_2=150*10**5\n",
    "gas = 'Air'\n",
    "T1 = 300\n",
    "q_oc = 2 * 10**3 #дж/кг\n",
    "deltaTn = 15 # недорекуперация\n",
    "R = 8.31 / CP.PropsSI('M',gas)\n",
    "printAns(R,'R', 'Дж/(кгК)') #индивидуальная газовая постоянная\n",
    "n = 0.7 # кпд изотермический"
   ]
  },
  {
   "cell_type": "markdown",
   "metadata": {},
   "source": [
    "$T_6=T_1$\n",
    "\n",
    "$P_6=P_1$\n",
    "\n",
    "$T_5=T_6-\\Delta T_H$\n",
    "\n",
    "$p_3=p_1$"
   ]
  },
  {
   "cell_type": "code",
   "execution_count": 3,
   "metadata": {},
   "outputs": [
    {
     "data": {
      "text/latex": [
       "$$T_6=300.000  K$$"
      ],
      "text/plain": [
       "<IPython.core.display.Math object>"
      ]
     },
     "metadata": {},
     "output_type": "display_data"
    },
    {
     "data": {
      "text/latex": [
       "$$p_6=150000.000  Па$$"
      ],
      "text/plain": [
       "<IPython.core.display.Math object>"
      ]
     },
     "metadata": {},
     "output_type": "display_data"
    },
    {
     "data": {
      "text/latex": [
       "$$T_5=285.000  K$$"
      ],
      "text/plain": [
       "<IPython.core.display.Math object>"
      ]
     },
     "metadata": {},
     "output_type": "display_data"
    },
    {
     "data": {
      "text/latex": [
       "$$p_3=150000.000  Па$$"
      ],
      "text/plain": [
       "<IPython.core.display.Math object>"
      ]
     },
     "metadata": {},
     "output_type": "display_data"
    }
   ],
   "source": [
    "T6=T1; p6=p1; T5=T6-deltaTn; p3=p1;\n",
    "printAns(T6,r'T_6','K')\n",
    "printAns(p6,r'p_6','Па')\n",
    "printAns(T5,r'T_5','K')\n",
    "printAns(p3,r'p_3','Па')"
   ]
  },
  {
   "cell_type": "markdown",
   "metadata": {},
   "source": [
    "Температура жидкости в точке 4 равна температуре жидкости в точке три.\n",
    "$$T_3=T_4$$\n",
    "Температура определяется по давлению $p_1$ для насыщенной жидкости"
   ]
  },
  {
   "cell_type": "code",
   "execution_count": 4,
   "metadata": {},
   "outputs": [
    {
     "data": {
      "text/latex": [
       "$$T_4=T_3=85.210  K$$"
      ],
      "text/plain": [
       "<IPython.core.display.Math object>"
      ]
     },
     "metadata": {},
     "output_type": "display_data"
    }
   ],
   "source": [
    "T4=CP.PropsSI('T','Q',1,'P',p1,gas)\n",
    "T3=T4\n",
    "printAns(T4,r'T_4=T_3','K')"
   ]
  },
  {
   "cell_type": "markdown",
   "metadata": {},
   "source": [
    "Определили энтальпии в точках $h_1,h_f,h_5,h_6$"
   ]
  },
  {
   "cell_type": "code",
   "execution_count": 5,
   "metadata": {},
   "outputs": [
    {
     "data": {
      "text/latex": [
       "$$h_1=381368.220  Дж/кг$$"
      ],
      "text/plain": [
       "<IPython.core.display.Math object>"
      ]
     },
     "metadata": {},
     "output_type": "display_data"
    },
    {
     "data": {
      "text/latex": [
       "$$h_f=12346.937  Дж/кг$$"
      ],
      "text/plain": [
       "<IPython.core.display.Math object>"
      ]
     },
     "metadata": {},
     "output_type": "display_data"
    },
    {
     "data": {
      "text/latex": [
       "$$h_5=411083.340  Дж/кг$$"
      ],
      "text/plain": [
       "<IPython.core.display.Math object>"
      ]
     },
     "metadata": {},
     "output_type": "display_data"
    },
    {
     "data": {
      "text/latex": [
       "$$h_6=426187.569  Дж/кг$$"
      ],
      "text/plain": [
       "<IPython.core.display.Math object>"
      ]
     },
     "metadata": {},
     "output_type": "display_data"
    }
   ],
   "source": [
    "h1=CP.PropsSI('H','T',T1,'P',p2_1,gas)\n",
    "hf=CP.PropsSI('H','T',T4,'Q',0,gas)\n",
    "h5=CP.PropsSI('H','T',T5,'P',p1,gas)\n",
    "h6=CP.PropsSI('H','T',T6,'P',p1,gas)\n",
    "printAns(h1,r'h_1','Дж/кг')\n",
    "printAns(hf,r'h_f','Дж/кг')\n",
    "printAns(h5,r'h_5','Дж/кг')\n",
    "printAns(h6,r'h_6','Дж/кг')"
   ]
  },
  {
   "cell_type": "markdown",
   "metadata": {},
   "source": [
    "Определили энтропии в точках $s_1,s_f,s_6$"
   ]
  },
  {
   "cell_type": "code",
   "execution_count": 6,
   "metadata": {},
   "outputs": [
    {
     "data": {
      "text/latex": [
       "$$s_1=2004.519  Дж/кгК$$"
      ],
      "text/plain": [
       "<IPython.core.display.Math object>"
      ]
     },
     "metadata": {},
     "output_type": "display_data"
    },
    {
     "data": {
      "text/latex": [
       "$$s_f=149.178  Дж/кгК$$"
      ],
      "text/plain": [
       "<IPython.core.display.Math object>"
      ]
     },
     "metadata": {},
     "output_type": "display_data"
    },
    {
     "data": {
      "text/latex": [
       "$$s_6=3773.780  Дж/кгК$$"
      ],
      "text/plain": [
       "<IPython.core.display.Math object>"
      ]
     },
     "metadata": {},
     "output_type": "display_data"
    }
   ],
   "source": [
    "s1=CP.PropsSI('S','T',T1,'P',p2_1,gas)\n",
    "sf=CP.PropsSI('S','T',T4,'Q',0,gas)\n",
    "s6=CP.PropsSI('S','T',T6,'P',p1,gas)\n",
    "printAns(s1,r's_1','Дж/кгК')\n",
    "printAns(sf,r's_f','Дж/кгК')\n",
    "printAns(s6,r's_6','Дж/кгК')"
   ]
  },
  {
   "cell_type": "markdown",
   "metadata": {},
   "source": [
    "Коэффициент ожижения $$ \\chi= \\frac {(h_5-h_1)-q_{oc}}{h_5-h_f}$$\n"
   ]
  },
  {
   "cell_type": "code",
   "execution_count": 7,
   "metadata": {},
   "outputs": [
    {
     "data": {
      "text/latex": [
       "$$\\chi=0.070  $$"
      ],
      "text/plain": [
       "<IPython.core.display.Math object>"
      ]
     },
     "metadata": {},
     "output_type": "display_data"
    }
   ],
   "source": [
    "chi=(h5-h1-q_oc)/(h5-hf)\n",
    "printAns(chi,r'\\chi')"
   ]
  },
  {
   "cell_type": "markdown",
   "metadata": {},
   "source": [
    "Изотермическая работа:\n",
    "$$ l_T = T_1(s_6-s_1)-(h_5-h_1)$$"
   ]
  },
  {
   "cell_type": "code",
   "execution_count": 8,
   "metadata": {},
   "outputs": [
    {
     "data": {
      "text/latex": [
       "$$l_T=501063.020  Дж/кг$$"
      ],
      "text/plain": [
       "<IPython.core.display.Math object>"
      ]
     },
     "metadata": {},
     "output_type": "display_data"
    }
   ],
   "source": [
    "l_t = T1*(s6-s1)-(h5-h1)\n",
    "printAns(l_t,r'l_T','Дж/кг')"
   ]
  },
  {
   "cell_type": "markdown",
   "metadata": {},
   "source": [
    "Работа сжатия в компрессоре : \n",
    "$$l_k=\\frac {l_T} {\\eta_{из}}$$"
   ]
  },
  {
   "cell_type": "code",
   "execution_count": 9,
   "metadata": {},
   "outputs": [
    {
     "data": {
      "text/latex": [
       "$$l_k=715804.314  Дж/кг$$"
      ],
      "text/plain": [
       "<IPython.core.display.Math object>"
      ]
     },
     "metadata": {},
     "output_type": "display_data"
    }
   ],
   "source": [
    "l_k=l_t/n\n",
    "printAns(l_k,r'l_k','Дж/кг')"
   ]
  },
  {
   "cell_type": "markdown",
   "metadata": {},
   "source": [
    "Работа на получение одного кг жидкости:\n",
    "$$ N_e^o = \\frac {l_k}{\\chi}$$"
   ]
  },
  {
   "cell_type": "code",
   "execution_count": 10,
   "metadata": {},
   "outputs": [
    {
     "data": {
      "text/latex": [
       "$$N_e^o=10298250.268  Дж/кг$$"
      ],
      "text/plain": [
       "<IPython.core.display.Math object>"
      ]
     },
     "metadata": {},
     "output_type": "display_data"
    }
   ],
   "source": [
    "Neo=l_k/chi\n",
    "printAns(Neo,r'N_e^o','Дж/кг')"
   ]
  },
  {
   "cell_type": "markdown",
   "metadata": {},
   "source": [
    "Минимальная работа ожижения \n",
    "$$ l_{min}=T_1(s_6-s_f)-(h_6-h_f) $$"
   ]
  },
  {
   "cell_type": "code",
   "execution_count": 11,
   "metadata": {},
   "outputs": [
    {
     "data": {
      "text/latex": [
       "$$l_{min}=673539.762  Дж/кг$$"
      ],
      "text/plain": [
       "<IPython.core.display.Math object>"
      ]
     },
     "metadata": {},
     "output_type": "display_data"
    }
   ],
   "source": [
    "l_min=T1*(s6-sf)-(h6-hf)\n",
    "printAns(l_min,r'l_{min}','Дж/кг')"
   ]
  },
  {
   "cell_type": "markdown",
   "metadata": {},
   "source": [
    "Коэффициент темродинамического совершенства:\n",
    "$$ \\eta_T= \\frac {l_{min}}{N_o^e} $$"
   ]
  },
  {
   "cell_type": "code",
   "execution_count": 12,
   "metadata": {},
   "outputs": [
    {
     "data": {
      "text/latex": [
       "$$\\eta_T=0.065  $$"
      ],
      "text/plain": [
       "<IPython.core.display.Math object>"
      ]
     },
     "metadata": {},
     "output_type": "display_data"
    }
   ],
   "source": [
    "n_T = l_min/Neo\n",
    "printAns(n_T,r'\\eta_T')"
   ]
  },
  {
   "cell_type": "markdown",
   "metadata": {},
   "source": [
    "### Для давления $p_2=150$ бар:"
   ]
  },
  {
   "cell_type": "code",
   "execution_count": 13,
   "metadata": {},
   "outputs": [
    {
     "data": {
      "text/latex": [
       "$$h_1=381368.220  Дж/кг$$"
      ],
      "text/plain": [
       "<IPython.core.display.Math object>"
      ]
     },
     "metadata": {},
     "output_type": "display_data"
    },
    {
     "data": {
      "text/latex": [
       "$$h_f=12346.937  Дж/кг$$"
      ],
      "text/plain": [
       "<IPython.core.display.Math object>"
      ]
     },
     "metadata": {},
     "output_type": "display_data"
    },
    {
     "data": {
      "text/latex": [
       "$$h_5=411083.340  Дж/кг$$"
      ],
      "text/plain": [
       "<IPython.core.display.Math object>"
      ]
     },
     "metadata": {},
     "output_type": "display_data"
    },
    {
     "data": {
      "text/latex": [
       "$$h_6=426187.569  Дж/кг$$"
      ],
      "text/plain": [
       "<IPython.core.display.Math object>"
      ]
     },
     "metadata": {},
     "output_type": "display_data"
    },
    {
     "data": {
      "text/latex": [
       "$$s_1=2004.519  Дж/кгК$$"
      ],
      "text/plain": [
       "<IPython.core.display.Math object>"
      ]
     },
     "metadata": {},
     "output_type": "display_data"
    },
    {
     "data": {
      "text/latex": [
       "$$s_f=149.178  Дж/кгК$$"
      ],
      "text/plain": [
       "<IPython.core.display.Math object>"
      ]
     },
     "metadata": {},
     "output_type": "display_data"
    },
    {
     "data": {
      "text/latex": [
       "$$s_6=3773.780  Дж/кгК$$"
      ],
      "text/plain": [
       "<IPython.core.display.Math object>"
      ]
     },
     "metadata": {},
     "output_type": "display_data"
    },
    {
     "data": {
      "text/latex": [
       "$$\\chi= \\frac {(h_5-h_1)-q_{oc}}{h_5-h_f}=0.070  $$"
      ],
      "text/plain": [
       "<IPython.core.display.Math object>"
      ]
     },
     "metadata": {},
     "output_type": "display_data"
    },
    {
     "data": {
      "text/latex": [
       "$$l_T = T_1(s_6-s_1)-(h_5-h_1)=501063.020  Дж/кг$$"
      ],
      "text/plain": [
       "<IPython.core.display.Math object>"
      ]
     },
     "metadata": {},
     "output_type": "display_data"
    },
    {
     "data": {
      "text/latex": [
       "$$l_k=\\frac {l_T} {\\eta_{из}}=715804.314  Дж/кг$$"
      ],
      "text/plain": [
       "<IPython.core.display.Math object>"
      ]
     },
     "metadata": {},
     "output_type": "display_data"
    },
    {
     "data": {
      "text/latex": [
       "$$N_e^o =\\frac {l_k}{\\chi}=10298250.268   Дж/кг$$"
      ],
      "text/plain": [
       "<IPython.core.display.Math object>"
      ]
     },
     "metadata": {},
     "output_type": "display_data"
    },
    {
     "data": {
      "text/latex": [
       "$$l_{min}=T_1(s_6-s_f)-(h_6-h_f)=673539.762   Дж/кг$$"
      ],
      "text/plain": [
       "<IPython.core.display.Math object>"
      ]
     },
     "metadata": {},
     "output_type": "display_data"
    },
    {
     "data": {
      "text/latex": [
       "$$\\eta_T= \\frac {l_{min}}{N_o^e}=0.065  $$"
      ],
      "text/plain": [
       "<IPython.core.display.Math object>"
      ]
     },
     "metadata": {},
     "output_type": "display_data"
    }
   ],
   "source": [
    "h1=CP.PropsSI('H','T',T1,'P',p2_1,gas)\n",
    "hf=CP.PropsSI('H','T',T4,'Q',0,gas)\n",
    "h5=CP.PropsSI('H','T',T5,'P',p1,gas)\n",
    "h6=CP.PropsSI('H','T',T6,'P',p1,gas)\n",
    "printAns(h1,r'h_1','Дж/кг')\n",
    "printAns(hf,r'h_f','Дж/кг')\n",
    "printAns(h5,r'h_5','Дж/кг')\n",
    "printAns(h6,r'h_6','Дж/кг')\n",
    "s1=CP.PropsSI('S','T',T1,'P',p2_1,gas)\n",
    "sf=CP.PropsSI('S','T',T4,'Q',0,gas)\n",
    "s6=CP.PropsSI('S','T',T6,'P',p1,gas)\n",
    "printAns(s1,r's_1','Дж/кгК')\n",
    "printAns(sf,r's_f','Дж/кгК')\n",
    "printAns(s6,r's_6','Дж/кгК')\n",
    "\n",
    "chi=(h5-h1-q_oc)/(h5-hf)\n",
    "printAns(chi,r'\\chi= \\frac {(h_5-h_1)-q_{oc}}{h_5-h_f}')\n",
    "\n",
    "l_t = T1*(s6-s1)-(h5-h1)\n",
    "printAns(l_t,r'l_T = T_1(s_6-s_1)-(h_5-h_1)','Дж/кг')\n",
    "\n",
    "l_k=l_t/n\n",
    "printAns(l_k,r'l_k=\\frac {l_T} {\\eta_{из}}','Дж/кг')\n",
    "\n",
    "Neo=l_k/chi\n",
    "printAns(Neo,r'N_e^o =\\frac {l_k}{\\chi}',' Дж/кг')\n",
    "\n",
    "l_min=T1*(s6-sf)-(h6-hf)\n",
    "printAns(l_min,r'l_{min}=T_1(s_6-s_f)-(h_6-h_f)',' Дж/кг')\n",
    "\n",
    "n_T = l_min/Neo\n",
    "printAns(n_T,r'\\eta_T= \\frac {l_{min}}{N_o^e}')"
   ]
  },
  {
   "cell_type": "markdown",
   "metadata": {},
   "source": [
    "## Задача 2\n",
    "\n",
    "Дано:\n",
    "\n",
    "ПО\n",
    "\n",
    "Ожижительный режим\n",
    "\n",
    "Газ - азот\n",
    "\n",
    "$p_2=400 | 250$ бар\n",
    "\n",
    "Температура предварительного охлаждения $T_3 = 250K$\n",
    "\n",
    "![POo](imgs/ПОо.jpg)"
   ]
  },
  {
   "cell_type": "code",
   "execution_count": 14,
   "metadata": {},
   "outputs": [
    {
     "data": {
      "text/latex": [
       "$$R=296.643  Дж/(кгК)$$"
      ],
      "text/plain": [
       "<IPython.core.display.Math object>"
      ]
     },
     "metadata": {},
     "output_type": "display_data"
    }
   ],
   "source": [
    "p1=1.5 * 10**5\n",
    "p2_1=400*10**5\n",
    "p2_2=250*10**5\n",
    "gas = 'Nitrogen'\n",
    "T1 = 300\n",
    "q_oc = 2 * 10**3 #дж/кг\n",
    "deltaTn = 15 # недорекуперация\n",
    "R = 8.31 / CP.PropsSI('M',gas)\n",
    "printAns(R,'R', 'Дж/(кгК)') #индивидуальная газовая постоянная\n",
    "n = 0.7 # кпд изотермический\n",
    "T3=250\n",
    "q_l = 2.8\n",
    "deltaTn=15"
   ]
  },
  {
   "cell_type": "markdown",
   "metadata": {},
   "source": [
    "*Дальнейший расчет ведется параллельно. Вторые индексы означают для какого давления $p_2$ было вычислено значение*\n",
    "\n",
    "$T_7 = 250-15=235 K$\n",
    "\n",
    "Определяем энтальпии $h_3,h_7$ по температурам $T_3, T_7$ и давлениям $p_1,p_2$.\n",
    "\n",
    "Определяем $h_ж$ по давлению $p_1$ (на линии насыщения) \n",
    "\n",
    "Затем вычислим коэффициент ожижения\n",
    "\n",
    "$\\chi = \\frac { (h_7-h_3)-q_{oc}}{h_7-h_ж}$"
   ]
  },
  {
   "cell_type": "code",
   "execution_count": 15,
   "metadata": {},
   "outputs": [
    {
     "data": {
      "text/latex": [
       "$$h_{3 1}=200070.774  [Дж/кг]$$"
      ],
      "text/plain": [
       "<IPython.core.display.Math object>"
      ]
     },
     "metadata": {},
     "output_type": "display_data"
    },
    {
     "data": {
      "text/latex": [
       "$$h_{3 2}=205084.420  [Дж/кг]$$"
      ],
      "text/plain": [
       "<IPython.core.display.Math object>"
      ]
     },
     "metadata": {},
     "output_type": "display_data"
    },
    {
     "data": {
      "text/latex": [
       "$$h_7=243315.715  [Дж/кг]$$"
      ],
      "text/plain": [
       "<IPython.core.display.Math object>"
      ]
     },
     "metadata": {},
     "output_type": "display_data"
    },
    {
     "data": {
      "text/latex": [
       "$$h_ж=-114829.455  [Дж/кг]$$"
      ],
      "text/plain": [
       "<IPython.core.display.Math object>"
      ]
     },
     "metadata": {},
     "output_type": "display_data"
    }
   ],
   "source": [
    "T7 = T3-deltaTn\n",
    "h3_1 = CP.PropsSI('H','P',p2_1,'T',T3,gas) #энтальпия для давления p2=400\n",
    "h3_2 = CP.PropsSI('H','P',p2_2,'T',T3,gas) #энтальпия для давлдения p2 = 100\n",
    "h7 = CP.PropsSI('H','P',p1,'T',T7,gas)\n",
    "hf = CP.PropsSI('H','P',p1,'Q',0,gas)\n",
    "printAns(h3_1,r'h_{3 1}','[Дж/кг]')\n",
    "printAns(h3_2,r'h_{3 2}','[Дж/кг]')\n",
    "printAns(h7,r'h_7','[Дж/кг]')\n",
    "printAns(hf,r'h_ж','[Дж/кг]')"
   ]
  },
  {
   "cell_type": "markdown",
   "metadata": {},
   "source": [
    "Вычисляем коэффициент ожижения \n",
    "$$\\chi = \\frac { (h_7-h_3)-q_{oc}}{h_7-h_ж}$$"
   ]
  },
  {
   "cell_type": "code",
   "execution_count": 16,
   "metadata": {},
   "outputs": [
    {
     "data": {
      "text/latex": [
       "$$\\chi_1=0.115  $$"
      ],
      "text/plain": [
       "<IPython.core.display.Math object>"
      ]
     },
     "metadata": {},
     "output_type": "display_data"
    },
    {
     "data": {
      "text/latex": [
       "$$\\chi_2=0.101  $$"
      ],
      "text/plain": [
       "<IPython.core.display.Math object>"
      ]
     },
     "metadata": {},
     "output_type": "display_data"
    }
   ],
   "source": [
    "x_1 = (h7-h3_1-q_oc)/(h7-hf)\n",
    "x_2 = (h7-h3_2-q_oc)/(h7-hf)\n",
    "printAns(x_1, r'\\chi_1')\n",
    "printAns(x_2, r'\\chi_2')"
   ]
  },
  {
   "cell_type": "markdown",
   "metadata": {},
   "source": [
    "Необходимые параметры:"
   ]
  },
  {
   "cell_type": "code",
   "execution_count": 17,
   "metadata": {},
   "outputs": [
    {
     "data": {
      "text/latex": [
       "$$T_8=285.000  K$$"
      ],
      "text/plain": [
       "<IPython.core.display.Math object>"
      ]
     },
     "metadata": {},
     "output_type": "display_data"
    },
    {
     "data": {
      "text/latex": [
       "$$s_{1'}=6724.966  Дж/кгК$$"
      ],
      "text/plain": [
       "<IPython.core.display.Math object>"
      ]
     },
     "metadata": {},
     "output_type": "display_data"
    },
    {
     "data": {
      "text/latex": [
       "$$s_{1 1}=4903.417  Дж/кгК$$"
      ],
      "text/plain": [
       "<IPython.core.display.Math object>"
      ]
     },
     "metadata": {},
     "output_type": "display_data"
    },
    {
     "data": {
      "text/latex": [
       "$$s_{1 1}=5078.900  Дж/кгК$$"
      ],
      "text/plain": [
       "<IPython.core.display.Math object>"
      ]
     },
     "metadata": {},
     "output_type": "display_data"
    },
    {
     "data": {
      "text/latex": [
       "$$h_{1'}=311086.059  Дж/кг$$"
      ],
      "text/plain": [
       "<IPython.core.display.Math object>"
      ]
     },
     "metadata": {},
     "output_type": "display_data"
    },
    {
     "data": {
      "text/latex": [
       "$$h_{8}=295453.363  Дж/кг$$"
      ],
      "text/plain": [
       "<IPython.core.display.Math object>"
      ]
     },
     "metadata": {},
     "output_type": "display_data"
    },
    {
     "data": {
      "text/latex": [
       "$$s_{ж}=2924.300  Дж/кгК$$"
      ],
      "text/plain": [
       "<IPython.core.display.Math object>"
      ]
     },
     "metadata": {},
     "output_type": "display_data"
    }
   ],
   "source": [
    "s1_ = CP.PropsSI('S','P',p1,'T',T1,gas)\n",
    "h1_ = CP.PropsSI('H','P',p1,'T',T1,gas)\n",
    "h1_1 = CP.PropsSI('H','P',p2_1,'T',T1,gas)\n",
    "h1_2 = CP.PropsSI('H','P',p2_2,'T',T1,gas)\n",
    "s1_1 = CP.PropsSI('S','P',p2_1,'T',T1,gas)\n",
    "s1_2 = CP.PropsSI('S','P',p2_2,'T',T1,gas)\n",
    "T8 = T1-deltaTn\n",
    "printAns(T8,'T_8','K')\n",
    "h8 = CP.PropsSI('H','P',p1,'T',T8,gas)\n",
    "sf = CP.PropsSI('S','P',p1,'Q',0,gas)\n",
    "printAns(s1_,r\"s_{1'}\",'Дж/кгК')\n",
    "printAns(s1_1,r\"s_{1 1}\",'Дж/кгК')\n",
    "printAns(s1_2,r\"s_{1 1}\",'Дж/кгК')\n",
    "printAns(h1_,r\"h_{1'}\",'Дж/кг')\n",
    "printAns(h8,r\"h_{8}\",'Дж/кг')\n",
    "printAns(sf,r\"s_{ж}\",'Дж/кгК')"
   ]
  },
  {
   "cell_type": "markdown",
   "metadata": {},
   "source": [
    "Определим теплоту предварительного охлаждения \n",
    "\n",
    "$$ q_{по} = (h_7-h_3)-(h_8-h_1)+\\chi \\cdot (h_8-h_7)+q_{ос} $$"
   ]
  },
  {
   "cell_type": "code",
   "execution_count": 18,
   "metadata": {},
   "outputs": [
    {
     "data": {
      "text/latex": [
       "$$q_{по 1}=27090.434  Дж/кг$$"
      ],
      "text/plain": [
       "<IPython.core.display.Math object>"
      ]
     },
     "metadata": {},
     "output_type": "display_data"
    },
    {
     "data": {
      "text/latex": [
       "$$q_{по 2}=25295.060  Дж/кг$$"
      ],
      "text/plain": [
       "<IPython.core.display.Math object>"
      ]
     },
     "metadata": {},
     "output_type": "display_data"
    }
   ],
   "source": [
    "q_po_1 = (h7-h3_1)-(h8-h1_1)+x_1*(h8-h7)+q_oc # для первого давления p2\n",
    "q_po_2 = (h7-h3_2)-(h8-h1_2)+x_2*(h8-h7)+q_oc # для второго давления p2\n",
    "printAns(q_po_1,'q_{по 1}','Дж/кг')\n",
    "printAns(q_po_2,'q_{по 2}','Дж/кг')"
   ]
  },
  {
   "cell_type": "markdown",
   "metadata": {},
   "source": [
    "Долполнительная работа получения жидкости : $$l_{доп}= \\frac {q_{по}} {q_l} $$\n",
    "\n",
    "Работа сжатия : $$l_{сж} = \\frac {T_1(s_{1'}-s_1)-(h_{1'}-h_1)} {\\eta_из}$$\n",
    "\n",
    "Полная минимальная необходимая работа: $$l = l_{сж} + l_{доп}$$\n",
    "\n",
    "Затраты работы на единицу полученной жидкости : $$Ne = \\frac {l_{сж}} {\\chi}$$\n",
    "\n",
    "минимальная работа ожижения $$l_{min} = T_1(s_{1'}-s_ж)-(h_{1'}-h_ж)$$\n",
    "\n",
    "степень термодинамического совершенства : $$\\eta_T = \\frac {l_{min}} {Ne}$$"
   ]
  },
  {
   "cell_type": "code",
   "execution_count": 19,
   "metadata": {},
   "outputs": [
    {
     "data": {
      "text/latex": [
       "$$l_{доп 1}=9675.155  дж/кг$$"
      ],
      "text/plain": [
       "<IPython.core.display.Math object>"
      ]
     },
     "metadata": {},
     "output_type": "display_data"
    },
    {
     "data": {
      "text/latex": [
       "$$l_{доп 2}=9033.950  дж/кг$$"
      ],
      "text/plain": [
       "<IPython.core.display.Math object>"
      ]
     },
     "metadata": {},
     "output_type": "display_data"
    },
    {
     "data": {
      "text/latex": [
       "$$l_{сж 1}=723818.568  дж/кг$$"
      ],
      "text/plain": [
       "<IPython.core.display.Math object>"
      ]
     },
     "metadata": {},
     "output_type": "display_data"
    },
    {
     "data": {
      "text/latex": [
       "$$l_{сж 2}=654252.088  дж/кг$$"
      ],
      "text/plain": [
       "<IPython.core.display.Math object>"
      ]
     },
     "metadata": {},
     "output_type": "display_data"
    },
    {
     "data": {
      "text/latex": [
       "$$l_{1}=733493.723  дж/кг$$"
      ],
      "text/plain": [
       "<IPython.core.display.Math object>"
      ]
     },
     "metadata": {},
     "output_type": "display_data"
    },
    {
     "data": {
      "text/latex": [
       "$$l_{2}=663286.038  дж/кг$$"
      ],
      "text/plain": [
       "<IPython.core.display.Math object>"
      ]
     },
     "metadata": {},
     "output_type": "display_data"
    },
    {
     "data": {
      "text/latex": [
       "$$Ne_1=6285185.890  дж/кг$$"
      ],
      "text/plain": [
       "<IPython.core.display.Math object>"
      ]
     },
     "metadata": {},
     "output_type": "display_data"
    },
    {
     "data": {
      "text/latex": [
       "$$Ne_2=6467260.546  дж/кг$$"
      ],
      "text/plain": [
       "<IPython.core.display.Math object>"
      ]
     },
     "metadata": {},
     "output_type": "display_data"
    },
    {
     "data": {
      "text/latex": [
       "$$l_{min}=714284.290  дж/кг$$"
      ],
      "text/plain": [
       "<IPython.core.display.Math object>"
      ]
     },
     "metadata": {},
     "output_type": "display_data"
    },
    {
     "data": {
      "text/latex": [
       "$$\\eta_{T 1}=0.114  $$"
      ],
      "text/plain": [
       "<IPython.core.display.Math object>"
      ]
     },
     "metadata": {},
     "output_type": "display_data"
    },
    {
     "data": {
      "text/latex": [
       "$$\\eta_{T 2}=0.110  $$"
      ],
      "text/plain": [
       "<IPython.core.display.Math object>"
      ]
     },
     "metadata": {},
     "output_type": "display_data"
    }
   ],
   "source": [
    "l_dop_1 = q_po_1/q_l\n",
    "l_dop_2 = q_po_2/q_l\n",
    "l_cz_1 = (T1*(s1_-s1_1)-(h1_-h1_1))/n #работа сжатия p2 = 400\n",
    "l_cz_2 = (T1*(s1_-s1_2)-(h1_-h1_2))/n #работа сжатия для p2 = 100\n",
    "l_1 = l_cz_1 + l_dop_1 \n",
    "l_2 = l_cz_2 + l_dop_2 \n",
    "Ne_1 = l_cz_1 / x_1\n",
    "Ne_2 = l_cz_2 / x_2\n",
    "l_min = T1*(s1_-sf)-(h1_-hf)\n",
    "n_T_1 = l_min/Ne_1\n",
    "n_T_2 = l_min/Ne_2\n",
    "printAns(l_dop_1,r'l_{доп 1}','дж/кг')\n",
    "printAns(l_dop_2,r'l_{доп 2}','дж/кг')\n",
    "printAns(l_cz_1,r'l_{сж 1}','дж/кг')\n",
    "printAns(l_cz_2,r'l_{сж 2}','дж/кг')\n",
    "printAns(l_1,r'l_{1}','дж/кг')\n",
    "printAns(l_2,r'l_{2}','дж/кг')\n",
    "printAns(Ne_1,r'Ne_1','дж/кг')\n",
    "printAns(Ne_2,r'Ne_2','дж/кг')\n",
    "printAns(l_min,r'l_{min}','дж/кг')\n",
    "printAns(n_T_1,r'\\eta_{T 1}')\n",
    "printAns(n_T_2,r'\\eta_{T 2}')"
   ]
  },
  {
   "cell_type": "markdown",
   "metadata": {},
   "source": [
    "### Задача 3 \n",
    "\n",
    "Дано: двойное дросселирование\n",
    "\n",
    "Рефрежираторный режим\n",
    "\n",
    "Газ - Кислород \n",
    "\n",
    "Давления $p_2$: 250/120\n",
    "\n",
    "Давление промежуточного сжатия $p_D = 50бар$\n",
    "\n",
    "Доля циркулирующего потока $D=0.3$ \n",
    "\n",
    "p1 = 1.5 \n",
    "\n",
    "![DDo](imgs/ДДр.jpg)"
   ]
  },
  {
   "cell_type": "code",
   "execution_count": 20,
   "metadata": {},
   "outputs": [
    {
     "data": {
      "text/latex": [
       "$$R=259.697  Дж/(кгК)$$"
      ],
      "text/plain": [
       "<IPython.core.display.Math object>"
      ]
     },
     "metadata": {},
     "output_type": "display_data"
    }
   ],
   "source": [
    "#Дано\n",
    "gas = 'Oxygen'\n",
    "p2_1 = 250 * 10**5 #Па  ** - символ возведения в степень\n",
    "p2_2 = 120 * 10**5 #Па\n",
    "T1 = 300\n",
    "q_oc = 2 * 10**3 #дж/кг\n",
    "deltaTn = 15 # недорекуперация\n",
    "R = 8.31 / CP.PropsSI('M',gas)\n",
    "printAns(R,'R', 'Дж/(кгК)') #индивидуальная газовая постоянная\n",
    "n = 0.7 # кпд изотермический\n",
    "p_D = 50 * 10**5 \n",
    "D = 0.3\n",
    "Tx = 80"
   ]
  },
  {
   "cell_type": "markdown",
   "metadata": {},
   "source": [
    "Определим давление $P_1$. \n",
    "Так как точка 4 располагается на кривой насыщенного пара и температура в ней известна (Tx) можно определить давление.\n",
    "По температуре $T_x$ определяем давление насыщенного пара $P_1$"
   ]
  },
  {
   "cell_type": "code",
   "execution_count": 21,
   "metadata": {},
   "outputs": [
    {
     "data": {
      "text/latex": [
       "$$p_1=30123.468  Па$$"
      ],
      "text/plain": [
       "<IPython.core.display.Math object>"
      ]
     },
     "metadata": {},
     "output_type": "display_data"
    }
   ],
   "source": [
    "p1 = CP.PropsSI('P','Q',1,'T',Tx,gas) # определим давление p1 зная Температуру Тх и то что в точке 4 насыщенный пар(Q=1)\n",
    "printAns( p1,r'p_1', 'Па')"
   ]
  },
  {
   "cell_type": "markdown",
   "metadata": {},
   "source": [
    "Определим основные параметры"
   ]
  },
  {
   "cell_type": "code",
   "execution_count": 22,
   "metadata": {},
   "outputs": [
    {
     "data": {
      "text/latex": [
       "$$T_7 = T_9 = T_1 - \\Delta T_H=285.000  K$$"
      ],
      "text/plain": [
       "<IPython.core.display.Math object>"
      ]
     },
     "metadata": {},
     "output_type": "display_data"
    },
    {
     "data": {
      "text/latex": [
       "$$h_{1 1}=222656.374  Дж/кг$$"
      ],
      "text/plain": [
       "<IPython.core.display.Math object>"
      ]
     },
     "metadata": {},
     "output_type": "display_data"
    },
    {
     "data": {
      "text/latex": [
       "$$h_{1 2}=245064.476  Дж/кг$$"
      ],
      "text/plain": [
       "<IPython.core.display.Math object>"
      ]
     },
     "metadata": {},
     "output_type": "display_data"
    },
    {
     "data": {
      "text/latex": [
       "$$h_{7}=259119.597  Дж/кг$$"
      ],
      "text/plain": [
       "<IPython.core.display.Math object>"
      ]
     },
     "metadata": {},
     "output_type": "display_data"
    },
    {
     "data": {
      "text/latex": [
       "$$h_{9}=245807.749  Дж/кг$$"
      ],
      "text/plain": [
       "<IPython.core.display.Math object>"
      ]
     },
     "metadata": {},
     "output_type": "display_data"
    }
   ],
   "source": [
    "T7 = T1 - deltaTn\n",
    "T9 = T7\n",
    "T6 = CP.PropsSI('T','Q',1,'P',p1,gas)\n",
    "T8 = CP.PropsSI('T','Q',1,'P',p_D,gas)\n",
    "h1_1 = CP.PropsSI('H','P',p2_1,'T',T1,gas)\n",
    "h1_2 = CP.PropsSI('H','P',p2_2,'T',T1,gas)\n",
    "s1_ = CP.PropsSI('S','P',p1,'T',T1,gas)\n",
    "h1_ = CP.PropsSI('H','P',p1,'T',T1,gas)\n",
    "h1__ = CP.PropsSI('H','P',p_D,'T',T1,gas)\n",
    "hf = CP.PropsSI('H','P',p1,'Q',0,gas)\n",
    "sf = CP.PropsSI('S','P',p1,'Q',0,gas)\n",
    "h7 = CP.PropsSI('H','P',p1,'T',T7,gas)\n",
    "h9 = CP.PropsSI('H','P',p_D,'T',T9,gas)\n",
    "printAns(T7, r'T_7 = T_9 = T_1 - \\Delta T_H','K')\n",
    "#printAns(T9, r'T_9','K')\n",
    "#printAns(T6, r'T_6','K')\n",
    "#printAns(T8, r'T_8','K')\n",
    "printAns(h1_1,r'h_{1 1}', 'Дж/кг')\n",
    "printAns(h1_2,r'h_{1 2}', 'Дж/кг')\n",
    "#printAns(h1_,r\"h_{1'}\", 'Дж/кг')\n",
    "#printAns(h1__,r\"h_{1 ''}\", 'Дж/кг')\n",
    "#printAns(hf,r'h_{f}', 'Дж/кг')\n",
    "printAns(h7,r'h_{7}', 'Дж/кг')\n",
    "printAns(h9,r'h_{9}', 'Дж/кг')\n",
    "#printAns(s1_,r\"s_{1'}\",'дж/кгK')\n",
    "#printAns(sf,r\"s_{f}\",'дж/кгK')"
   ]
  },
  {
   "cell_type": "markdown",
   "metadata": {},
   "source": [
    "$$ q_x = (h_7-h_1)-D \\cdot (h_7-h_9) - q_oc$$"
   ]
  },
  {
   "cell_type": "code",
   "execution_count": 23,
   "metadata": {},
   "outputs": [
    {
     "data": {
      "text/latex": [
       "$$q_{x1}=30469.668  Дж/кг$$"
      ],
      "text/plain": [
       "<IPython.core.display.Math object>"
      ]
     },
     "metadata": {},
     "output_type": "display_data"
    },
    {
     "data": {
      "text/latex": [
       "$$q_{x2}=8061.567  Дж/кг$$"
      ],
      "text/plain": [
       "<IPython.core.display.Math object>"
      ]
     },
     "metadata": {},
     "output_type": "display_data"
    }
   ],
   "source": [
    "qx_1 = h7-h1_1 - D*(h7-h9) - q_oc\n",
    "qx_2 = h7-h1_2 - D*(h7-h9) - q_oc\n",
    "printAns(qx_1,r'q_{x1}','Дж/кг')\n",
    "printAns(qx_2,r'q_{x2}','Дж/кг')"
   ]
  },
  {
   "cell_type": "markdown",
   "metadata": {},
   "source": [
    "Работа сжатия :\n",
    "$$ l = \\frac {(1-D)R\\cdot T1 \\cdot ln(p_D/p_1)}{\\eta_T} + \\frac {R\\cdot T1 \\cdot ln(p_2/p_D)}{\\eta_T} $$"
   ]
  },
  {
   "cell_type": "code",
   "execution_count": 24,
   "metadata": {},
   "outputs": [
    {
     "data": {
      "text/latex": [
       "$$l_{сж1}=577391.545  дж/кг$$"
      ],
      "text/plain": [
       "<IPython.core.display.Math object>"
      ]
     },
     "metadata": {},
     "output_type": "display_data"
    },
    {
     "data": {
      "text/latex": [
       "$$l_{сж2}=495701.644  дж/кг$$"
      ],
      "text/plain": [
       "<IPython.core.display.Math object>"
      ]
     },
     "metadata": {},
     "output_type": "display_data"
    }
   ],
   "source": [
    "l_1 = ((1-D)*R*T1*math.log(p_D/p1, math.e) / n) + R*T1*math.log(p2_1/p_D)/n\n",
    "l_2 = ((1-D)*R*T1*math.log(p_D/p1, math.e) / n) + R*T1*math.log(p2_2/p_D)/n\n",
    "printAns(l_1, r'l_{сж1}','дж/кг')\n",
    "printAns(l_2, r'l_{сж2}','дж/кг')"
   ]
  },
  {
   "cell_type": "markdown",
   "metadata": {},
   "source": [
    "Холодильный коэффициент $$ \\epsilon = \\frac {q_x}{l_{сж}}$$\n",
    "Холодильный коэффициент цикла карно $$ \\epsilon_k = \\frac {Tx}{T_1 - Tx}$$"
   ]
  },
  {
   "cell_type": "code",
   "execution_count": 25,
   "metadata": {},
   "outputs": [
    {
     "data": {
      "text/latex": [
       "$$\\epsilon_1=0.053  $$"
      ],
      "text/plain": [
       "<IPython.core.display.Math object>"
      ]
     },
     "metadata": {},
     "output_type": "display_data"
    },
    {
     "data": {
      "text/latex": [
       "$$\\epsilon_2=0.016  $$"
      ],
      "text/plain": [
       "<IPython.core.display.Math object>"
      ]
     },
     "metadata": {},
     "output_type": "display_data"
    },
    {
     "data": {
      "text/latex": [
       "$$\\epsilon_k=0.364  $$"
      ],
      "text/plain": [
       "<IPython.core.display.Math object>"
      ]
     },
     "metadata": {},
     "output_type": "display_data"
    }
   ],
   "source": [
    "e_1 = qx_1 / l_1 \n",
    "e_2 = qx_2 / l_2 \n",
    "e_k = Tx/(T1-Tx)\n",
    "printAns(e_1,'\\epsilon_1' )\n",
    "printAns(e_2,'\\epsilon_2' )\n",
    "printAns(e_k,'\\epsilon_k' )"
   ]
  },
  {
   "cell_type": "markdown",
   "metadata": {},
   "source": [
    "Степень термодинамического совершенства : $$ \\eta_T = \\frac {\\epsilon}{\\epsilon_k} $$"
   ]
  },
  {
   "cell_type": "code",
   "execution_count": 26,
   "metadata": {},
   "outputs": [
    {
     "data": {
      "text/latex": [
       "$$\\eta_{T 1}=0.145  $$"
      ],
      "text/plain": [
       "<IPython.core.display.Math object>"
      ]
     },
     "metadata": {},
     "output_type": "display_data"
    },
    {
     "data": {
      "text/latex": [
       "$$\\eta_{T 2}=0.045  $$"
      ],
      "text/plain": [
       "<IPython.core.display.Math object>"
      ]
     },
     "metadata": {},
     "output_type": "display_data"
    }
   ],
   "source": [
    "n_T_1 = e_1 / e_k\n",
    "n_T_2 = e_2 / e_k\n",
    "printAns(n_T_1,'\\eta_{T 1}')\n",
    "printAns(n_T_2,'\\eta_{T 2}')"
   ]
  },
  {
   "cell_type": "markdown",
   "metadata": {},
   "source": [
    "### Задача 4 \n",
    "Дано : \n",
    "\n",
    "Газ R22\n",
    "\n",
    "$T_{кон} = 45 C$ \n",
    "$T_{исп} = -5 C$ \n",
    "\n",
    "![last](imgs/4.jpg)\n",
    "\n",
    "По температуре конденсации и испарения находим : $p_1, p_2,h_2,h_4, s_4$\n",
    "\n",
    "$h_3=h_2$\n",
    "\n",
    "$s_1=s_4$ \n",
    "\n",
    "По $p_1$ и $s_1$ находим $h_1$"
   ]
  },
  {
   "cell_type": "code",
   "execution_count": 27,
   "metadata": {},
   "outputs": [
    {
     "data": {
      "text/latex": [
       "$$p_1=421801.723  [Па]$$"
      ],
      "text/plain": [
       "<IPython.core.display.Math object>"
      ]
     },
     "metadata": {},
     "output_type": "display_data"
    },
    {
     "data": {
      "text/latex": [
       "$$p_2=1729211.170  [Па]$$"
      ],
      "text/plain": [
       "<IPython.core.display.Math object>"
      ]
     },
     "metadata": {},
     "output_type": "display_data"
    },
    {
     "data": {
      "text/latex": [
       "$$s_4=1758.060  [дж/кгК]$$"
      ],
      "text/plain": [
       "<IPython.core.display.Math object>"
      ]
     },
     "metadata": {},
     "output_type": "display_data"
    },
    {
     "data": {
      "text/latex": [
       "$$h_4=403161.579  [дж/кг]$$"
      ],
      "text/plain": [
       "<IPython.core.display.Math object>"
      ]
     },
     "metadata": {},
     "output_type": "display_data"
    },
    {
     "data": {
      "text/latex": [
       "$$h_2=256364.125  [дж/кг]$$"
      ],
      "text/plain": [
       "<IPython.core.display.Math object>"
      ]
     },
     "metadata": {},
     "output_type": "display_data"
    },
    {
     "data": {
      "text/latex": [
       "$$h_1=438711.376  [дж/кг]$$"
      ],
      "text/plain": [
       "<IPython.core.display.Math object>"
      ]
     },
     "metadata": {},
     "output_type": "display_data"
    }
   ],
   "source": [
    "#Дано \n",
    "Tkon = 45+273.15\n",
    "Tisp = -5 + 273.15\n",
    "gas = 'R22'\n",
    "p1 =CP.PropsSI('P','Q',1,'T',Tisp,gas)\n",
    "p2 =CP.PropsSI('P','Q',1,'T',Tkon,gas)\n",
    "s4 =CP.PropsSI('S','Q',1,'T',Tisp,gas)\n",
    "h4 =CP.PropsSI('H','Q',1,'T',Tisp,gas)\n",
    "h2 =CP.PropsSI('H','Q',0,'T',Tkon,gas)\n",
    "s1 = s4\n",
    "h3 = h2\n",
    "h1 = CP.PropsSI('H','P',p2,'S',s1,gas)\n",
    "printAns(p1,r'p_1','[Па]')\n",
    "printAns(p2,r'p_2','[Па]')\n",
    "printAns(s4,r's_4','[дж/кгК]')\n",
    "printAns(h4,r'h_4','[дж/кг]')\n",
    "printAns(h2,r'h_2','[дж/кг]')\n",
    "printAns(h1,r'h_1','[дж/кг]')"
   ]
  },
  {
   "cell_type": "markdown",
   "metadata": {},
   "source": [
    "Расчетные формулы характеристик цикла: \n",
    "\n",
    "Работа сжатия $l_{сж} = h_1-h_4$\n",
    "\n",
    "Полезная холодопроизводительность $q_x = h_4-h_3$\n",
    "\n",
    "Холодильный коэффициент $\\epsilon = \\frac {q_x} {l_{сж}} $\n",
    "\n",
    "Холодильный коэффициент цикла карно $\\epsilon_k = \\frac {Tx}{T_T-Tx} $\n",
    "\n",
    "Степень термодинамического совершенства $\\eta_T = \\frac {\\epsilon}{\\epsilon_k}$"
   ]
  },
  {
   "cell_type": "code",
   "execution_count": 28,
   "metadata": {},
   "outputs": [
    {
     "data": {
      "text/latex": [
       "$$l_{сж}=35549.797  дж/кг$$"
      ],
      "text/plain": [
       "<IPython.core.display.Math object>"
      ]
     },
     "metadata": {},
     "output_type": "display_data"
    },
    {
     "data": {
      "text/latex": [
       "$$q_{x}=146797.454  дж/кг$$"
      ],
      "text/plain": [
       "<IPython.core.display.Math object>"
      ]
     },
     "metadata": {},
     "output_type": "display_data"
    },
    {
     "data": {
      "text/latex": [
       "$$\\epsilon=4.129  $$"
      ],
      "text/plain": [
       "<IPython.core.display.Math object>"
      ]
     },
     "metadata": {},
     "output_type": "display_data"
    },
    {
     "data": {
      "text/latex": [
       "$$\\epsilon_k=5.363  $$"
      ],
      "text/plain": [
       "<IPython.core.display.Math object>"
      ]
     },
     "metadata": {},
     "output_type": "display_data"
    },
    {
     "data": {
      "text/latex": [
       "$$\\eta_T=0.770  $$"
      ],
      "text/plain": [
       "<IPython.core.display.Math object>"
      ]
     },
     "metadata": {},
     "output_type": "display_data"
    }
   ],
   "source": [
    "l = h1-h4\n",
    "qx = h4-h3\n",
    "e = qx/l\n",
    "e_k = Tisp/(Tkon-Tisp)\n",
    "n_T = e / e_k\n",
    "printAns(l,'l_{сж}', 'дж/кг')\n",
    "printAns(qx,'q_{x}', 'дж/кг')\n",
    "printAns(e,'\\epsilon' )\n",
    "printAns(e_k,'\\epsilon_k' )\n",
    "printAns(n_T,'\\eta_T')"
   ]
  },
  {
   "cell_type": "code",
   "execution_count": null,
   "metadata": {},
   "outputs": [],
   "source": []
  }
 ],
 "metadata": {
  "kernelspec": {
   "display_name": "Python 3",
   "language": "python",
   "name": "python3"
  },
  "language_info": {
   "codemirror_mode": {
    "name": "ipython",
    "version": 3
   },
   "file_extension": ".py",
   "mimetype": "text/x-python",
   "name": "python",
   "nbconvert_exporter": "python",
   "pygments_lexer": "ipython3",
   "version": "3.6.3"
  }
 },
 "nbformat": 4,
 "nbformat_minor": 1
}
