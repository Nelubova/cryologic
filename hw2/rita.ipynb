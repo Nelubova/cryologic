{
 "metadata": {
  "name": "",
  "signature": "sha256:ab73cb4a3047252c0f624332b36c4ad3b8dfc24ebb9963e6d4397869d0fe410e"
 },
 "nbformat": 3,
 "nbformat_minor": 0,
 "worksheets": [
  {
   "cells": [
    {
     "cell_type": "markdown",
     "metadata": {},
     "source": [
      "# <center>\u0414\u043e\u043c\u0430\u0448\u043d\u0435\u0435 \u0437\u0430\u0434\u0430\u043d\u0438\u0435 \u21162 \u043f\u043e \u043a\u0443\u0440\u0441\u0443 \"\u041d\u0430\u0443\u0447\u043d\u044b\u0435 \u043e\u0441\u043d\u043e\u0432\u044b \u043a\u0440\u0438\u043e\u043b\u043e\u0433\u0438\u0438\"</center>\n",
      "### <center>\u0420\u0430\u0441\u0447\u0435\u0442 \u043e\u0441\u043d\u043e\u0432\u043d\u044b\u0445 \u0445\u0430\u0440\u0430\u043a\u0442\u0435\u0440\u0438\u0441\u0442\u0438\u043a \u0434\u0440\u043e\u0441\u0441\u0435\u043b\u044c\u043d\u044b\u0445 \u0446\u0438\u043a\u043b\u043e\u0432</center>"
     ]
    },
    {
     "cell_type": "markdown",
     "metadata": {},
     "source": [
      "\u0414\u043b\u044f \u043a\u0430\u0436\u0434\u043e\u0433\u043e \u0438\u0437 \u043f\u0435\u0440\u0432\u044b\u0445 \u0442\u0440\u0451\u0445 \u0437\u0430\u0434\u0430\u043d\u043d\u044b\u0445 \u0434\u0440\u043e\u0441\u0441\u0435\u043b\u044c\u043d\u044b\u0445 \u0446\u0438\u043a\u043b\u043e\u0432 \u043f\u0440\u043e\u0432\u0435\u0441\u0442\u0438 \n",
      "\u0440\u0430\u0441\u0447\u0435\u0442 \u0434\u0432\u0443\u0445 \u0440\u0435\u0436\u0438\u043c\u043e\u0432 \u0440\u0430\u0431\u043e\u0442\u044b \u043f\u0440\u0438 \u0437\u0430\u0434\u0430\u043d\u043d\u044b\u0445 \u0432 \u0442\u0430\u0431\u043b\u0438\u0446\u0435 \u043f\u0430\u0440\u0430\u043c\u0435\u0442\u0440\u0430\u0445. \u041a\u043e\u043d\u0442\u0440\u043e\u043b\u044c \n",
      "\u043f\u0440\u0430\u0432\u0438\u043b\u044c\u043d\u043e\u0441\u0442\u0438  \u0440\u0430\u0441\u0447\u0435\u0442\u043e\u0432  \u043f\u0440\u043e\u0432\u043e\u0434\u0438\u0442\u0441\u044f:  \u0434\u043b\u044f  \u0440\u0435\u0444\u0440\u0438\u0436\u0435\u0440\u0430\u0442\u043e\u0440\u043d\u044b\u0445  \u0446\u0438\u043a\u043b\u043e\u0432 -\u043f\u043e \n",
      "\u0443\u0434\u0435\u043b\u044c\u043d\u043e\u0439  \u0445\u043e\u043b\u043e\u0434\u043e\u043f\u0440\u043e\u0438\u0437\u0432\u043e\u0434\u0438\u0442\u0435\u043b\u044c\u043d\u043e\u0441\u0442\u0438,  \u0445\u043e\u043b\u043e\u0434\u0438\u043b\u044c\u043d\u043e\u043c\u0443  \u043a\u043e\u044d\u0444\u0444\u0438\u0446\n",
      "\u0438\u0435\u043d\u0442\u0443  \u0438 \n",
      "\u0441\u0442\u0435\u043f\u0435\u043d\u0438  \u0442\u0435\u0440\u043c\u043e\u0434\u0438\u043d\u0430\u043c\u0438\u0447\u0435\u0441\u043a\u043e\u0433\u043e  \u0441\u043e\u0432\u0435\u0440\u0448\u0435\u043d\u0441\u0442\u0432\u0430  \u0446\u0438\u043a\u043b\u0430;  \u0434\u043b\u044f  \u043e\u0436\u0438\u0436\u0438\u0442\u0435\u043b\u044c\u043d\u044b\u0445 \n",
      "\u0446\u0438\u043a\u043b\u043e\u0432 -\u043f\u043e \u043a\u043e\u044d\u0444\u0444\u0438\u0446\u0438\u0435\u043d\u0442\u0443 \u043e\u0436\u0438\u0436\u0435\u043d\u0438\u044f, \u0437\u0430\u0442\u0440\u0430\u0442\u0430\u043c \u044d\u043d\u0435\u0440\u0433\u0438\u0438 \u0434\u043b\u044f \u043f\u043e\u043b\u0443\u0447\u0435\u043d\u0438\u044f \n",
      "1\u043a\u0433\n",
      "\u0436\u0438\u0434\u043a\u043e\u0433\u043e  \u043f\u0440\u043e\u0434\u0443\u043a\u0442\u0430  \u0438  \u0441\u0442\u0435\u043f\u0435\u043d\u0438  \u0442\u0435\u0440\u043c\u043e\u0434\u0438\u043d\u0430\u043c\u0438\u0447\u0435\u0441\u043a\u043e\u0433\u043e  \u0441\u043e\u0432\u0435\u0440\u0448\u0435\u043d\u0441\u0442\u0432\u0430.  \u0414\u043b\u044f \n",
      "\u0447\u0435\u0442\u0432\u0451\u0440\u0442\u043e\u0433\u043e \u0446\u0438\u043a\u043b\u0430 \u043d\u0435\u043e\u0431\u0445\u043e\u0434\u0438\u043c\u043e \u043e\u043f\u0440\u0435\u0434\u0435\u043b\u0438\u0442\u044c  \u0441\u043b\u0435\u0434\u0443\u044e\u0449\u0438\u0435  \u0443\n",
      "\u0434\u0435\u043b\u044c\u043d\u044b\u0435  \u0432\u0435\u043b\u0438\u0447\u0438\u043d\u044b: \n",
      "\u0440\u0430\u0431\u043e\u0442\u0443 \u0446\u0438\u043a\u043b\u0430, \u0442\u0435\u043f\u043b\u043e\u0442\u0443 \u043a\u043e\u043d\u0434\u0435\u043d\u0441\u0430\u0446\u0438\u0438,  \u043f\u043e\u043b\u0435\u0437\u043d\u0443\u044e \u0445\u043e\u043b\u043e\u0434\u043e\u043f\u0440\u043e\u0438\u0437\u0432\u043e\u0434\u0438\u0442\u0435\u043b\u044c\u043d\u043e\u0441\u0442\u044c, \n",
      "\u0445\u043e\u043b\u043e\u0434\u0438\u043b\u044c\u043d\u044b\u0439 \u043a\u043e\u044d\u0444\u0444\u0438\u0446\u0438\u0435\u043d\u0442 \u0438 \u0441\u0442\u0435\u043f\u0435\u043d\u044c \u0442\u0435\u0440\u043c\u043e\u0434\u0438\u043d\u0430\u043c\u0438\u0447\u0435\u0441\u043a\u043e\u0433\u043e \u0441\u043e\u0432\u0435\u0440\u0448\u0435\u043d\u0441\u0442\u0432\u0430. \n",
      "\u041f\u043e \u0440\u0435\u0437\u0443\u043b\u044c\u0442\u0430\u0442\u0430\u043c \u0440\u0430\u0431\u043e\u0442\u044b \u0441\u043e\u0441\u0442\u0430\u0432\u0438\u0442\u044c \u043e\u0442\u0447\u0435\u0442, \u0432\u043a\u043b\u044e\u0447\u0430\u044e\u0449\u0438\u0439 \u0437\u0430\u0434\u0430\u043d\u0438\u0435, \u043f\u043e\u0440\u044f\u0434\u043e\u043a \n",
      "\u0438 \u0440\u0435\u0437\u0443\u043b\u044c\u0442\u0430\u0442\u044b \u0440\u0430\u0441\u0447\u0435\u0442\u0430, \u0441\u0445\u0435\u043c\u0443 \u043a\u0430\u0436\u0434\n",
      "\u043e\u0433\u043e \u0446\u0438\u043a\u043b\u0430 \u0441 \u043e\u0431\u043e\u0437\u043d\u0430\u0447\u0435\u043d\u0438\u044f\u043c\u0438 \u0438\u0437\u043e\u0431\u0440\u0430\u0436\u0435\u043d\u0438\u0435\u043c \u0432 \n",
      "T-S-\u0434\u0438\u0430\u0433\u0440\u0430\u043c\u043c\u0435 \u043f\u0440\u043e\u0446\u0435\u0441\u0441\u043e\u0432 \u0446\u0438\u043a\u043b\u0430. \u041e\u0442\u0447\u0435\u0442 \u0434\u043e\u043b\u0436\u0435\u043d \u0441\u043e\u0434\u0435\u0440\u0436\u0430\u0442\u044c \u0442\u0430\u043a\u0436\u0435 \u0440\u0435\u0437\u0443\u043b\u044c\u0442\u0430\u0442\u044b \n",
      "\u043e\u043f\u0442\u0438\u043c\u0438\u0437\u0430\u0446\u0438\u0438 \u043f\u0435\u0440\u0432\u044b\u0445 \u0442\u0440\u0451\u0445 \u0446\u0438\u043a\u043b\u043e\u0432 \u0434\u043b\u044f \u043e\u043f\u0440\u0435\u0434\u0435\u043b\u0435\u043d\u0438\u044f \u043c\u0430\u043a\u0441\u0438\u043c\u0430\u043b\u044c\u043d\u044b\u0445 \u0437\u043d\u0430\u0447\u0435\u043d\u0438\u0439 \n",
      "\u0441\u0442\u0435\u043f\u0435\u043d\u0438 \u0442\u0435\u0440\u043c\u043e\u0434\u0438\u043d\u0430\u043c\u0438\u0447\u0435\u0441\u043a\u043e\u0433\u043e \u0441\u043e\u0432\u0435\u0440\u0448\u0435\u043d\u0441\u0442\u0432\u0430, \u0437\u043d\u0430\u0447\u0435\u043d\u0438\u044f \u0442\u0435\u043c\u043f\u0435\u0440\u0430\u0442\u0443\u0440, \u0434\u0430\u0432\u043b\u0435\u043d\u0438\u0439, \n",
      "\u044d\u043d\u0442\u0430\u043b\u044c\u043f\u0438\u0439 \u0434\u043b\u044f p\u0430\u0441\u0447\u0435\u0442\u043d\u044b\u0445 p\u0435\u0436\u0438\u043c\u043e\u0432 p\u0430\u0431\u043e\u0442\u044b.\n",
      "\n",
      "\u0414\u043e\u043f\u043e\u043b\u043d\u0438\u0442\u0435\u043b\u044c\u043d\u044b\u0435 \u0434\u0430\u043d\u043d\u044b\u0435: \n",
      "- \u043d\u0435\u0434\u043e\u0440\u0435\u043a\u0443\u043f\u0435\u0440\u0430\u0446\u0438\u044f \u0432 \u0442\u0435\u043f\u043b\u043e\u043e\u0431\u043c\u0435\u043d\u043d\u0438\u043a\u0430\u0445 $\\Delta T_H$ \u0440\u0430\u0432\u043d\u0430 15\u041a\n",
      "- \u0432\u043d\u0435\u0448\u043d\u0438\u0439 \u0442\u0435\u043f\u043b\u043e\u043f\u0440\u0438\u0442\u043e\u043a $q_{o.c.} = 2 \u043a\u0414\u0436/\u043a\u0433$;\n",
      "- \u0442\u0435\u043c\u043f\u0435\u0440\u0430\u0442\u0443\u0440\u0430 \u0438\u0437\u043e\u0442\u0435\u0440\u043c\u0438\u0447\u0435\u0441\u043a\u043e\u0433\u043e \u0441\u0436\u0430\u0442\u0438\u044f \u0432 \u043a\u043e\u043c\u043f\u0440\u0435\u0441\u0441\u043e\u0440\u0435 $\u0422_1=300K$\n",
      "- \u0438\u0437\u043e\u0442\u0435\u0440\u043c\u0438\u0447\u0435\u0441\u043a\u0438\u0439 \u041a\u041f\u0414 \u043a\u043e\u043c\u043f\u0440\u0435\u0441\u0441\u043e\u0440\u043e\u0432 0.7\n",
      "\n",
      "\u0414\u043b\u044f \u0446\u0438\u043a\u043b\u0430 \u0441 \u043f\u0440\u0435\u0434\u0432\u0430\u0440\u0438\u0442\u0435\u043b\u044c\u043d\u044b\u043c \u043e\u0445\u043b\u0430\u0436\u0434\u0435\u043d\u0438\u0435\u043c \u0434\u043e\u043f\u043e\u043b\u043d\u0438\u0442\u0435\u043b\u044c\u043d\u043e \u0437\u0430\u0434\u0430\u043d\u043e:\n",
      "- \u0442\u0435\u043c\u043f\u0435\u0440\u0430\u0442\u0443\u0440\u0430 \u043f\u0440\u0435\u0434\u0432\u0430\u0440\u0438\u0442\u0435\u043b\u044c\u043d\u043e\u0433\u043e \u043e\u0445\u043b\u0430\u0436\u0434\u0435\u043d\u0438\u044f \u0434\u043b\u044f -250 \u041a, (\u0445\u043b\u0430\u0434\u0430\u0433\u0435\u043d\u0442 \u0430\u043c\u043c\u0438\u0430\u043a)\n",
      "- \u0445\u043e\u043b\u043e\u0434\u043e\u043f\u0440\u043e\u0438\u0437\u0432\u043e\u0434\u0438\u0442\u0435\u043b\u044c\u043d\u043e\u0441\u0442\u044c  \u0432  \u0434\u043e\u043f\u043e\u043b\u043d\u0438\u0442\u0435\u043b\u044c\u043d\u043e\u043c  \u0446\u0438\u043a\u043b\u0435  \u043d\u0430  \u0435\u0434\u0438\u043d\u0438\u0446\u0443 \u0437\u0430\u0442\u0440\u0430\u0442 \u0440\u0430\u0431\u043e\u0442\u044b $q_l = 2.8$ \u0414\u0436\"\u0445\u043e\u043b\u043e\u0434\u0430\"/\u0414\u0436\"\u0440\u0430\u0431\u043e\u0442\u044b\"\n",
      "\n",
      "\u0412  \u0446\u0438\u043a\u043b\u0435  \u0441  \u0434\u0432\u043e\u0439\u043d\u044b\u043c  \u0434\u0440\u043e\u0441\u0441\u0435\u043b\u0438\u0440\u043e\u0432\u0430\u043d\u0438\u0435\u043c  \u0438  \u0446\u0438\u0440\u043a\u0443\u043b\u044f\u0446\u0438\u0435\u0439  \u0447\u0430\u0441\u0442\u0438  \u043f\u043e\u0442\u043e\u043a\u0430 \u0434\u043e\u043f\u043e\u043b\u043d\u0438\u0442\u0435\u043b\u044c\u043d\u043e \u0437\u0430\u0434\u0430\u043d\u043e:\n",
      "- \u0414\u0430\u0432\u043b\u0435\u043d\u0438\u0435 \u043f\u0440\u043e\u043c\u0435\u0436\u0443\u0442\u043e\u0447\u043d\u043e\u0433\u043e \u0441\u0436\u0430\u0442\u0438\u044f $p_D$\n",
      "- \u0434\u043e\u043b\u044f \u0446\u0438\u0440\u043a\u0443\u043b\u0438\u0440\u0443\u044e\u0449\u0435\u0433\u043e \u043f\u043e\u0442\u043e\u043a\u0430 D"
     ]
    },
    {
     "cell_type": "code",
     "collapsed": false,
     "input": [
      "# \u041f\u043e\u0434\u043a\u043b\u044e\u0447\u0435\u043d\u0438\u0435 \u043d\u0435\u043e\u0431\u0445\u043e\u0434\u0438\u043c\u044b\u0445 \u0431\u0438\u0431\u043b\u0438\u043e\u0442\u0435\u043a \u0438 \u043d\u0430\u0441\u0442\u0440\u043e\u0439\u043a\u0430 \u043e\u043a\u0440\u0443\u0436\u0435\u043d\u0438\u044f\n",
      "import CoolProp.CoolProp as CP\n",
      "import math\n",
      "import CoolProp\n",
      "from CoolProp.Plots import PropertyPlot\n",
      "import matplotlib.pyplot as plt\n",
      "from CoolProp.Plots.SimpleCycles import StateContainer\n",
      "import warnings\n",
      "warnings.filterwarnings('ignore')\n",
      "import matplotlib.pyplot as plt\n",
      "plt.rcParams[\"figure.figsize\"] = (9,9) #\u0440\u0430\u0437\u043c\u0435\u0440 \u0433\u0440\u0430\u0444\u0438\u043a\u043e\u0432 (\u0432 \u0434\u044e\u0439\u043c\u0430\u0445)\n",
      "from IPython.display import display, Math, Latex\n",
      "def printAns(obj,name,razmer=''): # \u0432\u0441\u043f\u043e\u043c\u043e\u0433\u0430\u0442\u0435\u043b\u044c\u043d\u0430\u044f \u0444\u0443\u043d\u043a\u0446\u0438\u044f \u0434\u043b\u044f \u0432\u044b\u0432\u043e\u0434\u0430 \u0437\u043d\u0430\u0447\u0435\u043d\u0438\u0439\n",
      "    display(Math(name+r'='+('%.4f ' % obj)+' '+razmer))"
     ],
     "language": "python",
     "metadata": {},
     "outputs": [],
     "prompt_number": 1
    },
    {
     "cell_type": "markdown",
     "metadata": {},
     "source": [
      "## \u0417\u0430\u0434\u0430\u0447\u0430 1\n",
      "\n",
      "\u0414\u0430\u043d\u043e:\n",
      "\n",
      "\u041f\u0414.\n",
      "\n",
      "\u041e\u0436\u0438\u0436\u0438\u0442\u0435\u043b\u044c\u043d\u044b\u0439 \u0440\u0435\u0436\u0438\u043c\n",
      "\n",
      "\u0414\u0430\u0432\u043b\u0435\u043d\u0438\u0435 $p_1=1.5 \u0431\u0430\u0440$\n",
      "\n",
      "\u0414\u0430\u0432\u043b\u0435\u043d\u0438\u044f $p_2=400 | 150$ \u0431\u0430\u0440\n",
      "\n",
      "\u0413\u0430\u0437 - \u0432\u043e\u0437\u0434\u0443\u0445\n",
      "\n",
      "### \u0414\u043b\u044f \u0434\u0430\u0432\u043b\u0435\u043d\u0438\u044f $p_2=400$ \u0431\u0430\u0440"
     ]
    },
    {
     "cell_type": "code",
     "collapsed": false,
     "input": [
      "#dano\n",
      "p1=1.5* 10**5\n",
      "p2_1=400*10**5\n",
      "p2_2=150*10**5\n",
      "gas = 'Air'\n",
      "T1 = 300\n",
      "q_oc = 2 * 10**3 #\u0434\u0436/\u043a\u0433\n",
      "deltaTn = 15 # \u043d\u0435\u0434\u043e\u0440\u0435\u043a\u0443\u043f\u0435\u0440\u0430\u0446\u0438\u044f\n",
      "R = 8.31 / CP.PropsSI('M',gas)\n",
      "printAns(R,'R', '\u0414\u0436/(\u043a\u0433\u041a)') #\u0438\u043d\u0434\u0438\u0432\u0438\u0434\u0443\u0430\u043b\u044c\u043d\u0430\u044f \u0433\u0430\u0437\u043e\u0432\u0430\u044f \u043f\u043e\u0441\u0442\u043e\u044f\u043d\u043d\u0430\u044f\n",
      "n = 0.7 # \u043a\u043f\u0434 \u0438\u0437\u043e\u0442\u0435\u0440\u043c\u0438\u0447\u0435\u0441\u043a\u0438\u0439"
     ],
     "language": "python",
     "metadata": {},
     "outputs": [
      {
       "latex": [
        "$$R=286.8934  \u0414\u0436/(\u043a\u0433\u041a)$$"
       ],
       "metadata": {},
       "output_type": "display_data",
       "text": [
        "<IPython.core.display.Math at 0x7f37706c49b0>"
       ]
      }
     ],
     "prompt_number": 2
    },
    {
     "cell_type": "markdown",
     "metadata": {},
     "source": [
      "$T_6=T_1$\n",
      "\n",
      "$P_6=P_1$\n",
      "\n",
      "$T_5=T_6-\\Delta T_H$\n",
      "\n",
      "$p_3=p_1$"
     ]
    },
    {
     "cell_type": "code",
     "collapsed": false,
     "input": [
      "T6=T1; p6=p1; T5=T6-deltaTn; p3=p1;\n",
      "printAns(T6,r'T_6','K')\n",
      "printAns(p6,r'p_6','\u041f\u0430')\n",
      "printAns(T5,r'T_5','K')\n",
      "printAns(p3,r'p_3','\u041f\u0430')"
     ],
     "language": "python",
     "metadata": {},
     "outputs": [
      {
       "latex": [
        "$$T_6=300.0000  K$$"
       ],
       "metadata": {},
       "output_type": "display_data",
       "text": [
        "<IPython.core.display.Math at 0x7f3775c61b70>"
       ]
      },
      {
       "latex": [
        "$$p_6=150000.0000  \u041f\u0430$$"
       ],
       "metadata": {},
       "output_type": "display_data",
       "text": [
        "<IPython.core.display.Math at 0x7f3775c61b00>"
       ]
      },
      {
       "latex": [
        "$$T_5=285.0000  K$$"
       ],
       "metadata": {},
       "output_type": "display_data",
       "text": [
        "<IPython.core.display.Math at 0x7f3775c61b70>"
       ]
      },
      {
       "latex": [
        "$$p_3=150000.0000  \u041f\u0430$$"
       ],
       "metadata": {},
       "output_type": "display_data",
       "text": [
        "<IPython.core.display.Math at 0x7f3775c61b00>"
       ]
      }
     ],
     "prompt_number": 3
    },
    {
     "cell_type": "markdown",
     "metadata": {},
     "source": [
      "\u0422\u0435\u043c\u043f\u0435\u0440\u0430\u0442\u0443\u0440\u0430 \u0436\u0438\u0434\u043a\u043e\u0441\u0442\u0438 \u0432 \u0442\u043e\u0447\u043a\u0435 4 \u0440\u0430\u0432\u043d\u0430 \u0442\u0435\u043c\u043f\u0435\u0440\u0430\u0442\u0443\u0440\u0435 \u0436\u0438\u0434\u043a\u043e\u0441\u0442\u0438 \u0432 \u0442\u043e\u0447\u043a\u0435 \u0442\u0440\u0438.\n",
      "$$T_3=T_4$$\n",
      "\u0422\u0435\u043c\u043f\u0435\u0440\u0430\u0442\u0443\u0440\u0430 \u043e\u043f\u0440\u0435\u0434\u0435\u043b\u044f\u0435\u0442\u0441\u044f \u043f\u043e \u0434\u0430\u0432\u043b\u0435\u043d\u0438\u044e $p_1$ \u0434\u043b\u044f \u043d\u0430\u0441\u044b\u0449\u0435\u043d\u043d\u043e\u0439 \u0436\u0438\u0434\u043a\u043e\u0441\u0442\u0438"
     ]
    },
    {
     "cell_type": "code",
     "collapsed": false,
     "input": [
      "T4=CP.PropsSI('T','Q',1,'P',p1,gas)\n",
      "T3=T4\n",
      "printAns(T4,r'T_4=T_3','K')"
     ],
     "language": "python",
     "metadata": {},
     "outputs": [
      {
       "latex": [
        "$$T_4=T_3=85.2098  K$$"
       ],
       "metadata": {},
       "output_type": "display_data",
       "text": [
        "<IPython.core.display.Math at 0x7f37a0cb1518>"
       ]
      }
     ],
     "prompt_number": 4
    },
    {
     "cell_type": "markdown",
     "metadata": {},
     "source": [
      "\u041e\u043f\u0440\u0435\u0434\u0435\u043b\u0438\u043b\u0438 \u044d\u043d\u0442\u0430\u043b\u044c\u043f\u0438\u0438 \u0432 \u0442\u043e\u0447\u043a\u0430\u0445 $h_1,h_f,h_5,h_6$"
     ]
    },
    {
     "cell_type": "code",
     "collapsed": false,
     "input": [
      "h1=CP.PropsSI('H','T',T1,'P',p2_1,gas)\n",
      "hf=CP.PropsSI('H','T',T4,'Q',0,gas)\n",
      "h5=CP.PropsSI('H','T',T5,'P',p1,gas)\n",
      "h6=CP.PropsSI('H','T',T6,'P',p1,gas)\n",
      "printAns(h1,r'h_1','\u0414\u0436/\u043a\u0433')\n",
      "printAns(hf,r'h_f','\u0414\u0436/\u043a\u0433')\n",
      "printAns(h5,r'h_5','\u0414\u0436/\u043a\u0433')\n",
      "printAns(h6,r'h_6','\u0414\u0436/\u043a\u0433')"
     ],
     "language": "python",
     "metadata": {},
     "outputs": [
      {
       "latex": [
        "$$h_1=381368.2201  \u0414\u0436/\u043a\u0433$$"
       ],
       "metadata": {},
       "output_type": "display_data",
       "text": [
        "<IPython.core.display.Math at 0x7f37706db358>"
       ]
      },
      {
       "latex": [
        "$$h_f=12346.9373  \u0414\u0436/\u043a\u0433$$"
       ],
       "metadata": {},
       "output_type": "display_data",
       "text": [
        "<IPython.core.display.Math at 0x7f37706db390>"
       ]
      },
      {
       "latex": [
        "$$h_5=411083.3396  \u0414\u0436/\u043a\u0433$$"
       ],
       "metadata": {},
       "output_type": "display_data",
       "text": [
        "<IPython.core.display.Math at 0x7f37706db3c8>"
       ]
      },
      {
       "latex": [
        "$$h_6=426187.5695  \u0414\u0436/\u043a\u0433$$"
       ],
       "metadata": {},
       "output_type": "display_data",
       "text": [
        "<IPython.core.display.Math at 0x7f37706db320>"
       ]
      }
     ],
     "prompt_number": 5
    },
    {
     "cell_type": "markdown",
     "metadata": {},
     "source": [
      "\u041e\u043f\u0440\u0435\u0434\u0435\u043b\u0438\u043b\u0438 \u044d\u043d\u0442\u0440\u043e\u043f\u0438\u0438 \u0432 \u0442\u043e\u0447\u043a\u0430\u0445 $s_1,s_f,s_6$"
     ]
    },
    {
     "cell_type": "code",
     "collapsed": false,
     "input": [
      "s1=CP.PropsSI('S','T',T1,'P',p2_1,gas)\n",
      "sf=CP.PropsSI('S','T',T4,'Q',0,gas)\n",
      "s6=CP.PropsSI('S','T',T6,'P',p1,gas)\n",
      "printAns(s1,r's_1','\u0414\u0436/\u043a\u0433\u041a')\n",
      "printAns(sf,r's_f','\u0414\u0436/\u043a\u0433\u041a')\n",
      "printAns(s6,r's_6','\u0414\u0436/\u043a\u0433\u041a')"
     ],
     "language": "python",
     "metadata": {},
     "outputs": [
      {
       "latex": [
        "$$s_1=2004.5193  \u0414\u0436/\u043a\u0433\u041a$$"
       ],
       "metadata": {},
       "output_type": "display_data",
       "text": [
        "<IPython.core.display.Math at 0x7f37a3d1d438>"
       ]
      },
      {
       "latex": [
        "$$s_f=149.1785  \u0414\u0436/\u043a\u0433\u041a$$"
       ],
       "metadata": {},
       "output_type": "display_data",
       "text": [
        "<IPython.core.display.Math at 0x7f37a3d1d940>"
       ]
      },
      {
       "latex": [
        "$$s_6=3773.7798  \u0414\u0436/\u043a\u0433\u041a$$"
       ],
       "metadata": {},
       "output_type": "display_data",
       "text": [
        "<IPython.core.display.Math at 0x7f37a3d1d438>"
       ]
      }
     ],
     "prompt_number": 6
    },
    {
     "cell_type": "markdown",
     "metadata": {},
     "source": [
      "\u041a\u043e\u044d\u0444\u0444\u0438\u0446\u0438\u0435\u043d\u0442 \u043e\u0436\u0438\u0436\u0435\u043d\u0438\u044f $$ \\chi= \\frac {(h_5-h_1)-q_{oc}}{h_5-h_f}$$\n"
     ]
    },
    {
     "cell_type": "code",
     "collapsed": false,
     "input": [
      "chi=(h5-h1-q_oc)/(h5-hf)\n",
      "printAns(chi,r'\\chi')"
     ],
     "language": "python",
     "metadata": {},
     "outputs": [
      {
       "latex": [
        "$$\\chi=0.0695  $$"
       ],
       "metadata": {},
       "output_type": "display_data",
       "text": [
        "<IPython.core.display.Math at 0x7f37706c4f28>"
       ]
      }
     ],
     "prompt_number": 7
    },
    {
     "cell_type": "markdown",
     "metadata": {},
     "source": [
      "\u0418\u0437\u043e\u0442\u0435\u0440\u043c\u0438\u0447\u0435\u0441\u043a\u0430\u044f \u0440\u0430\u0431\u043e\u0442\u0430:\n",
      "$$ l_T = T_1(s_6-s_1)-(h_5-h_1)$$"
     ]
    },
    {
     "cell_type": "code",
     "collapsed": false,
     "input": [
      "l_t = T1*(s6-s1)-(h5-h1)\n",
      "printAns(l_t,r'l_T','\u0414\u0436/\u043a\u0433')"
     ],
     "language": "python",
     "metadata": {},
     "outputs": [
      {
       "latex": [
        "$$l_T=501063.0197  \u0414\u0436/\u043a\u0433$$"
       ],
       "metadata": {},
       "output_type": "display_data",
       "text": [
        "<IPython.core.display.Math at 0x7f37a0cb15c0>"
       ]
      }
     ],
     "prompt_number": 8
    },
    {
     "cell_type": "markdown",
     "metadata": {},
     "source": [
      "\u0420\u0430\u0431\u043e\u0442\u0430 \u0441\u0436\u0430\u0442\u0438\u044f \u0432 \u043a\u043e\u043c\u043f\u0440\u0435\u0441\u0441\u043e\u0440\u0435 : \n",
      "$$l_k=\\frac {l_T} {\\eta_{\u0438\u0437}}$$"
     ]
    },
    {
     "cell_type": "code",
     "collapsed": false,
     "input": [
      "l_k=l_t/n\n",
      "printAns(l_k,r'l_k','\u0414\u0436/\u043a\u0433')"
     ],
     "language": "python",
     "metadata": {},
     "outputs": [
      {
       "latex": [
        "$$l_k=715804.3139  \u0414\u0436/\u043a\u0433$$"
       ],
       "metadata": {},
       "output_type": "display_data",
       "text": [
        "<IPython.core.display.Math at 0x7f37706c4f28>"
       ]
      }
     ],
     "prompt_number": 9
    },
    {
     "cell_type": "markdown",
     "metadata": {},
     "source": [
      "\u0420\u0430\u0431\u043e\u0442\u0430 \u043d\u0430 \u043f\u043e\u043b\u0443\u0447\u0435\u043d\u0438\u0435 \u043e\u0434\u043d\u043e\u0433\u043e \u043a\u0433 \u0436\u0438\u0434\u043a\u043e\u0441\u0442\u0438:\n",
      "$$ N_e^o = \\frac {l_k}{\\chi}$$"
     ]
    },
    {
     "cell_type": "code",
     "collapsed": false,
     "input": [
      "Neo=l_k/chi\n",
      "printAns(Neo,r'N_e^o','\u0414\u0436/\u043a\u0433')"
     ],
     "language": "python",
     "metadata": {},
     "outputs": [
      {
       "latex": [
        "$$N_e^o=10298250.2679  \u0414\u0436/\u043a\u0433$$"
       ],
       "metadata": {},
       "output_type": "display_data",
       "text": [
        "<IPython.core.display.Math at 0x7f37a0cb1438>"
       ]
      }
     ],
     "prompt_number": 10
    },
    {
     "cell_type": "markdown",
     "metadata": {},
     "source": [
      "\u041c\u0438\u043d\u0438\u043c\u0430\u043b\u044c\u043d\u0430\u044f \u0440\u0430\u0431\u043e\u0442\u0430 \u043e\u0436\u0438\u0436\u0435\u043d\u0438\u044f \n",
      "$$ l_{min}=T_1(s_6-s_f)-(h_6-h_f) $$"
     ]
    },
    {
     "cell_type": "code",
     "collapsed": false,
     "input": [
      "l_min=T1*(s6-sf)-(h6-hf)\n",
      "printAns(l_min,r'l_{min}','\u0414\u0436/\u043a\u0433')"
     ],
     "language": "python",
     "metadata": {},
     "outputs": [
      {
       "latex": [
        "$$l_{min}=673539.7622  \u0414\u0436/\u043a\u0433$$"
       ],
       "metadata": {},
       "output_type": "display_data",
       "text": [
        "<IPython.core.display.Math at 0x7f37a0cb1470>"
       ]
      }
     ],
     "prompt_number": 11
    },
    {
     "cell_type": "markdown",
     "metadata": {},
     "source": [
      "\u041a\u043e\u044d\u0444\u0444\u0438\u0446\u0438\u0435\u043d\u0442 \u0442\u0435\u043c\u0440\u043e\u0434\u0438\u043d\u0430\u043c\u0438\u0447\u0435\u0441\u043a\u043e\u0433\u043e \u0441\u043e\u0432\u0435\u0440\u0448\u0435\u043d\u0441\u0442\u0432\u0430:\n",
      "$$ \\eta_T= \\frac {l_{min}}{N_o^e} $$"
     ]
    },
    {
     "cell_type": "code",
     "collapsed": false,
     "input": [
      "n_T = l_min/Neo\n",
      "printAns(n_T,r'\\eta_T')"
     ],
     "language": "python",
     "metadata": {},
     "outputs": [
      {
       "latex": [
        "$$\\eta_T=0.0654  $$"
       ],
       "metadata": {},
       "output_type": "display_data",
       "text": [
        "<IPython.core.display.Math at 0x7f37a0cb14e0>"
       ]
      }
     ],
     "prompt_number": 12
    },
    {
     "cell_type": "markdown",
     "metadata": {},
     "source": [
      "### \u0414\u043b\u044f \u0434\u0430\u0432\u043b\u0435\u043d\u0438\u044f $p_2=150$ \u0431\u0430\u0440:"
     ]
    },
    {
     "cell_type": "code",
     "collapsed": false,
     "input": [
      "h1=CP.PropsSI('H','T',T1,'P',p2_1,gas)\n",
      "hf=CP.PropsSI('H','T',T4,'Q',0,gas)\n",
      "h5=CP.PropsSI('H','T',T5,'P',p1,gas)\n",
      "h6=CP.PropsSI('H','T',T6,'P',p1,gas)\n",
      "printAns(h1,r'h_1','\u0414\u0436/\u043a\u0433')\n",
      "printAns(hf,r'h_f','\u0414\u0436/\u043a\u0433')\n",
      "printAns(h5,r'h_5','\u0414\u0436/\u043a\u0433')\n",
      "printAns(h6,r'h_6','\u0414\u0436/\u043a\u0433')\n",
      "s1=CP.PropsSI('S','T',T1,'P',p2_1,gas)\n",
      "sf=CP.PropsSI('S','T',T4,'Q',0,gas)\n",
      "s6=CP.PropsSI('S','T',T6,'P',p1,gas)\n",
      "printAns(s1,r's_1','\u0414\u0436/\u043a\u0433\u041a')\n",
      "printAns(sf,r's_f','\u0414\u0436/\u043a\u0433\u041a')\n",
      "printAns(s6,r's_6','\u0414\u0436/\u043a\u0433\u041a')\n",
      "\n",
      "chi=(h5-h1-q_oc)/(h5-hf)\n",
      "printAns(chi,r'\\chi= \\frac {(h_5-h_1)-q_{oc}}{h_5-h_f}')\n",
      "\n",
      "l_t = T1*(s6-s1)-(h5-h1)\n",
      "printAns(l_t,r'l_T = T_1(s_6-s_1)-(h_5-h_1)','\u0414\u0436/\u043a\u0433')\n",
      "\n",
      "l_k=l_t/n\n",
      "printAns(l_k,r'l_k=\\frac {l_T} {\\eta_{\u0438\u0437}}','\u0414\u0436/\u043a\u0433')\n",
      "\n",
      "Neo=l_k/chi\n",
      "printAns(Neo,r'N_e^o =\\frac {l_k}{\\chi}',' \u0414\u0436/\u043a\u0433')\n",
      "\n",
      "l_min=T1*(s6-sf)-(h6-hf)\n",
      "printAns(l_min,r'l_{min}=T_1(s_6-s_f)-(h_6-h_f)',' \u0414\u0436/\u043a\u0433')\n",
      "\n",
      "n_T = l_min/Neo\n",
      "printAns(n_T,r'\\eta_T= \\frac {l_{min}}{N_o^e}')"
     ],
     "language": "python",
     "metadata": {},
     "outputs": [
      {
       "latex": [
        "$$h_1=381368.2201  \u0414\u0436/\u043a\u0433$$"
       ],
       "metadata": {},
       "output_type": "display_data",
       "text": [
        "<IPython.core.display.Math at 0x7f37706d84a8>"
       ]
      },
      {
       "latex": [
        "$$h_f=12346.9373  \u0414\u0436/\u043a\u0433$$"
       ],
       "metadata": {},
       "output_type": "display_data",
       "text": [
        "<IPython.core.display.Math at 0x7f37706d84e0>"
       ]
      },
      {
       "latex": [
        "$$h_5=411083.3396  \u0414\u0436/\u043a\u0433$$"
       ],
       "metadata": {},
       "output_type": "display_data",
       "text": [
        "<IPython.core.display.Math at 0x7f37706d8518>"
       ]
      },
      {
       "latex": [
        "$$h_6=426187.5695  \u0414\u0436/\u043a\u0433$$"
       ],
       "metadata": {},
       "output_type": "display_data",
       "text": [
        "<IPython.core.display.Math at 0x7f37706d8470>"
       ]
      },
      {
       "latex": [
        "$$s_1=2004.5193  \u0414\u0436/\u043a\u0433\u041a$$"
       ],
       "metadata": {},
       "output_type": "display_data",
       "text": [
        "<IPython.core.display.Math at 0x7f37706d8470>"
       ]
      },
      {
       "latex": [
        "$$s_f=149.1785  \u0414\u0436/\u043a\u0433\u041a$$"
       ],
       "metadata": {},
       "output_type": "display_data",
       "text": [
        "<IPython.core.display.Math at 0x7f37706d8518>"
       ]
      },
      {
       "latex": [
        "$$s_6=3773.7798  \u0414\u0436/\u043a\u0433\u041a$$"
       ],
       "metadata": {},
       "output_type": "display_data",
       "text": [
        "<IPython.core.display.Math at 0x7f37706d84e0>"
       ]
      },
      {
       "latex": [
        "$$\\chi= \\frac {(h_5-h_1)-q_{oc}}{h_5-h_f}=0.0695  $$"
       ],
       "metadata": {},
       "output_type": "display_data",
       "text": [
        "<IPython.core.display.Math at 0x7f37706d84e0>"
       ]
      },
      {
       "latex": [
        "$$l_T = T_1(s_6-s_1)-(h_5-h_1)=501063.0197  \u0414\u0436/\u043a\u0433$$"
       ],
       "metadata": {},
       "output_type": "display_data",
       "text": [
        "<IPython.core.display.Math at 0x7f37706d84e0>"
       ]
      },
      {
       "latex": [
        "$$l_k=\\frac {l_T} {\\eta_{\u0438\u0437}}=715804.3139  \u0414\u0436/\u043a\u0433$$"
       ],
       "metadata": {},
       "output_type": "display_data",
       "text": [
        "<IPython.core.display.Math at 0x7f37706d84e0>"
       ]
      },
      {
       "latex": [
        "$$N_e^o =\\frac {l_k}{\\chi}=10298250.2679   \u0414\u0436/\u043a\u0433$$"
       ],
       "metadata": {},
       "output_type": "display_data",
       "text": [
        "<IPython.core.display.Math at 0x7f37706d84e0>"
       ]
      },
      {
       "latex": [
        "$$l_{min}=T_1(s_6-s_f)-(h_6-h_f)=673539.7622   \u0414\u0436/\u043a\u0433$$"
       ],
       "metadata": {},
       "output_type": "display_data",
       "text": [
        "<IPython.core.display.Math at 0x7f37706d84e0>"
       ]
      },
      {
       "latex": [
        "$$\\eta_T= \\frac {l_{min}}{N_o^e}=0.0654  $$"
       ],
       "metadata": {},
       "output_type": "display_data",
       "text": [
        "<IPython.core.display.Math at 0x7f37706d84e0>"
       ]
      }
     ],
     "prompt_number": 13
    },
    {
     "cell_type": "markdown",
     "metadata": {},
     "source": [
      "## \u0417\u0430\u0434\u0430\u0447\u0430 2\n",
      "\n",
      "\u0414\u0430\u043d\u043e:\n",
      "\n",
      "\u041f\u041e\n",
      "\n",
      "\u041e\u0436\u0438\u0436\u0438\u0442\u0435\u043b\u044c\u043d\u044b\u0439 \u0440\u0435\u0436\u0438\u043c\n",
      "\n",
      "\u0413\u0430\u0437 - \u0430\u0437\u043e\u0442\n",
      "\n",
      "$p_2=400 | 250$ \u0431\u0430\u0440\n",
      "\n",
      "\u0422\u0435\u043c\u043f\u0435\u0440\u0430\u0442\u0443\u0440\u0430 \u043f\u0440\u0435\u0434\u0432\u0430\u0440\u0438\u0442\u0435\u043b\u044c\u043d\u043e\u0433\u043e \u043e\u0445\u043b\u0430\u0436\u0434\u0435\u043d\u0438\u044f $T_3 = 250K$\n"
     ]
    },
    {
     "cell_type": "code",
     "collapsed": false,
     "input": [
      "#dano\n",
      "p1=1.5* 10**5\n",
      "p2_1=400*10**5\n",
      "p2_2=250*10**5\n",
      "gas = 'Nitrogen'\n",
      "T1 = 300\n",
      "q_oc = 2 * 10**3 #\u0434\u0436/\u043a\u0433\n",
      "deltaTn = 15 # \u043d\u0435\u0434\u043e\u0440\u0435\u043a\u0443\u043f\u0435\u0440\u0430\u0446\u0438\u044f\n",
      "R = 8.31 / CP.PropsSI('M',gas)\n",
      "printAns(R,'R', '\u0414\u0436/(\u043a\u0433\u041a)') #\u0438\u043d\u0434\u0438\u0432\u0438\u0434\u0443\u0430\u043b\u044c\u043d\u0430\u044f \u0433\u0430\u0437\u043e\u0432\u0430\u044f \u043f\u043e\u0441\u0442\u043e\u044f\u043d\u043d\u0430\u044f\n",
      "n = 0.7 # \u043a\u043f\u0434 \u0438\u0437\u043e\u0442\u0435\u0440\u043c\u0438\u0447\u0435\u0441\u043a\u0438\u0439\n",
      "T3=250"
     ],
     "language": "python",
     "metadata": {},
     "outputs": [],
     "prompt_number": 13
    },
    {
     "cell_type": "code",
     "collapsed": false,
     "input": [],
     "language": "python",
     "metadata": {},
     "outputs": []
    },
    {
     "cell_type": "code",
     "collapsed": false,
     "input": [],
     "language": "python",
     "metadata": {},
     "outputs": []
    },
    {
     "cell_type": "code",
     "collapsed": false,
     "input": [],
     "language": "python",
     "metadata": {},
     "outputs": []
    },
    {
     "cell_type": "code",
     "collapsed": false,
     "input": [],
     "language": "python",
     "metadata": {},
     "outputs": [],
     "prompt_number": 13
    },
    {
     "cell_type": "code",
     "collapsed": false,
     "input": [],
     "language": "python",
     "metadata": {},
     "outputs": [],
     "prompt_number": 13
    },
    {
     "cell_type": "code",
     "collapsed": false,
     "input": [],
     "language": "python",
     "metadata": {},
     "outputs": [],
     "prompt_number": 13
    },
    {
     "cell_type": "code",
     "collapsed": false,
     "input": [],
     "language": "python",
     "metadata": {},
     "outputs": [],
     "prompt_number": 13
    }
   ],
   "metadata": {}
  }
 ]
}