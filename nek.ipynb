{
 "cells": [
  {
   "cell_type": "code",
   "execution_count": 1,
   "metadata": {
    "collapsed": true
   },
   "outputs": [],
   "source": [
    "# Подключение необходимых библиотек и настройка окружения\n",
    "import CoolProp.CoolProp as CP\n",
    "import math\n",
    "import CoolProp\n",
    "from CoolProp.Plots import PropertyPlot\n",
    "import matplotlib.pyplot as plt\n",
    "from CoolProp.Plots.SimpleCycles import StateContainer\n",
    "import warnings\n",
    "warnings.filterwarnings('ignore')\n",
    "import matplotlib.pyplot as plt\n",
    "plt.rcParams[\"figure.figsize\"] = (8,8) #размер графиков (в дюймах)"
   ]
  },
  {
   "cell_type": "markdown",
   "metadata": {},
   "source": [
    "# Задача 1. \n",
    "Найти производство энтропии при смешении двух потоков с массовыми расходами $G_1 = 1 кг/с$ и $G_2 = 4 кг/с$, имеющих температуру $T_1 = 290K$ и $T_2 = 140K$ , а так же одинаковое давление p = 10 МПа. Газ - воздух."
   ]
  },
  {
   "cell_type": "code",
   "execution_count": 2,
   "metadata": {
    "collapsed": true
   },
   "outputs": [],
   "source": [
    "# Дано\n",
    "T1 = 260; G1 = 1\n",
    "T2 = 150; G2 = 1\n",
    "p = 5 * 10**6 #Па   ** - знак возведения в степень.\n",
    "gas = 'Air'"
   ]
  },
  {
   "cell_type": "markdown",
   "metadata": {},
   "source": [
    "Определим энтальпии по заданным $T_1$, $T_2$ и p, используя функцию PropsSI. "
   ]
  },
  {
   "cell_type": "code",
   "execution_count": 3,
   "metadata": {},
   "outputs": [
    {
     "name": "stdout",
     "output_type": "stream",
     "text": [
      "h1 = 371683.79 Дж/кг, h2 = 218234.35 Дж/кг\n"
     ]
    }
   ],
   "source": [
    "h1 = CP.PropsSI('H','T',T1,'P',p,gas) # первый агрумент функции указывает что определить. Второй и четвертый \n",
    "h2 = CP.PropsSI('H','T',T2,'P',p,gas) # заданные параметры. Третий и пятый их значения. Шестой - для какого газа. \n",
    "print('h1 = %.2f Дж/кг, h2 = %.2f Дж/кг' % (h1,h2))"
   ]
  },
  {
   "cell_type": "markdown",
   "metadata": {},
   "source": [
    "Определим параметры выходного потока из условий: \n",
    "$$G_1 + G_2 = G_3$$\n",
    "$$G_1 \\cdot h_1 + G_2 \\cdot h_2 = G_3 \\cdot h_3$$"
   ]
  },
  {
   "cell_type": "code",
   "execution_count": 4,
   "metadata": {},
   "outputs": [
    {
     "name": "stdout",
     "output_type": "stream",
     "text": [
      "h3 = 294959.07 Дж/кг\n"
     ]
    }
   ],
   "source": [
    "G3 = G1+G2\n",
    "h3 = (G1*h1 + G2*h2 ) / G3\n",
    "print('h3 = %.2f Дж/кг' % h3)"
   ]
  },
  {
   "cell_type": "markdown",
   "metadata": {},
   "source": [
    "Определим $T_3$ "
   ]
  },
  {
   "cell_type": "code",
   "execution_count": 5,
   "metadata": {},
   "outputs": [
    {
     "name": "stdout",
     "output_type": "stream",
     "text": [
      "T3 = 195.71K\n"
     ]
    }
   ],
   "source": [
    "T3 = CP.PropsSI('T','H',h3,'P',p,gas)\n",
    "print('T3 = %.2fK' % (T3))"
   ]
  },
  {
   "cell_type": "markdown",
   "metadata": {},
   "source": [
    "Определим изобарные теплоемкости входных потоков: \n",
    "$$C_{p1} = \\frac {h1-h3} {T1-T3}$$\n",
    "\n",
    "$$C_{p2} = \\frac {h2-h3} {T2-T3}$$"
   ]
  },
  {
   "cell_type": "code",
   "execution_count": 6,
   "metadata": {},
   "outputs": [
    {
     "name": "stdout",
     "output_type": "stream",
     "text": [
      "Cp1 = 1193.42 Дж/(кгК) , Cp2 = 1678.51 Дж/(кгК)\n"
     ]
    }
   ],
   "source": [
    "Cp1 = (h1-h3) / (T1-T3)\n",
    "Cp2 = (h2-h3) / (T2-T3)\n",
    "print('Cp1 = %.2f Дж/(кгК) , Cp2 = %.2f Дж/(кгК)'% (Cp1,Cp2))"
   ]
  },
  {
   "cell_type": "markdown",
   "metadata": {},
   "source": [
    "Определим производство энтропии:\n",
    "$$ \\Delta S' = G_1 \\cdot C_{p1} \\cdot ln(\\frac {T3}{T1}) + G_2 \\cdot C_{p2} \\cdot ln(\\frac {T3}{T2})$$"
   ]
  },
  {
   "cell_type": "code",
   "execution_count": 7,
   "metadata": {},
   "outputs": [
    {
     "name": "stdout",
     "output_type": "stream",
     "text": [
      "deltaS = 107.49 Дж/(с*К)\n"
     ]
    }
   ],
   "source": [
    "deltaS = G1*Cp1*math.log((T3/T1), math.e) + G2*Cp2*math.log((T3/T2), math.e)\n",
    "print('deltaS = %.2f Дж/(с*К)' % (deltaS))"
   ]
  },
  {
   "cell_type": "markdown",
   "metadata": {},
   "source": [
    "### Ответ: $\\Delta S' = 443.29 \\frac {Дж}{с \\cdot К}$"
   ]
  },
  {
   "cell_type": "markdown",
   "metadata": {},
   "source": [
    "# Задача 2\n",
    "Для изотеpмического сжатия в компpессоpе пpи темпеpатуpе $T_1 = 300K$ от давления $p_1=0,25$ МПа до давления $p_2 = 25$ МПа опpеделить pаботу сжатия и отводимую пpи этом теплоту. Газ $N_2$.\n",
    "Сделать pисунок с изобpажением площадей, пpопоpциональных искомым величинам."
   ]
  },
  {
   "cell_type": "code",
   "execution_count": 8,
   "metadata": {
    "collapsed": true
   },
   "outputs": [],
   "source": [
    "# Дано\n",
    "T1 = 350\n",
    "p1 = 0.25 * 10**6 #Па\n",
    "p2 = 25 * 10**6 #Па\n",
    "gas = 'Nitrogen'"
   ]
  },
  {
   "cell_type": "markdown",
   "metadata": {},
   "source": [
    "Определим значения энтропий для заданной температуры и давления газа:  "
   ]
  },
  {
   "cell_type": "code",
   "execution_count": 9,
   "metadata": {},
   "outputs": [
    {
     "name": "stdout",
     "output_type": "stream",
     "text": [
      "s1 = 6733.56 Дж/кгК, s2 = 5277.22 Дж/кгК\n"
     ]
    }
   ],
   "source": [
    "s1 = CP.PropsSI('S','T',T1,'P',p1,gas)\n",
    "s2 =CP.PropsSI('S','T',T1,'P',p2,gas)\n",
    "print('s1 = %.2f Дж/кгК, s2 = %.2f Дж/кгК' % (s1,s2))"
   ]
  },
  {
   "cell_type": "markdown",
   "metadata": {},
   "source": [
    "Определим отводимую теплоту: $$q=T\\Delta S = T(s_2-s_1)$$"
   ]
  },
  {
   "cell_type": "code",
   "execution_count": 10,
   "metadata": {},
   "outputs": [
    {
     "name": "stdout",
     "output_type": "stream",
     "text": [
      "q = -509717.26 Дж/кг\n"
     ]
    }
   ],
   "source": [
    "q = T1 * (s2-s1)\n",
    "print('q = %.2f Дж/кг' % (q))"
   ]
  },
  {
   "cell_type": "markdown",
   "metadata": {},
   "source": [
    "Знак минус говорит о том, что теплота отводится.\n",
    "Определим значения энтальпий для заданных давлений и температуры:"
   ]
  },
  {
   "cell_type": "code",
   "execution_count": 11,
   "metadata": {},
   "outputs": [
    {
     "name": "stdout",
     "output_type": "stream",
     "text": [
      "h1 = 363050.81 Дж/кгК, h2 = 339514.20 Дж/кгК\n"
     ]
    }
   ],
   "source": [
    "h1 = CP.PropsSI('H','T',T1,'P',p1,gas)\n",
    "h2 =CP.PropsSI('H','T',T1,'P',p2,gas)\n",
    "print('h1 = %.2f Дж/кгК, h2 = %.2f Дж/кгК' % (h1,h2))"
   ]
  },
  {
   "cell_type": "markdown",
   "metadata": {},
   "source": [
    "Определим работу сжатия: $$l_{сж} = q + (h_2 - h_1) = T(s_1-s_2) - (h_1 - h_2)$$"
   ]
  },
  {
   "cell_type": "code",
   "execution_count": 12,
   "metadata": {},
   "outputs": [
    {
     "name": "stdout",
     "output_type": "stream",
     "text": [
      "l = 486180.65 дж/кг\n"
     ]
    }
   ],
   "source": [
    "l = T1*(s1-s2) - (h1-h2)\n",
    "print('l = %.2f дж/кг' % (l))"
   ]
  },
  {
   "cell_type": "code",
   "execution_count": 13,
   "metadata": {
    "scrolled": false
   },
   "outputs": [
    {
     "data": {
      "image/png": "[encoded data removed]",
      "text/plain": [
       "<matplotlib.figure.Figure at 0x7f3eb23fd208>"
      ]
     },
     "metadata": {},
     "output_type": "display_data"
    }
   ],
   "source": [
    "#Построение графика\n",
    "plot = PropertyPlot(gas, 'ts',unit_system='SI',tp_limits='ACHP') #Полотно TS диаграммы в системе СИ\n",
    "plot.calc_isolines(CoolProp.iP, [p1,p2],2) #Расчет изолиний(изобар), в пределах от p1 до p2 , в количестве двух штук\n",
    "plot.calc_isolines(CoolProp.iHmass, [h1,h2], 2) #расчет изоэнтальп, в пределах от h1 до h2, в количестве двух штук\n",
    "q_pl = StateContainer() #контейнер состояний(для отображения теплоты)\n",
    "q_pl[2,'T'] = T1  # перечисление значений. (прим. для точки 2 значение Т равно Т1)\n",
    "q_pl[2,'S'] = s2\n",
    "q_pl[3,'S'] = s2\n",
    "q_pl[3,'T'] = 0\n",
    "q_pl[1,'T'] = T1\n",
    "q_pl[1,'S'] = s1\n",
    "q_pl[0,'S'] = s1\n",
    "q_pl[0,'T'] = 0\n",
    "plot.draw_process(q_pl) # рисует процесс. (красная линия - площадь равная теплоте)\n",
    "_s = CP.PropsSI('S','H',h2,'P',p1,gas) #s в точке пересечения h2,p1\n",
    "_t = CP.PropsSI('T', 'H',h2,'P', p1, gas) # T в точке пересечения h2,p1\n",
    "l_p = StateContainer()\n",
    "l_p[0,'T'] = 0;\n",
    "l_p[0,'S'] = _s\n",
    "l_p[1,'S'] = _s\n",
    "l_p[1,'T'] = _t\n",
    "plot.draw_process(l_p, line_opts={'color':'blue', 'lw':1.5}) \n",
    "plot.xlabel('s, дж\\кгK')\n",
    "plot.ylabel('T,K')\n",
    "plot.grid()\n",
    "plot.props[CoolProp.iHmass]['color'] = \"green\"\n",
    "plot.props[CoolProp.iHmass]['lw'] = \"1\"\n",
    "plot.props[CoolProp.iP]['color'] = \"green\"\n",
    "plot.props[CoolProp.iP]['lw'] = \"1\"\n",
    "# ax = plot.axis\n",
    "# ax.text(7000, 400, 'p1', fontsize=15) #подпись p1 (первые два параметра - координаты на графике)\n",
    "# ax.text(5500,400,'p2',fontsize = 15)\n",
    "# ax.text(7000,305,'h1',fontsize = 15)\n",
    "# ax.text(7000,255,'h2',fontsize = 15)\n",
    "plot.show() # отображает плот."
   ]
  },
  {
   "cell_type": "markdown",
   "metadata": {},
   "source": [
    "*Теплота - площадь обведенная красной рамкой.\n",
    "\n",
    "Площадь под изобарой p1 (криволинейная трапеция ограниченная синий линией) - разность энтальпий\n",
    "\n",
    "Работа - Площадь красной - площадь синий. "
   ]
  },
  {
   "cell_type": "markdown",
   "metadata": {
    "collapsed": true
   },
   "source": [
    "# Задача 3\n",
    "Определить минимальную работу при охлаждении от температуры $T_1 = 290K$ до температуры $T_2 = 250K$ при изобарическом и изохорическом процессах, если известно давление $p_1 = 0.2$ МПа в начале процесса охлаждения. Температуру окружающей среды принять равной 300К. Сделать рисунок с изображением площадей пропорциональны искомым величинам. Газ - $N_2$"
   ]
  },
  {
   "cell_type": "code",
   "execution_count": 14,
   "metadata": {
    "collapsed": true
   },
   "outputs": [],
   "source": [
    "#Дано\n",
    "T1 = 300; T2 = 250; T_os = 300\n",
    "P1 = 0.2 * 10**6 #Па\n",
    "gas = 'Nitrogen'"
   ]
  },
  {
   "cell_type": "markdown",
   "metadata": {},
   "source": [
    "### Изобарный процесс\n",
    "Для изобарического процесса определим по заданным температурам и давлению энтропии и энтальпию: "
   ]
  },
  {
   "cell_type": "code",
   "execution_count": 15,
   "metadata": {},
   "outputs": [
    {
     "name": "stdout",
     "output_type": "stream",
     "text": [
      "s1 = 6639.24 Дж/кгК, s2 = 6448.99 Дж/кгК\n",
      "h1 = 310975.85 Дж/кг, h2 = 258803.60 Дж/кг\n"
     ]
    }
   ],
   "source": [
    "s1 = CP.PropsSI('S', 'P',P1, 'T', T1, gas)\n",
    "s2 = CP.PropsSI('S', 'P',P1, 'T', T2, gas)\n",
    "print('s1 = %.2f Дж/кгК, s2 = %.2f Дж/кгК' % (s1,s2))\n",
    "\n",
    "h1 = CP.PropsSI('H', 'P',P1, 'T', T1, gas)\n",
    "h2 = CP.PropsSI('H', 'P',P1, 'T', T2, gas)\n",
    "print('h1 = %.2f Дж/кг, h2 = %.2f Дж/кг' % (h1,h2))"
   ]
  },
  {
   "cell_type": "markdown",
   "metadata": {},
   "source": [
    "Определим минимальную работу: $$l_{min} = T_{oc}\\cdot(s_1-s_2)-(h_1-h_2)$$"
   ]
  },
  {
   "cell_type": "code",
   "execution_count": 16,
   "metadata": {},
   "outputs": [
    {
     "name": "stdout",
     "output_type": "stream",
     "text": [
      "l_min = 4901.57 Дж/кг\n"
     ]
    }
   ],
   "source": [
    "l_min = T_os*(s1-s2) - (h1-h2)\n",
    "print('l_min = %.2f Дж/кг' % (l_min))"
   ]
  },
  {
   "cell_type": "code",
   "execution_count": 17,
   "metadata": {},
   "outputs": [
    {
     "data": {
      "image/png": "[encoded data removed]",
      "text/plain": [
       "<matplotlib.figure.Figure at 0x7f3e9dc8a320>"
      ]
     },
     "metadata": {},
     "output_type": "display_data"
    }
   ],
   "source": [
    "plot = PropertyPlot(gas, 'ts',unit_system='SI',tp_limits='ACHP') \n",
    "plot.calc_isolines(CoolProp.iP, [P1],1) \n",
    "plot.calc_isolines(CoolProp.iHmass, [h1,h2], 2)\n",
    "l_pl = StateContainer()\n",
    "l_pl[0,'T'] = T1\n",
    "l_pl[0,'S'] = s1\n",
    "l_pl[1,'T'] = T_os\n",
    "l_pl[1,'S'] = s1\n",
    "l_pl[2,'T'] = T_os\n",
    "l_pl[2,'S'] = s2\n",
    "l_pl[3,'T'] = T2\n",
    "l_pl[3,'S'] = s2\n",
    "plot.draw_process(l_pl) # рисует процесс. (красная линия - площадь равная l_min)\n",
    "plot.set_axis_limits([s2-750,s1+750,T2-30,T_os+30]) # задает пределы плота [x1,x2, y1,y2]\n",
    "plot.title(r'$l_{min}$ ')\n",
    "plot.xlabel('s, дж\\кгK')\n",
    "plot.ylabel('T,K')\n",
    "\n",
    "plot.grid()\n",
    "# ax = plot.axis\n",
    "# ax.text(6700, 315, 'p1', fontsize=15) #подпись p1 (первые два параметра - координаты на графике)\n",
    "# ax.text(7000,290,'h1',fontsize = 15)\n",
    "# ax.text(7000,250,'h2',fontsize = 15)\n",
    "plot.show() # отображает плот."
   ]
  },
  {
   "cell_type": "markdown",
   "metadata": {},
   "source": [
    "### Изохорный процесс:\n",
    "$h_1 = 300545.81$ Дж/кг $s_1 = 6603.88$ Дж/кгК (см. изобарный процесс)\n",
    "Определим величину удельного объема( v = $\\frac 1 {\\rho}$)"
   ]
  },
  {
   "cell_type": "code",
   "execution_count": 18,
   "metadata": {},
   "outputs": [
    {
     "name": "stdout",
     "output_type": "stream",
     "text": [
      "v1 = 0.45 м^3/кг\n"
     ]
    }
   ],
   "source": [
    "D1 = CP.PropsSI('D', 'H',h1, 'S', s1, gas) #D - density - плотность\n",
    "v1 = 1/D1\n",
    "print('v1 = %.2f м^3/кг' % v1)"
   ]
  },
  {
   "cell_type": "markdown",
   "metadata": {},
   "source": [
    "По вычисленному значению плотности определим значение энтальпии и энтропии в конце процесса: "
   ]
  },
  {
   "cell_type": "code",
   "execution_count": 19,
   "metadata": {},
   "outputs": [
    {
     "name": "stdout",
     "output_type": "stream",
     "text": [
      "h2 = 258803.60 Дж/кг\n",
      "s2 = 6448.99 Дж/кгК\n"
     ]
    }
   ],
   "source": [
    "h_2 = CP.PropsSI('H', 'D',D1, 'T', T2, gas)\n",
    "print(\"h2 = %.2f Дж/кг\" % h2)\n",
    "s_2 = CP.PropsSI('S', 'D',D1, 'T', T2, gas)\n",
    "print(\"s2 = %.2f Дж/кгК\"% s2)"
   ]
  },
  {
   "cell_type": "markdown",
   "metadata": {},
   "source": [
    "Определим давление $p_2$, $v_2 = v_1$ (т.к изохорный процесс), "
   ]
  },
  {
   "cell_type": "code",
   "execution_count": 20,
   "metadata": {},
   "outputs": [
    {
     "name": "stdout",
     "output_type": "stream",
     "text": [
      "p_2 = 166507.88 Па\n"
     ]
    }
   ],
   "source": [
    "P2 = CP.PropsSI('P', 'H',h_2, 'S', s_2, gas)\n",
    "print('p_2 = %.2f Па' % P2)\n",
    "D2 = CP.PropsSI('D', 'H',h_2, 'S', s_2, gas)\n",
    "v2 = 1/D2"
   ]
  },
  {
   "cell_type": "markdown",
   "metadata": {},
   "source": [
    "Определим $u_1$ , $u_2$ по формулам: \n",
    "$$u_1 = h_1 - p_1 \\cdot v_1$$\n",
    "\n",
    "$$u_2 = h_2 - p_2 \\cdot v_2$$\n",
    "\n",
    "А так же проверим данное значение функцией PropsSI (по известным $h_1,s_1$; $h_2,s_2$)"
   ]
  },
  {
   "cell_type": "code",
   "execution_count": 21,
   "metadata": {},
   "outputs": [
    {
     "name": "stdout",
     "output_type": "stream",
     "text": [
      "u1 = 221966.40 Дж/кг; u2 = 184807.36 Дж/кг\n",
      "u_1 = 221966.40 Дж/кг; u_2 = 184795.83 Дж/кг\n"
     ]
    }
   ],
   "source": [
    "u1 = h1 - P1*v1\n",
    "u2 = h_2 - P2*v2\n",
    "print('u1 = %.2f Дж/кг; u2 = %.2f Дж/кг' % (u1,u2))\n",
    "u_1  = CP.PropsSI('U', 'H',h1,'S',s1,gas)\n",
    "u_2  = CP.PropsSI('U', 'H',h_2,'S',s2,gas)\n",
    "print('u_1 = %.2f Дж/кг; u_2 = %.2f Дж/кг' % (u_1,u_2))"
   ]
  },
  {
   "cell_type": "markdown",
   "metadata": {},
   "source": [
    "Определим минимальную работу: \n",
    "$$l_{min} = l_K - l_{дет}$$\n",
    "$$l_K = T_0 \\cdot (s_1 - s_2)$$\n",
    "$$l_{дет} = u_1 - u_2$$ "
   ]
  },
  {
   "cell_type": "code",
   "execution_count": 22,
   "metadata": {},
   "outputs": [
    {
     "name": "stdout",
     "output_type": "stream",
     "text": [
      "l_min = 3490.05 Дж/кг\n"
     ]
    }
   ],
   "source": [
    "l_min_v = T_os*(s1-s_2) - (u1-u2)\n",
    "print('l_min = %.2f Дж/кг' % l_min_v)"
   ]
  },
  {
   "cell_type": "code",
   "execution_count": 23,
   "metadata": {},
   "outputs": [
    {
     "data": {
      "image/png": "[encoded data removed]",
      "text/plain": [
       "<matplotlib.figure.Figure at 0x7f3e9da869b0>"
      ]
     },
     "metadata": {},
     "output_type": "display_data"
    }
   ],
   "source": [
    "plot = PropertyPlot(gas, 'ts',unit_system='SI',tp_limits='ACHP') \n",
    "plot.calc_isolines(CoolProp.iDmass, [D1],1) \n",
    "plot.calc_isolines(CoolProp.iP, [P1],1) \n",
    "plot.calc_isolines(CoolProp.iHmass, [h1,h_2], 2)\n",
    "l_pl_v = StateContainer()\n",
    "l_pl_v[0,'T'] = T1\n",
    "l_pl_v[0,'S'] = s1\n",
    "l_pl_v[1,'T'] = T_os\n",
    "l_pl_v[1,'S'] = s1\n",
    "l_pl_v[2,'T'] = T_os\n",
    "l_pl_v[2,'S'] = s_2\n",
    "l_pl_v[3,'T'] = T2\n",
    "l_pl_v[3,'S'] = s_2\n",
    "plot.draw_process(l_pl_v) # рисует процесс. (красная линия - площадь равная l_min)\n",
    "plot.draw_process(l_pl, line_opts={'color':'blue', 'lw':1.5}) # изобарный процесс\n",
    "plot.set_axis_limits([s2-300,s1+300,T2-30,T_os+30]) # задает пределы плота [x1,x2, y1,y2]\n",
    "plot.title(r'$l_{min}$ для изохорного процесса')\n",
    "plot.xlabel('s, дж\\кгK')\n",
    "plot.ylabel('T,K')\n",
    "plot.grid()\n",
    "# ax = plot.axis\n",
    "# ax.text(6450, 230, 'v1', fontsize=15) #подпись v1 (первые два параметра - координаты на графике)\n",
    "# ax.text(6700, 315, 'p1', fontsize=15) #подпись p1 (первые два параметра - координаты на графике)\n",
    "# ax.text(6800,290,'h1',fontsize = 15)\n",
    "# ax.text(6800,250,'h2',fontsize = 15)\n",
    "# ax.text(6200,320,\"синяя линия - изобарный процесс\", fontsize = 10)\n",
    "# ax.text(6200,315,\"красная линия - изохорный процесс\", fontsize = 10)\n",
    "plot.show() # отображает плот."
   ]
  },
  {
   "cell_type": "markdown",
   "metadata": {},
   "source": [
    "#### Ответ: \n",
    "Минимальная работа в изобарном процессе : $l_{min} = 4723.77 Дж/кг$ \n",
    "\n",
    "Минимальная работа в изохорном процессе : $l_{min} = 3363.43 Дж/кг$"
   ]
  },
  {
   "cell_type": "markdown",
   "metadata": {},
   "source": [
    "# Задача 4 \n",
    "Найти температуры потоков на выходе из противоточного теплообменника, если на входе: первый поток имеет температуру $Т_1=300$ К, давление $Р_1=0,5$ МПа, массовый расход $G_1=10$ кг/с, второй поток – соответственно $Т_2=100$ К, $Р_2=1$ МПа и $G_2=9$ кг/с. Потерями давления и влиянием фонового теплопритока пренебречь, минимальная недорекуперация на одном из концов теплообменника составляет 5К. Поток 1 - $O_2$. Поток 2 - $N_2$"
   ]
  },
  {
   "cell_type": "code",
   "execution_count": 24,
   "metadata": {
    "collapsed": true
   },
   "outputs": [],
   "source": [
    "#Дано\n",
    "T1 = 350; T2 = 150\n",
    "gas1 = 'Air'; gas2 = 'Nitrogen'\n",
    "P1 = 0.5 * 10**6 #Па\n",
    "P2 = 1 * 10**6 #Па\n",
    "G1 = 10; G2 = 9\n",
    "dT = 5 #недорекуперация "
   ]
  },
  {
   "cell_type": "markdown",
   "metadata": {},
   "source": [
    "Определим изобарные теплоемкости $C_{p1}$ и $C_{p2}$"
   ]
  },
  {
   "cell_type": "code",
   "execution_count": 25,
   "metadata": {},
   "outputs": [
    {
     "name": "stdout",
     "output_type": "stream",
     "text": [
      "Cp1 = 1013.57 Дж/кгК, Cp2 = 1147.98 Дж/кгК\n"
     ]
    }
   ],
   "source": [
    "Cp1 = CP.PropsSI('CPMASS', 'P',P1, 'T', T1, gas1)\n",
    "Cp2 = CP.PropsSI('CPMASS', 'P',P2, 'T', T2, gas2)\n",
    "print(\"Cp1 = %.2f Дж/кгК, Cp2 = %.2f Дж/кгК\" % (Cp1,Cp2))"
   ]
  },
  {
   "cell_type": "markdown",
   "metadata": {},
   "source": [
    "Водные эквивалентны:\n",
    "$$W_1 = C_{p1} \\cdot G_1$$\n",
    "\n",
    "$$W_1 = C_{p2} \\cdot G_2$$"
   ]
  },
  {
   "cell_type": "code",
   "execution_count": 26,
   "metadata": {},
   "outputs": [
    {
     "name": "stdout",
     "output_type": "stream",
     "text": [
      "W1 = 10135.72 Дж/(К*с), W2 = 10331.81 Дж/(К*с)\n"
     ]
    }
   ],
   "source": [
    "W1 = Cp1*G1; W2 = Cp2*G2\n",
    "print('W1 = %.2f Дж/(К*с), W2 = %.2f Дж/(К*с)' % (W1,W2))"
   ]
  },
  {
   "cell_type": "markdown",
   "metadata": {},
   "source": [
    "Правило задания недорекуперации для двухпоточного противоточного теплообменника: Если водяной эквивалент прямого потока больше, чем обратного, то недорекуперацию задаём на тёплом конце теплообменника. В данном случае недорекуперация задается на холодном конце теплообменника. ( $W_2 > W_1$ )\n",
    "\n",
    "Тогда: $T_3 = T_2 - \\Delta T$\n",
    "\n",
    "Энергетический баланс: $W_1 \\cdot (T_1 - T_3) = W_2 \\cdot (T_2 - T_4)$\n",
    "\n",
    "Откуда $T_4 = T_2 + \\frac {W_1}{W_2} \\cdot (T_1 - T_3)$"
   ]
  },
  {
   "cell_type": "code",
   "execution_count": 27,
   "metadata": {},
   "outputs": [
    {
     "name": "stdout",
     "output_type": "stream",
     "text": [
      "T3 = 155.00 K, T4 = 341.30 K\n"
     ]
    }
   ],
   "source": [
    "T3 = T2 + dT\n",
    "T4 = T2 + (W1/W2) * (T1 - T3)\n",
    "print(\"T3 = %.2f K, T4 = %.2f K\" % (T3,T4))"
   ]
  },
  {
   "cell_type": "markdown",
   "metadata": {},
   "source": [
    "#### Ответ: \n",
    "$T_3 = 105K$ ; $T_4 = 187.06K$"
   ]
  },
  {
   "cell_type": "markdown",
   "metadata": {},
   "source": [
    "# Задача 5\n",
    "Определить совершенную удельную работу и температуру в конце изоэнтропного и изоэнтальпного расширений, используя таблицы или диаграммы реальных свойств веществ. Для процесса изоэнтропного расширения также использовать уравнение адиабаты Пуассона для идеального газа. Известно давление в начале $Р_1=2,5$ МПа и конце $Р_2=0,2$ МПа процесса расширения и диапазон температур для начала процесса расширения $Т_1=250..300$ К. Построить графики зависимостей изменения перепада температур и удельной работы в процессах расширения от начальной температуры расширения, используя при этом не менее пяти точек. \n",
    "\n",
    "Газ - $N_2$. Показатель адиабаты k=1.4. Степень сжатия $\\epsilon = \\frac{P_2}{P_1}$"
   ]
  },
  {
   "cell_type": "code",
   "execution_count": 28,
   "metadata": {},
   "outputs": [
    {
     "name": "stdout",
     "output_type": "stream",
     "text": [
      "eps =  0.08\n"
     ]
    }
   ],
   "source": [
    "# Дано\n",
    "P1 = 2.5 * 10**6 #Па\n",
    "P2 = 0.2 * 10**6 #Па\n",
    "gas = 'Neon'\n",
    "T1max = 150\n",
    "T1min = 100\n",
    "k = 1.64 # Показатель адиабаты для **неона\n",
    "eps = P2/P1 #Степень сжатия\n",
    "print(\"eps = \", eps)"
   ]
  },
  {
   "cell_type": "markdown",
   "metadata": {},
   "source": [
    "### Изоэнтропный процесс"
   ]
  },
  {
   "cell_type": "markdown",
   "metadata": {},
   "source": [
    "По уравнению Пуассона вычислим $T_2$:\n",
    "$$T_2 = T_1 \\cdot \\epsilon^{\\frac{k-1}{k}}$$"
   ]
  },
  {
   "cell_type": "code",
   "execution_count": 29,
   "metadata": {},
   "outputs": [
    {
     "name": "stdout",
     "output_type": "stream",
     "text": [
      "T2 = [ 37.32; 41.05; 44.78; 48.52; 52.25; 55.98; ]\n"
     ]
    }
   ],
   "source": [
    "T1 = [x for x in range(T1min,T1max+10,10)] #Создаем список T1 от минимального до максимального значения с шагом 10\n",
    "T2 = []\n",
    "for t in T1: #Перебирает все элементы списка T1 и для каждого выполняет команду:\n",
    "    T2.append( t * eps**( (k-1)/k ) ) # добавляет в конец списка значение внутри скобок\n",
    "print('T2 = [', end = ' ')\n",
    "for t in T2:\n",
    "    print('%.2f'%t, end = '; ')\n",
    "print(']')"
   ]
  },
  {
   "cell_type": "markdown",
   "metadata": {},
   "source": [
    "Теперь определим энтальпию в начале и в конце процесса по известным $T_1, T_2$ и $P_1, P_2$. "
   ]
  },
  {
   "cell_type": "code",
   "execution_count": 30,
   "metadata": {},
   "outputs": [
    {
     "name": "stdout",
     "output_type": "stream",
     "text": [
      "h1 = [ 158601.13; 169632.83; 180524.59; 191313.76; 202025.11; 212675.80; ] Дж/кг\n",
      "h2 = [ 96317.03; 100428.80; 104473.38; 108474.14; 112444.53; 116392.91; ] Дж/кг\n"
     ]
    }
   ],
   "source": [
    "h1 = []; h2 = [];\n",
    "print('h1 = [', end = ' ')\n",
    "for t in T1:\n",
    "    tmp = CP.PropsSI('H', 'P',P1, 'T', t, gas)\n",
    "    h1.append( tmp )\n",
    "    print('%.2f'%tmp, end = '; ')\n",
    "print('] Дж/кг')\n",
    "print('h2 = [', end = ' ')\n",
    "for t2 in T2:\n",
    "    tmp = CP.PropsSI('H', 'P',P2, 'T', t2, gas)\n",
    "    h2.append( tmp )\n",
    "    print('%.2f'%tmp, end = '; ')\n",
    "print('] Дж/кг')"
   ]
  },
  {
   "cell_type": "markdown",
   "metadata": {},
   "source": [
    "Работа при изоинтропном расширении: $$l_s = h_1 - h_2$$"
   ]
  },
  {
   "cell_type": "code",
   "execution_count": 31,
   "metadata": {},
   "outputs": [
    {
     "name": "stdout",
     "output_type": "stream",
     "text": [
      "l_s = [ 62284.10; 69204.04; 76051.21; 82839.62; 89580.58; 96282.90; ] Дж/кг\n"
     ]
    }
   ],
   "source": [
    "l_s = []\n",
    "print('l_s = [', end = ' ')\n",
    "for i,j in zip(h1,h2): # i - элемент h1, j - элемент h2. \n",
    "    l_s.append(i-j) \n",
    "    print('%.2f' % (i-j), end = '; ')\n",
    "print('] Дж/кг')"
   ]
  },
  {
   "cell_type": "markdown",
   "metadata": {},
   "source": [
    "Изменение температуры $\\Delta T = T_1 - T_2$ "
   ]
  },
  {
   "cell_type": "code",
   "execution_count": 32,
   "metadata": {},
   "outputs": [
    {
     "name": "stdout",
     "output_type": "stream",
     "text": [
      "deltaT = [ 62.68; 68.95; 75.22; 81.48; 87.75; 94.02; ] K\n"
     ]
    }
   ],
   "source": [
    "deltaT = []\n",
    "print('deltaT = [', end = ' ')\n",
    "for i,j in zip(T1,T2): # i - элемент T1, j - элемент T2. \n",
    "    deltaT.append(i-j) \n",
    "    print('%.2f' % (i-j), end = '; ')\n",
    "print('] K')"
   ]
  },
  {
   "cell_type": "code",
   "execution_count": 33,
   "metadata": {},
   "outputs": [
    {
     "data": {
      "image/png": "[encoded data removed]",
      "text/plain": [
       "<matplotlib.figure.Figure at 0x7f3e9d9c57f0>"
      ]
     },
     "metadata": {},
     "output_type": "display_data"
    }
   ],
   "source": [
    "plt.subplot(221)\n",
    "plt.plot(T1, deltaT)\n",
    "plt.title(r\"$\\Delta T$\")\n",
    "plt.subplot(222)\n",
    "plt.plot(T1,l_s)\n",
    "plt.title(r\"$l_s$\")\n",
    "plt.show()"
   ]
  },
  {
   "cell_type": "markdown",
   "metadata": {},
   "source": [
    "### Изоэнтальпный процесс\n",
    "Энтальпии в начале и в конце процесса равны $h_1 = h_2$ \n",
    "Определим $T_2$ по известному давлению $P_2$ и энтальпии $h_1$"
   ]
  },
  {
   "cell_type": "code",
   "execution_count": 34,
   "metadata": {},
   "outputs": [
    {
     "name": "stdout",
     "output_type": "stream",
     "text": [
      "T2 = [ 96.43; 107.08; 117.60; 128.03; 138.39; 148.70; ] K \n"
     ]
    }
   ],
   "source": [
    "h2 = h1\n",
    "T2 = []\n",
    "print(\"T2 = [\", end = ' ')\n",
    "for h in h1:\n",
    "    tmp = CP.PropsSI('T', 'H',h, 'P', P2, gas)\n",
    "    T2.append(tmp)\n",
    "    print(\"%.2f\" % tmp, end = '; ')\n",
    "print('] K ')"
   ]
  },
  {
   "cell_type": "markdown",
   "metadata": {},
   "source": [
    "Найдем значение удельного объема вещества $$V_1 = 1 / \\rho_1$$\n",
    "$$V_2 = 1 / \\rho_2$$"
   ]
  },
  {
   "cell_type": "code",
   "execution_count": 35,
   "metadata": {},
   "outputs": [
    {
     "name": "stdout",
     "output_type": "stream",
     "text": [
      "V1 = [ 0.0163; 0.0181; 0.0198; 0.0215; 0.0233; 0.0250; ] м3/кг\n",
      "V2 = [ 0.1984; 0.2205; 0.2423; 0.2638; 0.2853; 0.3066; ] м3/кг\n"
     ]
    }
   ],
   "source": [
    "V1=[]\n",
    "print('V1 = [', end=' ')\n",
    "for h in h1:\n",
    "    tmp = 1/CP.PropsSI('D', 'H',h, 'P', P1, gas)\n",
    "    V1.append( tmp )\n",
    "    print('%.4f'%tmp, end = '; ')\n",
    "print('] м3/кг')\n",
    "V2=[]\n",
    "print('V2 = [', end=' ')\n",
    "for h in h1: \n",
    "    tmp = 1/CP.PropsSI('D', 'H',h, 'P', P2, gas)\n",
    "    V2.append( tmp )\n",
    "    print('%.4f'%tmp, end = '; ')\n",
    "print('] м3/кг')"
   ]
  },
  {
   "cell_type": "markdown",
   "metadata": {},
   "source": [
    "Работа равна изменению внутренней энергии : $$l_h = p_1 \\cdot v_1 - p_2 \\cdot v_2 $$"
   ]
  },
  {
   "cell_type": "code",
   "execution_count": 36,
   "metadata": {},
   "outputs": [
    {
     "name": "stdout",
     "output_type": "stream",
     "text": [
      "l_h = [ 1062.47; 1074.04; 1083.10; 1089.80; 1094.43; 1097.30; ] Дж/кг\n"
     ]
    }
   ],
   "source": [
    "l_h = []\n",
    "print('l_h = [', end = ' ')\n",
    "for i,j in zip(V1,V2):\n",
    "    tmp = P1*i - P2*j\n",
    "    l_h.append(tmp)\n",
    "    print('%.2f'%tmp, end = '; ')\n",
    "print('] Дж/кг')"
   ]
  },
  {
   "cell_type": "code",
   "execution_count": 37,
   "metadata": {},
   "outputs": [
    {
     "name": "stdout",
     "output_type": "stream",
     "text": [
      "deltaT = [ 3.57; 2.92; 2.40; 1.97; 1.61; 1.30; ] K\n"
     ]
    }
   ],
   "source": [
    "deltaT = []\n",
    "print('deltaT = [', end = ' ')\n",
    "for i,j in zip(T1,T2): # i - элемент T1, j - элемент T2. \n",
    "    deltaT.append(i-j) \n",
    "    print('%.2f' % (i-j), end = '; ')\n",
    "print('] K')"
   ]
  },
  {
   "cell_type": "code",
   "execution_count": 38,
   "metadata": {},
   "outputs": [
    {
     "data": {
      "image/png": "[encoded data removed]",
      "text/plain": [
       "<matplotlib.figure.Figure at 0x7f3e9d8835f8>"
      ]
     },
     "metadata": {},
     "output_type": "display_data"
    }
   ],
   "source": [
    "plt.subplot(221)\n",
    "plt.plot(T1, deltaT)\n",
    "plt.title(r\"$\\Delta T$\")\n",
    "plt.subplot(222)\n",
    "plt.plot(T1, l_h)\n",
    "plt.title(r\"$l_h$\")\n",
    "plt.show()"
   ]
  },
  {
   "cell_type": "markdown",
   "metadata": {},
   "source": [
    "# Задача 6\n",
    "\n",
    "Определить совершенную удельную работу и температуру в конце изоэнтропного и изоэнтальпного расширения, используя таблицы или диаграммы реальных свойств веществ. Для процесса изоэнтропного расширения также использовать уравнение адиабаты Пуассона для идеального газа. Известна температура $Т_1 = 300К$ в начале процесса расширения, диапазон давлений начала процесса $Р_1 = 0.5..5$ МПа. Степень расширения равна 2,5. Построить графики зависимостей изменения перепада температур и удельной работы в процессах расширения от начального давления расширения, используя при этом не менее пяти точек.Газ - $N_2$"
   ]
  },
  {
   "cell_type": "code",
   "execution_count": 39,
   "metadata": {
    "collapsed": true
   },
   "outputs": [],
   "source": [
    "#Дано\n",
    "T1 = 300\n",
    "P1max = 5 * 10**6 #Па\n",
    "P1min = 5 * 10**5 #Па\n",
    "gas = 'Neon'\n",
    "k = 1.64 # показатель адиабаты\n",
    "eps = 2.5 # коэффициент расширения! "
   ]
  },
  {
   "cell_type": "markdown",
   "metadata": {},
   "source": [
    "### Изоэнтропный процесс\n",
    "Определим $T_2$ по уравнению Пуассона: $$T_2 = T_1 \\cdot \\epsilon^{ \\frac{k-1}{k}}$$"
   ]
  },
  {
   "cell_type": "code",
   "execution_count": 40,
   "metadata": {},
   "outputs": [
    {
     "name": "stdout",
     "output_type": "stream",
     "text": [
      "T2 = 209.81 K\n"
     ]
    }
   ],
   "source": [
    "T2 = T1*(1/eps)**((k-1)/k) # 1/eps тк здесь стоит коэффициент сжатия.\n",
    "print(\"T2 = %.2f K\" % T2)"
   ]
  },
  {
   "cell_type": "markdown",
   "metadata": {},
   "source": [
    "Зададим измение $P_1$ , вычислим $P_2 = \\frac {P_1}{2.5}$.\n",
    "По известным $P_1, P_2$ и $T_1 , T_2$ определим значения энтальпий"
   ]
  },
  {
   "cell_type": "code",
   "execution_count": 41,
   "metadata": {},
   "outputs": [
    {
     "name": "stdout",
     "output_type": "stream",
     "text": [
      "P1 =  [500000, 1000000, 1500000, 2000000, 2500000, 3000000, 3500000, 4000000, 4500000, 5000000] Па\n",
      "P2 =  [200000.0, 400000.0, 600000.0, 800000.0, 1000000.0, 1200000.0, 1400000.0, 1600000.0, 1800000.0, 2000000.0] Па\n",
      "[200000.0, 400000.0, 600000.0, 800000.0, 1000000.0, 1200000.0, 1400000.0, 1600000.0, 1800000.0, 2000000.0]\n",
      "h1 = [368805.31 368964.63 369124.99 369286.41 369448.91 369612.49 369777.18 369942.97 370109.89 370277.93 ]Дж/кг\n",
      "h2 = [275732.82 275720.72 275709.10 275697.97 275687.32 275677.17 275667.51 275658.35 275649.69 275641.53 ]Дж/кг\n"
     ]
    }
   ],
   "source": [
    "P1 = []\n",
    "P1 = [x for x in range(P1min,P1max+5*10**5,5*10**5)] # задаем диапозон измения P1\n",
    "P2 = []\n",
    "for p in P1:\n",
    "    P2.append(p/eps) # вычисляем P2\n",
    "print('P1 = ',P1, 'Па')\n",
    "print('P2 = ', P2, 'Па')\n",
    "print(P2)\n",
    "h1 = []\n",
    "print('h1 = [', end = '')\n",
    "for p in P1:\n",
    "    tmp = CP.PropsSI('H', 'P',p, 'T', T1, gas)\n",
    "    h1.append(tmp)\n",
    "    print('%.2f'%tmp, end = ' ')\n",
    "print(']Дж/кг')\n",
    "h2 =[]\n",
    "print('h2 = [', end = '')\n",
    "for p in P2:\n",
    "    tmp = CP.PropsSI('H', 'P',p, 'T', T2, gas)\n",
    "    h2.append(tmp)\n",
    "    print('%.2f'%tmp, end = ' ')\n",
    "print(']Дж/кг')"
   ]
  },
  {
   "cell_type": "markdown",
   "metadata": {},
   "source": [
    "Работа при изоинтропном расширении: $$l_s = h_1 - h_2$$\n",
    "Изменение температуры $\\Delta T = T_1 -T_2 = 69.1K$ "
   ]
  },
  {
   "cell_type": "code",
   "execution_count": 42,
   "metadata": {},
   "outputs": [
    {
     "name": "stdout",
     "output_type": "stream",
     "text": [
      "l_s = [ 93072.49; 93243.91; 93415.89; 93588.44; 93761.59; 93935.32; 94109.67; 94284.63; 94460.20; 94636.41; ] Дж/кг\n"
     ]
    }
   ],
   "source": [
    "l_s = []\n",
    "print('l_s = [', end = ' ')\n",
    "for i,j in zip(h1,h2): # i - элемент h1, j - элемент h2. \n",
    "    l_s.append(i-j) \n",
    "    print('%.2f' % (i-j), end = '; ')\n",
    "print('] Дж/кг')\n",
    "deltaT = T1 - T2"
   ]
  },
  {
   "cell_type": "code",
   "execution_count": 43,
   "metadata": {},
   "outputs": [
    {
     "data": {
      "image/png": "[encoded data removed]",
      "text/plain": [
       "<matplotlib.figure.Figure at 0x7f3e9d883898>"
      ]
     },
     "metadata": {},
     "output_type": "display_data"
    }
   ],
   "source": [
    "dt = []\n",
    "p1 = []\n",
    "for x in P1:\n",
    "    p1.append(x/10**6)\n",
    "for x in range(10):\n",
    "    dt.append(deltaT)\n",
    "plt.subplot(221)\n",
    "plt.plot(p1, dt)\n",
    "plt.title(r\"$\\Delta T$\")\n",
    "plt.xlabel(r'$P_1 , МПа$')\n",
    "plt.subplot(222)\n",
    "plt.plot(p1,l_s)\n",
    "plt.xlabel(r'$P_1 , МПа$')\n",
    "plt.title(r\"$l_s$\")\n",
    "plt.show()"
   ]
  },
  {
   "cell_type": "markdown",
   "metadata": {},
   "source": [
    "### Изоэнтальпный процесс\n",
    "Значения энтальпии $h_2$ берем из первой части(из изоэнтропного процесса)\n",
    "Затем по известным значениям энтальпии и давления определяем температуру $T_2$"
   ]
  },
  {
   "cell_type": "code",
   "execution_count": 44,
   "metadata": {},
   "outputs": [
    {
     "name": "stdout",
     "output_type": "stream",
     "text": [
      "T2 = [300.09 300.19 300.28 300.37 300.47 300.57 300.66 300.76 300.86 300.96 ]K\n"
     ]
    }
   ],
   "source": [
    "h2 = h1\n",
    "T2=[]\n",
    "print('T2 = [', end ='')\n",
    "for i in range(10):\n",
    "    tmp = CP.PropsSI('T', 'H',h1[i], 'P', P2[i], gas)\n",
    "    T2.append(tmp)\n",
    "    print('%.2f' % tmp, end = ' ')\n",
    "print(']K')"
   ]
  },
  {
   "cell_type": "markdown",
   "metadata": {},
   "source": [
    "Определим удельный объем по известным энтальпиям и давлениям"
   ]
  },
  {
   "cell_type": "code",
   "execution_count": 45,
   "metadata": {},
   "outputs": [
    {
     "name": "stdout",
     "output_type": "stream",
     "text": [
      "V1 = [0.248 0.124 0.083 0.062 0.050 0.042 0.036 0.031 0.028 0.025 ]м3/кг\n",
      "V2 = [0.619 0.310 0.207 0.155 0.124 0.104 0.089 0.078 0.069 0.063 ]м3/кг\n"
     ]
    }
   ],
   "source": [
    "V1=[]\n",
    "for i in range(10):\n",
    "    V1.append(1/CP.PropsSI('D', 'H',h1[i], 'P', P1[i], gas) )\n",
    "V2=[]\n",
    "for i in range(10):\n",
    "    V2.append(1/CP.PropsSI('D', 'H',h1[i], 'P', P2[i], gas) )\n",
    "#########################################################################\n",
    "def printList(l, name, razmer):    # функция печатающая список значений...\n",
    "    print(name+' = [', end = '')\n",
    "    for i in l:\n",
    "        print('%.3f'% i, end=' ')\n",
    "    print(']'+razmer)\n",
    "#########################################################################\n",
    "printList(V1,'V1','м3/кг')\n",
    "printList(V2,'V2','м3/кг')"
   ]
  },
  {
   "cell_type": "markdown",
   "metadata": {},
   "source": [
    "Определим работу как изменение внутренней энергии: $$l_h = p_1 \\cdot v_1 - p_2 \\cdot v_2$$"
   ]
  },
  {
   "cell_type": "code",
   "execution_count": 46,
   "metadata": {},
   "outputs": [
    {
     "name": "stdout",
     "output_type": "stream",
     "text": [
      "l_h = [137.382 274.779 412.197 549.642 687.118 824.630 962.181 1099.773 1237.411 1375.095 ]Дж/кг\n"
     ]
    }
   ],
   "source": [
    "l = []\n",
    "for i in range(10):\n",
    "    l.append(P1[i]*V1[i]- P2[i]*V2[i])\n",
    "printList(l,'l_h', 'Дж/кг')"
   ]
  },
  {
   "cell_type": "markdown",
   "metadata": {},
   "source": [
    "Изменение температуры по формуле Пуассона: $$\\Delta T = T_1 \\cdot (1-\\epsilon^{\\frac {k-1}{k}})$$"
   ]
  },
  {
   "cell_type": "code",
   "execution_count": 47,
   "metadata": {},
   "outputs": [
    {
     "name": "stdout",
     "output_type": "stream",
     "text": [
      "deltaT = [198.236 198.236 198.236 198.236 198.236 198.236 198.236 198.236 198.236 198.236 ]K\n"
     ]
    }
   ],
   "source": [
    "dT = []\n",
    "for i in range(10):\n",
    "    dT.append(T1*(1-0.4**((k-1))/k))\n",
    "printList(dT,'deltaT', 'K')"
   ]
  },
  {
   "cell_type": "code",
   "execution_count": 48,
   "metadata": {},
   "outputs": [
    {
     "data": {
      "image/png": "[encoded data removed]",
      "text/plain": [
       "<matplotlib.figure.Figure at 0x7f3e9d7cdef0>"
      ]
     },
     "metadata": {},
     "output_type": "display_data"
    }
   ],
   "source": [
    "plt.subplot(221)\n",
    "plt.plot(p1, dT)\n",
    "plt.title(r\"$\\Delta T$\")\n",
    "plt.xlabel(r'$P_1 , МПа$')\n",
    "plt.subplot(222)\n",
    "plt.plot(p1,l)\n",
    "plt.xlabel(r'$P_1 , МПа$')\n",
    "plt.title(r\"$l_h$\")\n",
    "plt.show()"
   ]
  }
 ],
 "metadata": {
  "kernelspec": {
   "display_name": "Python 3",
   "language": "python",
   "name": "python3"
  },
  "language_info": {
   "codemirror_mode": {
    "name": "ipython",
    "version": 3
   },
   "file_extension": ".py",
   "mimetype": "text/x-python",
   "name": "python",
   "nbconvert_exporter": "python",
   "pygments_lexer": "ipython3",
   "version": "3.6.2"
  }
 },
 "nbformat": 4,
 "nbformat_minor": 2
}
