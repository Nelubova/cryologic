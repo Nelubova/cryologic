{
 "cells": [
  {
   "cell_type": "code",
   "execution_count": 1,
   "metadata": {
    "collapsed": true
   },
   "outputs": [],
   "source": [
    "# Подключение необходимых библиотек и настройка окружения\n",
    "import CoolProp.CoolProp as CP\n",
    "import math\n",
    "import CoolProp\n",
    "from CoolProp.Plots import PropertyPlot\n",
    "import matplotlib.pyplot as plt\n",
    "from CoolProp.Plots.SimpleCycles import StateContainer\n",
    "import warnings\n",
    "warnings.filterwarnings('ignore')\n",
    "import matplotlib.pyplot as plt\n",
    "plt.rcParams[\"figure.figsize\"] = (9,9) #размер графиков (в дюймах)\n",
    "from IPython.display import HTML, display\n",
    "from IPython.display import display, Math, Latex\n",
    "def displayHTMLtable(obj, name = '', razmer = ''):\n",
    "    display(Math(name+r','+razmer)) \n",
    "    display(HTML(\n",
    "    #'<style>.tbl {border-style:solid;border:4px;}</style>'+    \n",
    "    '<table class = \"tbl\" border=\"5\"><tr>{}</tr></table>'.format(\n",
    "        '</tr><tr>'.join(\n",
    "            '<td>{}</td>'.format(str(row) ) for row in obj)\n",
    "        )\n",
    "    ))\n",
    "def printAns(obj,name,razmer):\n",
    "    display(Math(name+r'='+str(obj)+razmer))"
   ]
  },
  {
   "cell_type": "markdown",
   "metadata": {},
   "source": [
    "# Задача 1. \n",
    "Найти производство энтропии при смешении двух потоков с массовыми расходами $G_1 = 1 кг/с$ и $G_2 = 4 кг/с$, имеющих температуру $T_1 = 290K$ и $T_2 = 140K$ , а так же одинаковое давление p = 6 МПа. Газ - $He$."
   ]
  },
  {
   "cell_type": "code",
   "execution_count": 2,
   "metadata": {
    "collapsed": true
   },
   "outputs": [],
   "source": [
    "# Дано\n",
    "T1 = 290; G1 = 1\n",
    "T2 = 140; G2 = 4\n",
    "p = 6 * 10**6 #Па   ** - знак возведения в степень.\n",
    "gas = 'Helium'"
   ]
  },
  {
   "cell_type": "markdown",
   "metadata": {},
   "source": [
    "Определим энтальпии по заданным $T_1$, $T_2$ и $P$. "
   ]
  },
  {
   "cell_type": "code",
   "execution_count": 3,
   "metadata": {},
   "outputs": [
    {
     "data": {
      "text/latex": [
       "$$h_1=1530711.782412044\\frac{Дж}{кг}$$"
      ],
      "text/plain": [
       "<IPython.core.display.Math object>"
      ]
     },
     "metadata": {},
     "output_type": "display_data"
    },
    {
     "data": {
      "text/latex": [
       "$$h_2=749568.7468825158\\frac{Дж}{кг}$$"
      ],
      "text/plain": [
       "<IPython.core.display.Math object>"
      ]
     },
     "metadata": {},
     "output_type": "display_data"
    }
   ],
   "source": [
    "h1 = CP.PropsSI('H','T',T1,'P',p,gas) # первый агрумент функции указывает что определить. Второй и четвертый \n",
    "h2 = CP.PropsSI('H','T',T2,'P',p,gas) # заданные параметры. Третий и пятый их значения. Шестой - для какого газа. \n",
    "#print('h1 = %.2f Дж/кг, h2 = %.2f Дж/кг' % (h1,h2))\n",
    "printAns(h1,r'h_1',r'\\frac{Дж}{кг}')\n",
    "printAns(h2,r'h_2',r'\\frac{Дж}{кг}')"
   ]
  },
  {
   "cell_type": "markdown",
   "metadata": {},
   "source": [
    "Определим параметры выходного потока из условий: \n",
    "\n",
    "$G_1 + G_2 = G_3$\n",
    "\n",
    "$G_1 \\cdot h_1 + G_2 \\cdot h_2 = G_3 \\cdot h_3$"
   ]
  },
  {
   "cell_type": "code",
   "execution_count": 4,
   "metadata": {},
   "outputs": [
    {
     "data": {
      "text/latex": [
       "$$h_3 = \\frac{G_1 \\cdot h_1 + G_2 \\cdot h_2}{G_3}$$"
      ],
      "text/plain": [
       "<IPython.core.display.Math object>"
      ]
     },
     "metadata": {},
     "output_type": "display_data"
    },
    {
     "data": {
      "text/latex": [
       "$$h_3=905797.3539884215\\frac{Дж}{кг}$$"
      ],
      "text/plain": [
       "<IPython.core.display.Math object>"
      ]
     },
     "metadata": {},
     "output_type": "display_data"
    }
   ],
   "source": [
    "G3 = G1+G2\n",
    "h3 = (G1*h1 + G2*h2 ) / G3\n",
    "#print('h3 = %.2f Дж/кг' % h3)\n",
    "display(Math(r'h_3 = \\frac{G_1 \\cdot h_1 + G_2 \\cdot h_2}{G_3}'))\n",
    "printAns(h3,r'h_3',r'\\frac{Дж}{кг}')"
   ]
  },
  {
   "cell_type": "markdown",
   "metadata": {},
   "source": [
    "Определим $T_3$ "
   ]
  },
  {
   "cell_type": "code",
   "execution_count": 5,
   "metadata": {},
   "outputs": [
    {
     "data": {
      "text/latex": [
       "$$T_3=169.90313464347452K$$"
      ],
      "text/plain": [
       "<IPython.core.display.Math object>"
      ]
     },
     "metadata": {},
     "output_type": "display_data"
    }
   ],
   "source": [
    "T3 = CP.PropsSI('T','H',h3,'P',p,gas)\n",
    "#print('T3 = %.2fK' % (T3))\n",
    "printAns(T3,r'T_3',r'K')"
   ]
  },
  {
   "cell_type": "markdown",
   "metadata": {},
   "source": [
    "Определим изобарные теплоемкости входных потоков: \n",
    "\n",
    "$C_{p1} = \\frac {h1-h3} {T1-T3}$\n",
    "\n",
    "$C_{p2} = \\frac {h2-h3} {T2-T3}$"
   ]
  },
  {
   "cell_type": "code",
   "execution_count": 6,
   "metadata": {},
   "outputs": [
    {
     "data": {
      "text/latex": [
       "$$C_{p1}=5203.419977436302\\frac{Дж}{кгК}$$"
      ],
      "text/plain": [
       "<IPython.core.display.Math object>"
      ]
     },
     "metadata": {},
     "output_type": "display_data"
    },
    {
     "data": {
      "text/latex": [
       "$$C_{p2}=5224.489304167247\\frac{Дж}{кгК}$$"
      ],
      "text/plain": [
       "<IPython.core.display.Math object>"
      ]
     },
     "metadata": {},
     "output_type": "display_data"
    }
   ],
   "source": [
    "Cp1 = (h1-h3) / (T1-T3)\n",
    "Cp2 = (h2-h3) / (T2-T3)\n",
    "#print('Cp1 = %.2f Дж/(кгК) , Cp2 = %.2f Дж/(кгК)'% (Cp1,Cp2))\n",
    "printAns(Cp1,r'C_{p1}',r'\\frac{Дж}{кгК}')\n",
    "printAns(Cp2,r'C_{p2}',r'\\frac{Дж}{кгК}')"
   ]
  },
  {
   "cell_type": "markdown",
   "metadata": {},
   "source": [
    "Определим производство энтропии:\n",
    "\n",
    "$ \\Delta S' = G_1 \\cdot C_{p1} \\cdot ln(\\frac {T3}{T1}) + G_2 \\cdot C_{p2} \\cdot ln(\\frac {T3}{T2})$"
   ]
  },
  {
   "cell_type": "code",
   "execution_count": 7,
   "metadata": {},
   "outputs": [
    {
     "data": {
      "text/latex": [
       "$$\\Delta S'=1263.5319015824034\\frac{Дж}{кгК}$$"
      ],
      "text/plain": [
       "<IPython.core.display.Math object>"
      ]
     },
     "metadata": {},
     "output_type": "display_data"
    }
   ],
   "source": [
    "deltaS = G1*Cp1*math.log((T3/T1), math.e) + G2*Cp2*math.log((T3/T2), math.e)\n",
    "#print('deltaS = %.2f Дж/(с*К)' % (deltaS))\n",
    "printAns(deltaS,r\"\\Delta S'\",r'\\frac{Дж}{кгК}')"
   ]
  },
  {
   "cell_type": "markdown",
   "metadata": {},
   "source": [
    "# Задача 2\n",
    "Для изотеpмического сжатия в компpессоpе пpи темпеpатуpе $T_1 = 250K$ от давления $p_1=0,25$ МПа до давления $p_2 = 1$ МПа опpеделить pаботу сжатия и отводимую пpи этом теплоту. Газ воздух.\n",
    "Сделать pисунок с изобpажением площадей, пpопоpциональных искомым величинам."
   ]
  },
  {
   "cell_type": "code",
   "execution_count": 8,
   "metadata": {
    "collapsed": true
   },
   "outputs": [],
   "source": [
    "# Дано\n",
    "T1 = 250\n",
    "p1 = 0.25 * 10**6 #Па\n",
    "p2 = 1 * 10**6 #Па\n",
    "gas = 'Air'"
   ]
  },
  {
   "cell_type": "markdown",
   "metadata": {},
   "source": [
    "Определим значения энтропий для заданной температуры и давления газа:  "
   ]
  },
  {
   "cell_type": "code",
   "execution_count": 9,
   "metadata": {},
   "outputs": [
    {
     "data": {
      "text/latex": [
       "$$s_2=3442.567349369367\\frac{Дж}{кгК}$$"
      ],
      "text/plain": [
       "<IPython.core.display.Math object>"
      ]
     },
     "metadata": {},
     "output_type": "display_data"
    },
    {
     "data": {
      "text/latex": [
       "$$s_1=3036.9144741015198\\frac{Дж}{кгК}$$"
      ],
      "text/plain": [
       "<IPython.core.display.Math object>"
      ]
     },
     "metadata": {},
     "output_type": "display_data"
    }
   ],
   "source": [
    "s1 = CP.PropsSI('S','T',T1,'P',p1,gas)\n",
    "s2 =CP.PropsSI('S','T',T1,'P',p2,gas)\n",
    "#print('s1 = %.2f Дж/кгК, s2 = %.2f Дж/кгК' % (s1,s2))\n",
    "printAns(s1,r\"s_2\",r'\\frac{Дж}{кгК}')\n",
    "printAns(s2,r\"s_1\",r'\\frac{Дж}{кгК}')"
   ]
  },
  {
   "cell_type": "markdown",
   "metadata": {},
   "source": [
    "Определим отводимую теплоту: \n",
    "\n",
    "$q=T\\Delta S = T(s_2-s_1)$"
   ]
  },
  {
   "cell_type": "code",
   "execution_count": 10,
   "metadata": {},
   "outputs": [
    {
     "data": {
      "text/latex": [
       "$$q=-101413.21881696183\\frac{Дж}{кг}$$"
      ],
      "text/plain": [
       "<IPython.core.display.Math object>"
      ]
     },
     "metadata": {},
     "output_type": "display_data"
    }
   ],
   "source": [
    "q = T1 * (s2-s1)\n",
    "#print('q = %.2f Дж/кг' % (q))\n",
    "printAns(q,r\"q\",r'\\frac{Дж}{кг}')"
   ]
  },
  {
   "cell_type": "markdown",
   "metadata": {},
   "source": [
    "Знак минус говорит о том, что теплота отводится.\n",
    "Определим значения энтальпий для заданных давлений и температуры:"
   ]
  },
  {
   "cell_type": "code",
   "execution_count": 11,
   "metadata": {},
   "outputs": [
    {
     "data": {
      "text/latex": [
       "$$h_1=375525.01024102815\\frac{Дж}{кг}$$"
      ],
      "text/plain": [
       "<IPython.core.display.Math object>"
      ]
     },
     "metadata": {},
     "output_type": "display_data"
    },
    {
     "data": {
      "text/latex": [
       "$$h_2=373095.74053010443\\frac{Дж}{кг}$$"
      ],
      "text/plain": [
       "<IPython.core.display.Math object>"
      ]
     },
     "metadata": {},
     "output_type": "display_data"
    }
   ],
   "source": [
    "h1 = CP.PropsSI('H','T',T1,'P',p1,gas)\n",
    "h2 =CP.PropsSI('H','T',T1,'P',p2,gas)\n",
    "#print('h1 = %.2f Дж/кгК, h2 = %.2f Дж/кгК' % (h1,h2))\n",
    "printAns(h1,r\"h_1\",r'\\frac{Дж}{кг}')\n",
    "printAns(h2,r\"h_2\",r'\\frac{Дж}{кг}')"
   ]
  },
  {
   "cell_type": "markdown",
   "metadata": {},
   "source": [
    "Определим работу сжатия:\n",
    "\n",
    "$l_{сж} = q + (h_2 - h_1) = T(s_1-s_2) - (h_1 - h_2)$"
   ]
  },
  {
   "cell_type": "code",
   "execution_count": 12,
   "metadata": {},
   "outputs": [
    {
     "data": {
      "text/latex": [
       "$$l_сж=98983.94910603811\\frac{Дж}{кг}$$"
      ],
      "text/plain": [
       "<IPython.core.display.Math object>"
      ]
     },
     "metadata": {},
     "output_type": "display_data"
    }
   ],
   "source": [
    "l = T1*(s1-s2) - (h1-h2)\n",
    "#print('l = %.2f дж/кг' % (l))\n",
    "printAns(l,r\"l_сж\",r'\\frac{Дж}{кг}')"
   ]
  },
  {
   "cell_type": "code",
   "execution_count": 13,
   "metadata": {
    "scrolled": false
   },
   "outputs": [
    {
     "data": {
      "image/png": "[encoded data removed]",
      "text/plain": [
       "<matplotlib.figure.Figure at 0x7fd1d0f6fa58>"
      ]
     },
     "metadata": {},
     "output_type": "display_data"
    }
   ],
   "source": [
    "#Построение графика\n",
    "plot = PropertyPlot(gas, 'ts',unit_system='SI',tp_limits='ACHP') #Полотно TS диаграммы в системе СИ\n",
    "plot.calc_isolines(CoolProp.iP, [p1,p2],2) #Расчет изолиний(изобар), в пределах от p1 до p2 , в количестве двух штук\n",
    "plot.calc_isolines(CoolProp.iHmass, [h1,h2], 2) #расчет изоэнтальп, в пределах от h1 до h2, в количестве двух штук\n",
    "q_pl = StateContainer() #контейнер состояний(для отображения теплоты)\n",
    "q_pl[2,'T'] = T1  # перечисление значений. (прим. для точки 2 значение Т равно Т1)\n",
    "q_pl[2,'S'] = s2\n",
    "q_pl[3,'S'] = s2\n",
    "q_pl[3,'T'] = 0\n",
    "q_pl[1,'T'] = T1\n",
    "q_pl[1,'S'] = s1\n",
    "q_pl[0,'S'] = s1\n",
    "q_pl[0,'T'] = 0\n",
    "plot.draw_process(q_pl, line_opts={'color':'orange', 'lw':2}) # рисует процесс. (желтая линия - площадь равная теплоте)\n",
    "_s = CP.PropsSI('S','H',h2,'P',p1,gas) #s в точке пересечения h2,p1\n",
    "_t = CP.PropsSI('T', 'H',h2,'P', p1, gas) # T в точке пересечения h2,p1\n",
    "l_p = StateContainer()\n",
    "l_p[0,'T'] = 0;\n",
    "l_p[0,'S'] = _s\n",
    "l_p[1,'S'] = _s\n",
    "l_p[1,'T'] = _t\n",
    "plot.draw_process(l_p, line_opts={'color':'blue', 'lw':2}) \n",
    "plot.xlabel('$S$, $дж/(кг*K)$')\n",
    "plot.ylabel('T,K')\n",
    "plot.grid()\n",
    "plot.props[CoolProp.iHmass]['color'] = \"green\"\n",
    "plot.props[CoolProp.iHmass]['lw'] = \"1\"\n",
    "plot.props[CoolProp.iP]['color'] = \"green\"\n",
    "plot.props[CoolProp.iP]['lw'] = \"1\"\n",
    "plot.set_axis_limits([(s2-400),(s1+400),T1-40,T1+40])\n",
    "plot.show() # отображает плот."
   ]
  },
  {
   "cell_type": "markdown",
   "metadata": {
    "collapsed": true
   },
   "source": [
    "# Задача 3\n",
    "Определить минимальную работу при охлаждении от температуры $T_1 = 250K$ до температуры $T_2 = 180K$ при изобарическом и изохорическом процессах, если известно давление $p_1 = 0.2$ МПа в начале процесса охлаждения. Температуру окружающей среды принять равной 300К. Сделать рисунок с изображением площадей пропорциональны искомым величинам. Газ - воздух."
   ]
  },
  {
   "cell_type": "code",
   "execution_count": 14,
   "metadata": {
    "collapsed": true
   },
   "outputs": [],
   "source": [
    "#Дано\n",
    "T1 = 250; T2 = 180; T_os = 300\n",
    "P1 = 0.2 * 10**6 #Па\n",
    "gas = 'Air'"
   ]
  },
  {
   "cell_type": "markdown",
   "metadata": {},
   "source": [
    "### Изобарный процесс\n",
    "Для изобарического процесса определим по заданным температурам и давлению энтропии и энтальпию: "
   ]
  },
  {
   "cell_type": "code",
   "execution_count": 15,
   "metadata": {},
   "outputs": [
    {
     "data": {
      "text/latex": [
       "$$s_1=3507.1347365525507\\frac{Дж}{кгK}$$"
      ],
      "text/plain": [
       "<IPython.core.display.Math object>"
      ]
     },
     "metadata": {},
     "output_type": "display_data"
    },
    {
     "data": {
      "text/latex": [
       "$$s_2=3175.2476511509385\\frac{Дж}{кгK}$$"
      ],
      "text/plain": [
       "<IPython.core.display.Math object>"
      ]
     },
     "metadata": {},
     "output_type": "display_data"
    },
    {
     "data": {
      "text/latex": [
       "$$h_1=375687.3957025179\\frac{Дж}{кг}$$"
      ],
      "text/plain": [
       "<IPython.core.display.Math object>"
      ]
     },
     "metadata": {},
     "output_type": "display_data"
    },
    {
     "data": {
      "text/latex": [
       "$$h_2=304977.7282103127\\frac{Дж}{кг}$$"
      ],
      "text/plain": [
       "<IPython.core.display.Math object>"
      ]
     },
     "metadata": {},
     "output_type": "display_data"
    }
   ],
   "source": [
    "s1 = CP.PropsSI('S', 'P',P1, 'T', T1, gas)\n",
    "s2 = CP.PropsSI('S', 'P',P1, 'T', T2, gas)\n",
    "#print('s1 = %.2f Дж/кгК, s2 = %.2f Дж/кгК' % (s1,s2))\n",
    "printAns(s1,r\"s_1\",r'\\frac{Дж}{кгK}')\n",
    "printAns(s2,r\"s_2\",r'\\frac{Дж}{кгK}')\n",
    "\n",
    "h1 = CP.PropsSI('H', 'P',P1, 'T', T1, gas)\n",
    "h2 = CP.PropsSI('H', 'P',P1, 'T', T2, gas)\n",
    "#print('h1 = %.2f Дж/кг, h2 = %.2f Дж/кг' % (h1,h2))\n",
    "printAns(h1,r\"h_1\",r'\\frac{Дж}{кг}')\n",
    "printAns(h2,r\"h_2\",r'\\frac{Дж}{кг}')"
   ]
  },
  {
   "cell_type": "markdown",
   "metadata": {},
   "source": [
    "Определим минимальную работу:\n",
    "\n",
    "$l_{min} = T_{oc}\\cdot(s_1-s_2)-(h_1-h_2)$"
   ]
  },
  {
   "cell_type": "code",
   "execution_count": 16,
   "metadata": {},
   "outputs": [
    {
     "data": {
      "text/latex": [
       "$$l_min=28856.458128278508\\frac{Дж}{кгK}$$"
      ],
      "text/plain": [
       "<IPython.core.display.Math object>"
      ]
     },
     "metadata": {},
     "output_type": "display_data"
    }
   ],
   "source": [
    "l_min = T_os*(s1-s2) - (h1-h2)\n",
    "#print('l_min = %.2f Дж/кг' % (l_min))\n",
    "printAns(l_min,r\"l_min\",r'\\frac{Дж}{кгK}')"
   ]
  },
  {
   "cell_type": "code",
   "execution_count": 17,
   "metadata": {},
   "outputs": [
    {
     "data": {
      "image/png": "[encoded data removed]",
      "text/plain": [
       "<matplotlib.figure.Figure at 0x7fd1bc538b38>"
      ]
     },
     "metadata": {},
     "output_type": "display_data"
    }
   ],
   "source": [
    "plot = PropertyPlot(gas, 'ts',unit_system='SI',tp_limits='ACHP') \n",
    "plot.calc_isolines(CoolProp.iP, [P1],1) \n",
    "plot.calc_isolines(CoolProp.iHmass, [h1,h2], 2)\n",
    "l_pl = StateContainer()\n",
    "l_pl[0,'T'] = T1\n",
    "l_pl[0,'S'] = s1\n",
    "l_pl[1,'T'] = T_os\n",
    "l_pl[1,'S'] = s1\n",
    "l_pl[2,'T'] = T_os\n",
    "l_pl[2,'S'] = s2\n",
    "l_pl[3,'T'] = T2\n",
    "l_pl[3,'S'] = s2\n",
    "plot.draw_process(l_pl,line_opts={'color':'orange', 'lw':2}) # рисует процесс. (красная линия - площадь равная l_min)\n",
    "plot.set_axis_limits([s2-825,s1+825,T2-40,T_os+40]) # задает пределы плота [x1,x2, y1,y2]\n",
    "plot.title(r'$l_{min}$ ')\n",
    "plot.xlabel('$S$, Дж/(кг*K)')\n",
    "plot.ylabel('T, K')\n",
    "plot.grid()\n",
    "# ax = plot.axis\n",
    "# ax.text(6700, 315, 'p1', fontsize=15) #подпись p1 (первые два параметра - координаты на графике)\n",
    "# ax.text(7000,290,'h1',fontsize = 15)\n",
    "# ax.text(7000,250,'h2',fontsize = 15)\n",
    "plot.show() # отображает плот."
   ]
  },
  {
   "cell_type": "markdown",
   "metadata": {},
   "source": [
    "### Изохорный процесс:\n",
    "$h_1$ и $s_1$ берем как в изобарном процессе.\n",
    "\n",
    "Определим величину удельного объема( v = $\\frac 1 {\\rho}$)"
   ]
  },
  {
   "cell_type": "code",
   "execution_count": 18,
   "metadata": {},
   "outputs": [
    {
     "data": {
      "text/latex": [
       "$$v_1=0.3581341742190918\\frac{м^3}{кг}$$"
      ],
      "text/plain": [
       "<IPython.core.display.Math object>"
      ]
     },
     "metadata": {},
     "output_type": "display_data"
    }
   ],
   "source": [
    "D1 = CP.PropsSI('D', 'H',h1, 'S', s1, gas) #D - density - плотность\n",
    "v1 = 1/D1\n",
    "#print('v1 = %.2f м^3/кг' % v1)\n",
    "printAns(v1,r\"v_1\",r'\\frac{м^3}{кг}')"
   ]
  },
  {
   "cell_type": "markdown",
   "metadata": {},
   "source": [
    "По вычисленному значению плотности определим значение энтальпии и энтропии в конце процесса: "
   ]
  },
  {
   "cell_type": "code",
   "execution_count": 19,
   "metadata": {},
   "outputs": [
    {
     "data": {
      "text/latex": [
       "$$h_2=305311.51836016716\\frac{Дж}{кг}$$"
      ],
      "text/plain": [
       "<IPython.core.display.Math object>"
      ]
     },
     "metadata": {},
     "output_type": "display_data"
    },
    {
     "data": {
      "text/latex": [
       "$$s_2=3271.7108258572293\\frac{Дж}{кгК}$$"
      ],
      "text/plain": [
       "<IPython.core.display.Math object>"
      ]
     },
     "metadata": {},
     "output_type": "display_data"
    }
   ],
   "source": [
    "h_2 = CP.PropsSI('H', 'D',D1, 'T', T2, gas)\n",
    "#print(\"h2 = %.2f Дж/кг\" % h2)\n",
    "printAns(h_2,r\"h_2\",r'\\frac{Дж}{кг}')\n",
    "s_2 = CP.PropsSI('S', 'D',D1, 'T', T2, gas)\n",
    "#print(\"s2 = %.2f Дж/кгК\"% s2)\n",
    "printAns(s_2,r\"s_2\",r'\\frac{Дж}{кгК}')"
   ]
  },
  {
   "cell_type": "markdown",
   "metadata": {},
   "source": [
    "Определим давление $p_2$, по известной энтальпии $h_2$ и энтропии $s_2$\n",
    "\n",
    "$v_2 = v_1$ (т.к изохорный процесс), "
   ]
  },
  {
   "cell_type": "code",
   "execution_count": 20,
   "metadata": {},
   "outputs": [],
   "source": [
    "P2 = CP.PropsSI('P', 'H',h_2, 'S', s_2, gas)\n",
    "#print('p_2 = %.2f Па' % P2)\n",
    "D2 = CP.PropsSI('D', 'H',h_2, 'S', s_2, gas)\n",
    "v2 = 1/D2"
   ]
  },
  {
   "cell_type": "markdown",
   "metadata": {},
   "source": [
    "Определим $u_1$ , $u_2$ по формулам: \n",
    "\n",
    "$u_1 = h_1 - p_1 \\cdot v_1$\n",
    "\n",
    "$u_2 = h_2 - p_2 \\cdot v_2$\n"
   ]
  },
  {
   "cell_type": "code",
   "execution_count": 21,
   "metadata": {},
   "outputs": [
    {
     "data": {
      "text/latex": [
       "$$u_1=304060.5608586995\\frac{Дж}{кг}$$"
      ],
      "text/plain": [
       "<IPython.core.display.Math object>"
      ]
     },
     "metadata": {},
     "output_type": "display_data"
    },
    {
     "data": {
      "text/latex": [
       "$$u_2=253895.02470116052\\frac{Дж}{кг}$$"
      ],
      "text/plain": [
       "<IPython.core.display.Math object>"
      ]
     },
     "metadata": {},
     "output_type": "display_data"
    }
   ],
   "source": [
    "u1 = h1 - P1*v1\n",
    "u2 = h_2 - P2*v2\n",
    "#print('u1 = %.2f Дж/кг; u2 = %.2f Дж/кг' % (u1,u2))\n",
    "printAns(u1,r\"u_1\",r'\\frac{Дж}{кг}')\n",
    "printAns(u2,r\"u_2\",r'\\frac{Дж}{кг}')\n",
    "u_1  = CP.PropsSI('U', 'H',h1,'S',s1,gas)\n",
    "u_2  = CP.PropsSI('U', 'H',h_2,'S',s2,gas)\n",
    "#print('u_1 = %.2f Дж/кг; u_2 = %.2f Дж/кг' % (u_1,u_2))"
   ]
  },
  {
   "cell_type": "markdown",
   "metadata": {},
   "source": [
    "Определим минимальную работу: \n",
    "\n",
    "$l_{min} = l_K - l_{дет}$\n",
    "\n",
    "$l_K = T_0 \\cdot (s_1 - s_2)$\n",
    "\n",
    "$l_{дет} = u_1 - u_2$"
   ]
  },
  {
   "cell_type": "code",
   "execution_count": 22,
   "metadata": {},
   "outputs": [
    {
     "data": {
      "text/latex": [
       "$$l_{min}=20461.63705105745\\frac{Дж}{кг}$$"
      ],
      "text/plain": [
       "<IPython.core.display.Math object>"
      ]
     },
     "metadata": {},
     "output_type": "display_data"
    }
   ],
   "source": [
    "l_min_v = T_os*(s1-s_2) - (u1-u2)\n",
    "#print('l_min = %.2f Дж/кг' % l_min_v)\n",
    "printAns(l_min_v,r\"l_{min}\",r'\\frac{Дж}{кг}')"
   ]
  },
  {
   "cell_type": "code",
   "execution_count": 23,
   "metadata": {},
   "outputs": [
    {
     "data": {
      "image/png": "[encoded data removed]",
      "text/plain": [
       "<matplotlib.figure.Figure at 0x7fd1bc0a24a8>"
      ]
     },
     "metadata": {},
     "output_type": "display_data"
    }
   ],
   "source": [
    "plot = PropertyPlot(gas, 'ts',unit_system='SI',tp_limits='ACHP') \n",
    "plot.calc_isolines(CoolProp.iDmass, [D1],1) \n",
    "plot.calc_isolines(CoolProp.iP, [P1],1) \n",
    "plot.calc_isolines(CoolProp.iHmass, [h1,h_2], 2)\n",
    "l_pl_v = StateContainer()\n",
    "l_pl_v[0,'T'] = T1\n",
    "l_pl_v[0,'S'] = s1\n",
    "l_pl_v[1,'T'] = T_os\n",
    "l_pl_v[1,'S'] = s1\n",
    "l_pl_v[2,'T'] = T_os\n",
    "l_pl_v[2,'S'] = s_2\n",
    "l_pl_v[3,'T'] = T2\n",
    "l_pl_v[3,'S'] = s_2\n",
    "plot.draw_process(l_pl_v,line_opts={'color':'orange', 'lw':2}) # рисует процесс. \n",
    "plot.draw_process(l_pl, line_opts={'color':'blue', 'lw':2}) # изобарный процесс\n",
    "plot.set_axis_limits([s2-350,s1+350,T2-35,T_os+35]) # задает пределы плота [x1,x2, y1,y2]\n",
    "plot.title(r'$l_{min}$ для изохорного процесса')\n",
    "plot.xlabel('s, дж\\кгK')\n",
    "plot.ylabel('T,K')\n",
    "plot.grid()\n",
    "# ax = plot.axis\n",
    "# ax.text(6450, 230, 'v1', fontsize=15) #подпись v1 (первые два параметра - координаты на графике)\n",
    "# ax.text(6700, 315, 'p1', fontsize=15) #подпись p1 (первые два параметра - координаты на графике)\n",
    "# ax.text(6800,290,'h1',fontsize = 15)\n",
    "# ax.text(6800,250,'h2',fontsize = 15)\n",
    "# ax.text(6200,320,\"синяя линия - изобарный процесс\", fontsize = 10)\n",
    "# ax.text(6200,315,\"красная линия - изохорный процесс\", fontsize = 10)\n",
    "plot.show() # отображает плот."
   ]
  },
  {
   "cell_type": "markdown",
   "metadata": {},
   "source": [
    "#### Ответ: \n",
    "Минимальная работа в изобарном процессе : $l_{min} = 28856.46 Дж/кг$ \n",
    "\n",
    "Минимальная работа в изохорном процессе : $l_{min} = 20461.64 Дж/кг$"
   ]
  },
  {
   "cell_type": "markdown",
   "metadata": {},
   "source": [
    "# Задача 4 \n",
    "Найти температуры потоков на выходе из противоточного теплообменника, если на входе: первый поток имеет температуру $Т_1=200$ К, давление $Р_1=0,5$ МПа, массовый расход $G_1=10$ кг/с, второй поток – соответственно $Т_2=150$ К, $Р_2=1$ МПа и $G_2=9$ кг/с. Потерями давления и влиянием фонового теплопритока пренебречь, минимальная недорекуперация на одном из концов теплообменника составляет 5К. Поток 1 - $O_2$. Поток 2 - воздух"
   ]
  },
  {
   "cell_type": "code",
   "execution_count": 24,
   "metadata": {
    "collapsed": true
   },
   "outputs": [],
   "source": [
    "#Дано\n",
    "T1 = 200; T2 = 150\n",
    "gas1 = 'Oxygen'; gas2 = 'Air'\n",
    "P1 = 0.5 * 10**6 #Па\n",
    "P2 = 1 * 10**6 #Па\n",
    "G1 = 10; G2 = 9\n",
    "dT = 5 #недорекуперация "
   ]
  },
  {
   "cell_type": "markdown",
   "metadata": {},
   "source": [
    "Определим изобарные теплоемкости $C_{p1}$ и $C_{p2}$ для заданных значений давлений $P_1$, $P_2$ и температур $T_1$, $T_2$"
   ]
  },
  {
   "cell_type": "code",
   "execution_count": 25,
   "metadata": {},
   "outputs": [
    {
     "data": {
      "text/latex": [
       "$$C_{p1}=932.6168098029079\\frac{Дж}{кгK}$$"
      ],
      "text/plain": [
       "<IPython.core.display.Math object>"
      ]
     },
     "metadata": {},
     "output_type": "display_data"
    },
    {
     "data": {
      "text/latex": [
       "$$l_{p2}=1115.2747573884985\\frac{Дж}{кгK}$$"
      ],
      "text/plain": [
       "<IPython.core.display.Math object>"
      ]
     },
     "metadata": {},
     "output_type": "display_data"
    }
   ],
   "source": [
    "Cp1 = CP.PropsSI('CPMASS', 'P',P1, 'T', T1, gas1)\n",
    "Cp2 = CP.PropsSI('CPMASS', 'P',P2, 'T', T2, gas2)\n",
    "#print(\"Cp1 = %.2f Дж/кгК, Cp2 = %.2f Дж/кгК\" % (Cp1,Cp2))\n",
    "printAns(Cp1,r\"C_{p1}\",r'\\frac{Дж}{кгK}')\n",
    "printAns(Cp2,r\"l_{p2}\",r'\\frac{Дж}{кгK}')"
   ]
  },
  {
   "cell_type": "markdown",
   "metadata": {},
   "source": [
    "Водные эквивалентны:\n",
    "\n",
    "$W_1 = C_{p1} \\cdot G_1$\n",
    "\n",
    "$W_1 = C_{p2} \\cdot G_2$"
   ]
  },
  {
   "cell_type": "code",
   "execution_count": 26,
   "metadata": {},
   "outputs": [
    {
     "data": {
      "text/latex": [
       "$$W_1=9326.16809802908\\frac{Дж}{с*К}$$"
      ],
      "text/plain": [
       "<IPython.core.display.Math object>"
      ]
     },
     "metadata": {},
     "output_type": "display_data"
    },
    {
     "data": {
      "text/latex": [
       "$$W_2=10037.472816496487\\frac{Дж}{с*К}$$"
      ],
      "text/plain": [
       "<IPython.core.display.Math object>"
      ]
     },
     "metadata": {},
     "output_type": "display_data"
    }
   ],
   "source": [
    "W1 = Cp1*G1; W2 = Cp2*G2\n",
    "#print('W1 = %.2f Дж/(К*с), W2 = %.2f Дж/(К*с)' % (W1,W2))\n",
    "printAns(W1,r\"W_1\",r'\\frac{Дж}{с*К}')\n",
    "printAns(W2,r\"W_2\",r'\\frac{Дж}{с*К}')"
   ]
  },
  {
   "cell_type": "markdown",
   "metadata": {},
   "source": [
    "Согласну правилу задания недорекуперации для двухпоточного противоточного теплообменника в данном случае недорекуперация задается на холодномм конце теплообменника так как $W_2 > W_1$ \n",
    "\n",
    "\n",
    "Тогда: $T_3 = T_2 - \\Delta T$\n",
    "\n",
    "Энергетический баланс: $W_1 \\cdot (T_1 - T_3) = W_2 \\cdot (T_2 - T_4)$\n",
    "\n",
    "Откуда $T_4 = T_2 + \\frac {W_1}{W_2} \\cdot (T_1 - T_3)$"
   ]
  },
  {
   "cell_type": "code",
   "execution_count": 27,
   "metadata": {},
   "outputs": [
    {
     "data": {
      "text/latex": [
       "$$T_3=155K$$"
      ],
      "text/plain": [
       "<IPython.core.display.Math object>"
      ]
     },
     "metadata": {},
     "output_type": "display_data"
    },
    {
     "data": {
      "text/latex": [
       "$$T_4=191.8110785537145K$$"
      ],
      "text/plain": [
       "<IPython.core.display.Math object>"
      ]
     },
     "metadata": {},
     "output_type": "display_data"
    }
   ],
   "source": [
    "T3 = T2 + dT\n",
    "T4 = T2 + (W1/W2) * (T1 - T3)\n",
    "#print(\"T3 = %.2f K, T4 = %.2f K\" % (T3,T4))\n",
    "printAns(T3,r\"T_3\",r'K')\n",
    "printAns(T4,r\"T_4\",r'K')"
   ]
  },
  {
   "cell_type": "markdown",
   "metadata": {},
   "source": [
    "# Задача 5\n",
    "Определить совершенную удельную работу и температуру в конце изоэнтропного и изоэнтальпного расширений, используя таблицы или диаграммы реальных свойств веществ. Для процесса изоэнтропного расширения также использовать уравнение адиабаты Пуассона для идеального газа. Известно давление в начале $Р_1=2,5$ МПа и конце $Р_2=0,2$ МПа процесса расширения и диапазон температур для начала процесса расширения $Т_1=150..200$ К. Построить графики зависимостей изменения перепада температур и удельной работы в процессах расширения от начальной температуры расширения, используя при этом не менее пяти точек. \n",
    "\n",
    "Газ - Воздух. Показатель адиабаты k=1.4."
   ]
  },
  {
   "cell_type": "code",
   "execution_count": 28,
   "metadata": {},
   "outputs": [
    {
     "name": "stdout",
     "output_type": "stream",
     "text": [
      "eps =  0.08\n"
     ]
    }
   ],
   "source": [
    "# Дано\n",
    "P1 = 2.5 * 10**6 #Па\n",
    "P2 = 0.2 * 10**6 #Па\n",
    "gas = 'Air'\n",
    "T1max = 200\n",
    "T1min = 150\n",
    "k = 1.4 # Показатель адиабаты для **неона\n",
    "eps = P2/P1 #Степень сжатия\n",
    "print(\"eps = \", eps)"
   ]
  },
  {
   "cell_type": "markdown",
   "metadata": {},
   "source": [
    "### Изоэнтропный процесс"
   ]
  },
  {
   "cell_type": "markdown",
   "metadata": {},
   "source": [
    "По уравнению Пуассона вычислим $T_2$:\n",
    "\n",
    "$T_2 = T_1 \\cdot \\epsilon^{\\frac{k-1}{k}}$"
   ]
  },
  {
   "cell_type": "code",
   "execution_count": 29,
   "metadata": {},
   "outputs": [
    {
     "data": {
      "text/latex": [
       "$$T_2,K$$"
      ],
      "text/plain": [
       "<IPython.core.display.Math object>"
      ]
     },
     "metadata": {},
     "output_type": "display_data"
    },
    {
     "data": {
      "text/html": [
       "<table class = \"tbl\" border=\"5\"><tr><td>72.89343197418387</td></tr><tr><td>77.75299410579612</td></tr><tr><td>82.61255623740838</td></tr><tr><td>87.47211836902063</td></tr><tr><td>92.3316805006329</td></tr><tr><td>97.19124263224515</td></tr></table>"
      ],
      "text/plain": [
       "<IPython.core.display.HTML object>"
      ]
     },
     "metadata": {},
     "output_type": "display_data"
    }
   ],
   "source": [
    "T1 = [x for x in range(T1min,T1max+10,10)] #Создаем список T1 от минимального до максимального значения с шагом 10\n",
    "T2 = []\n",
    "for t in T1: #Перебирает все элементы списка T1 и для каждого выполняет команду:\n",
    "    T2.append( t * eps**( (k-1)/k ) ) # добавляет в конец списка значение внутри скобок\n",
    "# print('T2 = [', end = ' ')\n",
    "# for t in T2:\n",
    "#     print('%.2f'%t, end = '; ')\n",
    "# print(']')\n",
    "displayHTMLtable(T2,r'T_2', r'K')"
   ]
  },
  {
   "cell_type": "markdown",
   "metadata": {},
   "source": [
    "Теперь определим энтальпию в начале и в конце процесса по известным $T_1, T_2$ и $P_1, P_2$. "
   ]
  },
  {
   "cell_type": "code",
   "execution_count": 30,
   "metadata": {},
   "outputs": [
    {
     "data": {
      "text/latex": [
       "$$h_1,\\frac{Дж}{кгK}$$"
      ],
      "text/plain": [
       "<IPython.core.display.Math object>"
      ]
     },
     "metadata": {},
     "output_type": "display_data"
    },
    {
     "data": {
      "text/html": [
       "<table class = \"tbl\" border=\"5\"><tr><td>252754.13382853867</td></tr><tr><td>266090.6066244814</td></tr><tr><td>278626.2369944672</td></tr><tr><td>290640.200011738</td></tr><tr><td>302289.64582446654</td></tr><tr><td>313671.9824662234</td></tr></table>"
      ],
      "text/plain": [
       "<IPython.core.display.HTML object>"
      ]
     },
     "metadata": {},
     "output_type": "display_data"
    },
    {
     "data": {
      "text/latex": [
       "$$h_2,\\frac{Дж}{кгK}$$"
      ],
      "text/plain": [
       "<IPython.core.display.Math object>"
      ]
     },
     "metadata": {},
     "output_type": "display_data"
    },
    {
     "data": {
      "text/html": [
       "<table class = \"tbl\" border=\"5\"><tr><td>-11481.391856979835</td></tr><tr><td>-2152.9660770902506</td></tr><tr><td>7264.63761272209</td></tr><tr><td>209053.05731561407</td></tr><tr><td>213940.03051164176</td></tr><tr><td>219297.72815113637</td></tr></table>"
      ],
      "text/plain": [
       "<IPython.core.display.HTML object>"
      ]
     },
     "metadata": {},
     "output_type": "display_data"
    }
   ],
   "source": [
    "h1 = []; h2 = [];\n",
    "T2[3]=88\n",
    "#print('h1 = [', end = ' ')\n",
    "for t in T1:\n",
    "    tmp = CP.PropsSI('H', 'P',P1, 'T', t, gas)\n",
    "    h1.append( tmp )\n",
    "    #print('%.2f'%tmp, end = '; ')\n",
    "#print('] Дж/кг')\n",
    "#print('h2 = [', end = ' ')\n",
    "for t2 in T2:\n",
    "    tmp = CP.PropsSI('H', 'P',P2, 'T', t2, gas)\n",
    "    h2.append( tmp )\n",
    "    #print('%.2f'%tmp, end = '; ')\n",
    "#print('] Дж/кг')\n",
    "displayHTMLtable(h1,r'h_1', r'\\frac{Дж}{кгK}')\n",
    "displayHTMLtable(h2,r'h_2', r'\\frac{Дж}{кгK}')"
   ]
  },
  {
   "cell_type": "markdown",
   "metadata": {},
   "source": [
    "Работа при изоинтропном расширении: \n",
    "\n",
    "$l_s = h_1 - h_2$"
   ]
  },
  {
   "cell_type": "code",
   "execution_count": 31,
   "metadata": {},
   "outputs": [
    {
     "data": {
      "text/latex": [
       "$$l_s,\\frac{Дж}{кг}$$"
      ],
      "text/plain": [
       "<IPython.core.display.Math object>"
      ]
     },
     "metadata": {},
     "output_type": "display_data"
    },
    {
     "data": {
      "text/html": [
       "<table class = \"tbl\" border=\"5\"><tr><td>264235.5256855185</td></tr><tr><td>268243.5727015716</td></tr><tr><td>271361.5993817451</td></tr><tr><td>81587.14269612392</td></tr><tr><td>88349.61531282478</td></tr><tr><td>94374.25431508705</td></tr></table>"
      ],
      "text/plain": [
       "<IPython.core.display.HTML object>"
      ]
     },
     "metadata": {},
     "output_type": "display_data"
    }
   ],
   "source": [
    "l_s = []\n",
    "#print('l_s = [', end = ' ')\n",
    "for i,j in zip(h1,h2): # i - элемент h1, j - элемент h2. \n",
    "    l_s.append(i-j) \n",
    "    #print('%.2f' % (i-j), end = '; ')\n",
    "#print('] Дж/кг')\n",
    "displayHTMLtable(l_s,r'l_s', r'\\frac{Дж}{кг}')"
   ]
  },
  {
   "cell_type": "markdown",
   "metadata": {},
   "source": [
    "Изменение температуры $\\Delta T = T_1 - T_2$ "
   ]
  },
  {
   "cell_type": "code",
   "execution_count": 32,
   "metadata": {},
   "outputs": [
    {
     "data": {
      "text/latex": [
       "$$\\Delta T,K$$"
      ],
      "text/plain": [
       "<IPython.core.display.Math object>"
      ]
     },
     "metadata": {},
     "output_type": "display_data"
    },
    {
     "data": {
      "text/html": [
       "<table class = \"tbl\" border=\"5\"><tr><td>77.10656802581613</td></tr><tr><td>82.24700589420388</td></tr><tr><td>87.38744376259162</td></tr><tr><td>92</td></tr><tr><td>97.6683194993671</td></tr><tr><td>102.80875736775485</td></tr></table>"
      ],
      "text/plain": [
       "<IPython.core.display.HTML object>"
      ]
     },
     "metadata": {},
     "output_type": "display_data"
    }
   ],
   "source": [
    "deltaT = []\n",
    "#print('deltaT = [', end = ' ')\n",
    "for i,j in zip(T1,T2): # i - элемент T1, j - элемент T2. \n",
    "    deltaT.append(i-j) \n",
    "    #print('%.2f' % (i-j), end = '; ')\n",
    "#print('] K')\n",
    "displayHTMLtable(deltaT,r'\\Delta T', r'K')"
   ]
  },
  {
   "cell_type": "code",
   "execution_count": 33,
   "metadata": {},
   "outputs": [
    {
     "data": {
      "image/png": "[encoded data removed]",
      "text/plain": [
       "<matplotlib.figure.Figure at 0x7fd1bbbf6668>"
      ]
     },
     "metadata": {},
     "output_type": "display_data"
    }
   ],
   "source": [
    "plt.subplot(221)\n",
    "plt.plot(T1, deltaT)\n",
    "plt.xlabel(r'$T_1 , K$')\n",
    "plt.grid()\n",
    "plt.title(r\"$\\Delta T$\")\n",
    "plt.subplot(222)\n",
    "plt.plot(T1,l_s)\n",
    "plt.xlabel(r'$T_1 , K$')\n",
    "plt.title(r\"$l_s$\")\n",
    "plt.grid()\n",
    "plt.show()"
   ]
  },
  {
   "cell_type": "markdown",
   "metadata": {},
   "source": [
    "### Изоэнтальпный процесс\n",
    "Энтальпии в начале и в конце процесса равны $h_1 = h_2$ \n",
    "Определим $T_2$ по известному давлению $P_2$ и энтальпии $h_1$"
   ]
  },
  {
   "cell_type": "code",
   "execution_count": 34,
   "metadata": {},
   "outputs": [
    {
     "data": {
      "text/latex": [
       "$$T_2,K$$"
      ],
      "text/plain": [
       "<IPython.core.display.Math object>"
      ]
     },
     "metadata": {},
     "output_type": "display_data"
    },
    {
     "data": {
      "text/html": [
       "<table class = \"tbl\" border=\"5\"><tr><td>128.87835227464504</td></tr><tr><td>141.83068401472747</td></tr><tr><td>154.0850631595116</td></tr><tr><td>165.8793808883367</td></tr><tr><td>177.34953065049706</td></tr><tr><td>188.58062183234992</td></tr></table>"
      ],
      "text/plain": [
       "<IPython.core.display.HTML object>"
      ]
     },
     "metadata": {},
     "output_type": "display_data"
    }
   ],
   "source": [
    "h2 = h1\n",
    "T2 = []\n",
    "#print(\"T2 = [\", end = ' ')\n",
    "for h in h1:\n",
    "    tmp = CP.PropsSI('T', 'H',h, 'P', P2, gas)\n",
    "    T2.append(tmp)\n",
    "    #print(\"%.2f\" % tmp, end = '; ')\n",
    "#print('] K ')\n",
    "displayHTMLtable(T2,r'T_2', r'K')"
   ]
  },
  {
   "cell_type": "markdown",
   "metadata": {},
   "source": [
    "Найдем значение удельного объема вещества по известным $h_1$, $P_1$,$P_2$\n",
    "\n",
    "$V_1 = 1 / \\rho_1$\n",
    "\n",
    "$V_2 = 1 / \\rho_2$"
   ]
  },
  {
   "cell_type": "code",
   "execution_count": 35,
   "metadata": {},
   "outputs": [
    {
     "data": {
      "text/latex": [
       "$$V_1,\\frac{м^3}{кг}$$"
      ],
      "text/plain": [
       "<IPython.core.display.Math object>"
      ]
     },
     "metadata": {},
     "output_type": "display_data"
    },
    {
     "data": {
      "text/html": [
       "<table class = \"tbl\" border=\"5\"><tr><td>0.014328719241602736</td></tr><tr><td>0.015943575797749993</td></tr><tr><td>0.017454768825035227</td></tr><tr><td>0.018896606153167895</td></tr><tr><td>0.02028882862431789</td></tr><tr><td>0.02164390428151572</td></tr></table>"
      ],
      "text/plain": [
       "<IPython.core.display.HTML object>"
      ]
     },
     "metadata": {},
     "output_type": "display_data"
    },
    {
     "data": {
      "text/latex": [
       "$$V_2,\\frac{м^3}{кг}$$"
      ],
      "text/plain": [
       "<IPython.core.display.Math object>"
      ]
     },
     "metadata": {},
     "output_type": "display_data"
    },
    {
     "data": {
      "text/html": [
       "<table class = \"tbl\" border=\"5\"><tr><td>0.18135330895061613</td></tr><tr><td>0.20059143266792312</td></tr><tr><td>0.21865698948578025</td></tr><tr><td>0.23595662461651284</td></tr><tr><td>0.25271973005829057</td></tr><tr><td>0.2690886853959401</td></tr></table>"
      ],
      "text/plain": [
       "<IPython.core.display.HTML object>"
      ]
     },
     "metadata": {},
     "output_type": "display_data"
    }
   ],
   "source": [
    "V1=[]\n",
    "#print('V1 = [', end=' ')\n",
    "for h in h1:\n",
    "    tmp = 1/CP.PropsSI('D', 'H',h, 'P', P1, gas)\n",
    "    V1.append( tmp )\n",
    "    #print('%.4f'%tmp, end = '; ')\n",
    "#print('] м3/кг')\n",
    "V2=[]\n",
    "#print('V2 = [', end=' ')\n",
    "for h in h1: \n",
    "    tmp = 1/CP.PropsSI('D', 'H',h, 'P', P2, gas)\n",
    "    V2.append( tmp )\n",
    "    #print('%.4f'%tmp, end = '; ')\n",
    "#print('] м3/кг')\n",
    "displayHTMLtable(V1,r'V_1', r'\\frac{м^3}{кг}')\n",
    "displayHTMLtable(V2,r'V_2', r'\\frac{м^3}{кг}')"
   ]
  },
  {
   "cell_type": "markdown",
   "metadata": {},
   "source": [
    "Работа равна изменению внутренней энергии :\n",
    "\n",
    "$l_h = p_1 \\cdot v_1 - p_2 \\cdot v_2 $"
   ]
  },
  {
   "cell_type": "code",
   "execution_count": 36,
   "metadata": {},
   "outputs": [
    {
     "data": {
      "text/latex": [
       "$$l_h,\\frac{Дж}{кг}$$"
      ],
      "text/plain": [
       "<IPython.core.display.Math object>"
      ]
     },
     "metadata": {},
     "output_type": "display_data"
    },
    {
     "data": {
      "text/html": [
       "<table class = \"tbl\" border=\"5\"><tr><td>-448.8636861163832</td></tr><tr><td>-259.3470392096424</td></tr><tr><td>-94.4758345679802</td></tr><tr><td>50.1904596171662</td></tr><tr><td>178.12554913661006</td></tr><tr><td>292.0236246012719</td></tr></table>"
      ],
      "text/plain": [
       "<IPython.core.display.HTML object>"
      ]
     },
     "metadata": {},
     "output_type": "display_data"
    }
   ],
   "source": [
    "l_h = []\n",
    "#print('l_h = [', end = ' ')\n",
    "for i,j in zip(V1,V2):\n",
    "    tmp = P1*i - P2*j\n",
    "    l_h.append(tmp)\n",
    "    #print('%.2f'%tmp, end = '; ')\n",
    "#print('] Дж/кг')\n",
    "displayHTMLtable(l_h,r'l_h', r'\\frac{Дж}{кг}')"
   ]
  },
  {
   "cell_type": "code",
   "execution_count": 37,
   "metadata": {},
   "outputs": [
    {
     "data": {
      "text/latex": [
       "$$\\Delta T,K$$"
      ],
      "text/plain": [
       "<IPython.core.display.Math object>"
      ]
     },
     "metadata": {},
     "output_type": "display_data"
    },
    {
     "data": {
      "text/html": [
       "<table class = \"tbl\" border=\"5\"><tr><td>21.12164772535496</td></tr><tr><td>18.169315985272533</td></tr><tr><td>15.914936840488394</td></tr><tr><td>14.120619111663302</td></tr><tr><td>12.650469349502941</td></tr><tr><td>11.41937816765008</td></tr></table>"
      ],
      "text/plain": [
       "<IPython.core.display.HTML object>"
      ]
     },
     "metadata": {},
     "output_type": "display_data"
    }
   ],
   "source": [
    "deltaT = []\n",
    "#print('deltaT = [', end = ' ')\n",
    "for i,j in zip(T1,T2): # i - элемент T1, j - элемент T2. \n",
    "    deltaT.append(i-j) \n",
    "    #print('%.2f' % (i-j), end = '; ')\n",
    "#print('] K')\n",
    "displayHTMLtable(deltaT,r'\\Delta T', r'K')"
   ]
  },
  {
   "cell_type": "code",
   "execution_count": 38,
   "metadata": {},
   "outputs": [
    {
     "data": {
      "image/png": "[encoded data removed]",
      "text/plain": [
       "<matplotlib.figure.Figure at 0x7fd1bc4aff60>"
      ]
     },
     "metadata": {},
     "output_type": "display_data"
    }
   ],
   "source": [
    "plt.subplot(221)\n",
    "plt.plot(T1, deltaT)\n",
    "plt.xlabel(r'$T_1 , K$')\n",
    "plt.title(r\"$\\Delta T$\")\n",
    "plt.grid()\n",
    "plt.subplot(222)\n",
    "plt.plot(T1, l_h)\n",
    "plt.title(r\"$l_h$\")\n",
    "plt.xlabel(r'$T_1 , K$')\n",
    "plt.grid()\n",
    "plt.show()"
   ]
  },
  {
   "cell_type": "markdown",
   "metadata": {},
   "source": [
    "# Задача 6\n",
    "\n",
    "Определить совершенную удельную работу и температуру в конце изоэнтропного и изоэнтальпного расширения, используя таблицы или диаграммы реальных свойств веществ. Для процесса изоэнтропного расширения также использовать уравнение адиабаты Пуассона для идеального газа. Известна температура $Т_1 = 200К$ в начале процесса расширения, диапазон давлений начала процесса $Р_1 = 0.5..5$ МПа. Степень расширения равна 2,5. Построить графики зависимостей изменения перепада температур и удельной работы в процессах расширения от начального давления расширения, используя при этом не менее пяти точек.\n",
    "\n",
    "Газ - воздух"
   ]
  },
  {
   "cell_type": "code",
   "execution_count": 39,
   "metadata": {
    "collapsed": true
   },
   "outputs": [],
   "source": [
    "#Дано\n",
    "T1 = 200\n",
    "P1max = 5 * 10**6 #Па\n",
    "P1min = 5 * 10**5 #Па\n",
    "gas = 'Air'\n",
    "k = 1.4 # показатель адиабаты\n",
    "eps = 2.5 # коэффициент расширения! "
   ]
  },
  {
   "cell_type": "markdown",
   "metadata": {},
   "source": [
    "### Изоэнтропный процесс\n",
    "Определим $T_2$ по уравнению Пуассона: \n",
    "\n",
    "$T_2 = T_1 \\cdot \\epsilon^{ \\frac{k-1}{k}}$"
   ]
  },
  {
   "cell_type": "code",
   "execution_count": 40,
   "metadata": {},
   "outputs": [
    {
     "data": {
      "text/latex": [
       "$$T_2=153.93339588134018K$$"
      ],
      "text/plain": [
       "<IPython.core.display.Math object>"
      ]
     },
     "metadata": {},
     "output_type": "display_data"
    }
   ],
   "source": [
    "T2 = T1*(1/eps)**((k-1)/k) # 1/eps тк здесь стоит коэффициент сжатия.\n",
    "#print(\"T2 = %.2f K\" % T2)\n",
    "printAns(T2,r\"T_2\",r'K')"
   ]
  },
  {
   "cell_type": "markdown",
   "metadata": {},
   "source": [
    "Зададим измение $P_1$ , вычислим $P_2 = \\frac {P_1}{2.5}$.\n",
    "По известным $P_1, P_2$ и $T_1 , T_2$ определим значения энтальпий"
   ]
  },
  {
   "cell_type": "code",
   "execution_count": 41,
   "metadata": {},
   "outputs": [
    {
     "name": "stdout",
     "output_type": "stream",
     "text": [
      "P1 =  [500000, 1000000, 1500000, 2000000, 2500000, 3000000, 3500000, 4000000, 4500000, 5000000] Па\n",
      "P2 =  [200000.0, 400000.0, 600000.0, 800000.0, 1000000.0, 1200000.0, 1400000.0, 1600000.0, 1800000.0, 2000000.0] Па\n",
      "323751.85 321272.67 318766.20 316232.45 313671.98 311086.01 308476.46 305846.07 303198.45 300538.09 ]Дж/кг\n",
      "h2 = [278471.46 276884.08 275267.62 273620.55 271941.23 270227.92 268478.75 266691.75 264864.80 262995.64 ]Дж/кг\n"
     ]
    }
   ],
   "source": [
    "P1 = []\n",
    "P1 = [x for x in range(P1min,P1max+5*10**5,5*10**5)] # задаем диапозон измения P1\n",
    "P2 = []\n",
    "for p in P1:\n",
    "    P2.append(p/eps) # вычисляем P2\n",
    "print('P1 = ',P1, 'Па')\n",
    "print('P2 = ', P2, 'Па')\n",
    "h1 = []\n",
    "#print('h1 = [', end = '')\n",
    "for p in P1:\n",
    "    tmp = CP.PropsSI('H', 'P',p, 'T', T1, gas)\n",
    "    h1.append(tmp)\n",
    "    print('%.2f'%tmp, end = ' ')\n",
    "print(']Дж/кг')\n",
    "h2 =[]\n",
    "print('h2 = [', end = '')\n",
    "for p in P2:\n",
    "    tmp = CP.PropsSI('H', 'P',p, 'T', T2, gas)\n",
    "    h2.append(tmp)\n",
    "    print('%.2f'%tmp, end = ' ')\n",
    "print(']Дж/кг')"
   ]
  },
  {
   "cell_type": "markdown",
   "metadata": {},
   "source": [
    "Работа при изоинтропном расширении: \n",
    "\n",
    "$l_s = h_1 - h_2$\n",
    "\n",
    "Изменение температуры $\\Delta T = T_1 -T_2 = 46.07K$ "
   ]
  },
  {
   "cell_type": "code",
   "execution_count": 42,
   "metadata": {},
   "outputs": [
    {
     "data": {
      "text/latex": [
       "$$l_s,\\frac{Дж}{кг}$$"
      ],
      "text/plain": [
       "<IPython.core.display.Math object>"
      ]
     },
     "metadata": {},
     "output_type": "display_data"
    },
    {
     "data": {
      "text/html": [
       "<table class = \"tbl\" border=\"5\"><tr><td>45280.39458423626</td></tr><tr><td>44388.59477953357</td></tr><tr><td>43498.58189231198</td></tr><tr><td>42611.902084417</td></tr><tr><td>41730.75505860953</td></tr><tr><td>40858.09119220619</td></tr><tr><td>39997.70503631368</td></tr><tr><td>39154.318969520624</td></tr><tr><td>38333.6490644298</td></tr><tr><td>37542.44394114107</td></tr></table>"
      ],
      "text/plain": [
       "<IPython.core.display.HTML object>"
      ]
     },
     "metadata": {},
     "output_type": "display_data"
    }
   ],
   "source": [
    "l_s = []\n",
    "#print('l_s = [', end = ' ')\n",
    "for i,j in zip(h1,h2): # i - элемент h1, j - элемент h2. \n",
    "    l_s.append(i-j) \n",
    "    #print('%.2f' % (i-j), end = '; ')\n",
    "#print('] Дж/кг')\n",
    "deltaT = T1 - T2\n",
    "displayHTMLtable(l_s,r'l_s', r'\\frac{Дж}{кг}')"
   ]
  },
  {
   "cell_type": "code",
   "execution_count": 43,
   "metadata": {},
   "outputs": [
    {
     "data": {
      "image/png": "[encoded data removed]",
      "text/plain": [
       "<matplotlib.figure.Figure at 0x7fd1bc2f5828>"
      ]
     },
     "metadata": {},
     "output_type": "display_data"
    }
   ],
   "source": [
    "dt = []\n",
    "p1 = []\n",
    "for x in P1:\n",
    "    p1.append(x/10**6)\n",
    "for x in range(10):\n",
    "    dt.append(deltaT)\n",
    "plt.subplot(221)\n",
    "plt.plot(p1, dt)\n",
    "plt.title(r\"$\\Delta T$\")\n",
    "plt.xlabel(r'$P_1 , МПа$')\n",
    "plt.grid()\n",
    "plt.subplot(222)\n",
    "plt.plot(p1,l_s)\n",
    "plt.xlabel(r'$P_1 , МПа$')\n",
    "plt.title(r\"$l_s$\")\n",
    "plt.grid()\n",
    "plt.show()"
   ]
  },
  {
   "cell_type": "markdown",
   "metadata": {},
   "source": [
    "### Изоэнтальпный процесс\n",
    "Значения энтальпии $h_2$ берем из первой части(из изоэнтропного процесса)\n",
    "Затем по известным значениям энтальпии и давления определяем температуру $T_2$"
   ]
  },
  {
   "cell_type": "code",
   "execution_count": 44,
   "metadata": {},
   "outputs": [
    {
     "data": {
      "text/latex": [
       "$$T_2,K$$"
      ],
      "text/plain": [
       "<IPython.core.display.Math object>"
      ]
     },
     "metadata": {},
     "output_type": "display_data"
    },
    {
     "data": {
      "text/html": [
       "<table class = \"tbl\" border=\"5\"><tr><td>198.54178047619126</td></tr><tr><td>197.08770662387153</td></tr><tr><td>195.6390310653282</td></tr><tr><td>194.19753426744617</td></tr><tr><td>192.76558692276126</td></tr><tr><td>191.3462028421983</td></tr><tr><td>189.9430767592886</td></tr><tr><td>188.56060018246438</td></tr><tr><td>187.2038475724218</td></tr><tr><td>185.87852511387038</td></tr></table>"
      ],
      "text/plain": [
       "<IPython.core.display.HTML object>"
      ]
     },
     "metadata": {},
     "output_type": "display_data"
    }
   ],
   "source": [
    "h2 = h1\n",
    "T2=[]\n",
    "#print('T2 = [', end ='')\n",
    "for i in range(10):\n",
    "    tmp = CP.PropsSI('T', 'H',h1[i], 'P', P2[i], gas)\n",
    "    T2.append(tmp)\n",
    "    #print('%.2f' % tmp, end = ' ')\n",
    "#print(']K')\n",
    "displayHTMLtable(T2,r'T_2', r'K')"
   ]
  },
  {
   "cell_type": "markdown",
   "metadata": {},
   "source": [
    "Определим удельный объем по известным энтальпиям и давлениям"
   ]
  },
  {
   "cell_type": "code",
   "execution_count": 45,
   "metadata": {},
   "outputs": [
    {
     "data": {
      "text/latex": [
       "$$v_1,\\frac{м^3}{кг}$$"
      ],
      "text/plain": [
       "<IPython.core.display.Math object>"
      ]
     },
     "metadata": {},
     "output_type": "display_data"
    },
    {
     "data": {
      "text/html": [
       "<table class = \"tbl\" border=\"5\"><tr><td>0.11347120057454102</td></tr><tr><td>0.056068482974744795</td></tr><tr><td>0.03693886641924405</td></tr><tr><td>0.027377607657216363</td></tr><tr><td>0.02164390428151572</td></tr><tr><td>0.01782428389788129</td></tr><tr><td>0.015098799921096142</td></tr><tr><td>0.013057577540199754</td></tr><tr><td>0.011472992416581142</td></tr><tr><td>0.010208538669465469</td></tr></table>"
      ],
      "text/plain": [
       "<IPython.core.display.HTML object>"
      ]
     },
     "metadata": {},
     "output_type": "display_data"
    },
    {
     "data": {
      "text/latex": [
       "$$v_2,\\frac{м^3}{кг}$$"
      ],
      "text/plain": [
       "<IPython.core.display.Math object>"
      ]
     },
     "metadata": {},
     "output_type": "display_data"
    },
    {
     "data": {
      "text/html": [
       "<table class = \"tbl\" border=\"5\"><tr><td>0.2835772925449538</td></tr><tr><td>0.14003176453103014</td></tr><tr><td>0.09216902340944581</td></tr><tr><td>0.06822697156278697</td></tr><tr><td>0.05385336758306259</td></tr><tr><td>0.04426430598888841</td></tr><tr><td>0.037409714128318006</td></tr><tr><td>0.03226472505310216</td></tr><tr><td>0.02826013256351034</td></tr><tr><td>0.025054569419605665</td></tr></table>"
      ],
      "text/plain": [
       "<IPython.core.display.HTML object>"
      ]
     },
     "metadata": {},
     "output_type": "display_data"
    }
   ],
   "source": [
    "V1=[]\n",
    "for i in range(10):\n",
    "    V1.append(1/CP.PropsSI('D', 'H',h1[i], 'P', P1[i], gas) )\n",
    "V2=[]\n",
    "for i in range(10):\n",
    "    V2.append(1/CP.PropsSI('D', 'H',h1[i], 'P', P2[i], gas) )\n",
    "#########################################################################\n",
    "def printList(l, name, razmer):    # функция печатающая список значений...\n",
    "    print(name+' = [', end = '')\n",
    "    for i in l:\n",
    "        print('%.3f'% i, end=' ')\n",
    "    print(']'+razmer)\n",
    "#########################################################################\n",
    "#printList(V1,'V1','м3/кг')\n",
    "#printList(V2,'V2','м3/кг')\n",
    "displayHTMLtable(V1,r'v_1', r'\\frac{м^3}{кг}')\n",
    "displayHTMLtable(V2,r'v_2', r'\\frac{м^3}{кг}')"
   ]
  },
  {
   "cell_type": "markdown",
   "metadata": {},
   "source": [
    "Определим работу как изменение внутренней энергии: \n",
    "\n",
    "$l_h = p_1 \\cdot v_1 - p_2 \\cdot v_2$"
   ]
  },
  {
   "cell_type": "code",
   "execution_count": 46,
   "metadata": {},
   "outputs": [
    {
     "data": {
      "text/latex": [
       "$$l_h,\\frac{Дж}{кг}$$"
      ],
      "text/plain": [
       "<IPython.core.display.Math object>"
      ]
     },
     "metadata": {},
     "output_type": "display_data"
    },
    {
     "data": {
      "text/html": [
       "<table class = \"tbl\" border=\"5\"><tr><td>20.141778279750724</td></tr><tr><td>55.77716233274259</td></tr><tr><td>106.88558319858566</td></tr><tr><td>173.63806420315086</td></tr><tr><td>256.39312072670873</td></tr><tr><td>355.68450697777007</td></tr><tr><td>472.19994419129216</td></tr><tr><td>606.75007583556</td></tr><tr><td>760.2272602965313</td></tr><tr><td>933.5545081160162</td></tr></table>"
      ],
      "text/plain": [
       "<IPython.core.display.HTML object>"
      ]
     },
     "metadata": {},
     "output_type": "display_data"
    }
   ],
   "source": [
    "l = []\n",
    "for i in range(10):\n",
    "    l.append(P1[i]*V1[i]- P2[i]*V2[i])\n",
    "#printList(l,'l_h', 'Дж/кг')\n",
    "displayHTMLtable(l,r'l_h', r'\\frac{Дж}{кг}')"
   ]
  },
  {
   "cell_type": "markdown",
   "metadata": {},
   "source": [
    "Изменение температуры по формуле Пуассона:\n",
    "\n",
    "$\\Delta T = T_1 \\cdot (1-\\epsilon^{\\frac {k-1}{k}})$"
   ]
  },
  {
   "cell_type": "code",
   "execution_count": 47,
   "metadata": {},
   "outputs": [
    {
     "data": {
      "text/latex": [
       "$$\\Delta T,K$$"
      ],
      "text/plain": [
       "<IPython.core.display.Math object>"
      ]
     },
     "metadata": {},
     "output_type": "display_data"
    },
    {
     "data": {
      "text/html": [
       "<table class = \"tbl\" border=\"5\"><tr><td>100.97930812069336</td></tr><tr><td>100.97930812069336</td></tr><tr><td>100.97930812069336</td></tr><tr><td>100.97930812069336</td></tr><tr><td>100.97930812069336</td></tr><tr><td>100.97930812069336</td></tr><tr><td>100.97930812069336</td></tr><tr><td>100.97930812069336</td></tr><tr><td>100.97930812069336</td></tr><tr><td>100.97930812069336</td></tr></table>"
      ],
      "text/plain": [
       "<IPython.core.display.HTML object>"
      ]
     },
     "metadata": {},
     "output_type": "display_data"
    }
   ],
   "source": [
    "dT = []\n",
    "for i in range(10):\n",
    "    dT.append(T1*(1-0.4**((k-1))/k))\n",
    "#printList(dT,'deltaT', 'K')\n",
    "displayHTMLtable(dT,r'\\Delta T', r'K')"
   ]
  },
  {
   "cell_type": "code",
   "execution_count": 48,
   "metadata": {},
   "outputs": [
    {
     "data": {
      "image/png": "[encoded data removed]",
      "text/plain": [
       "<matplotlib.figure.Figure at 0x7fd1bc85ccf8>"
      ]
     },
     "metadata": {},
     "output_type": "display_data"
    }
   ],
   "source": [
    "plt.subplot(221)\n",
    "plt.plot(p1, dT)\n",
    "plt.title(r\"$\\Delta T$\")\n",
    "plt.xlabel(r'$P_1 , МПа$')\n",
    "plt.grid()\n",
    "plt.subplot(222)\n",
    "plt.plot(p1,l)\n",
    "plt.xlabel(r'$P_1 , МПа$')\n",
    "plt.title(r\"$l_h$\")\n",
    "plt.grid()\n",
    "plt.show()"
   ]
  }
 ],
 "metadata": {
  "kernelspec": {
   "display_name": "Python 3",
   "language": "python",
   "name": "python3"
  },
  "language_info": {
   "codemirror_mode": {
    "name": "ipython",
    "version": 3
   },
   "file_extension": ".py",
   "mimetype": "text/x-python",
   "name": "python",
   "nbconvert_exporter": "python",
   "pygments_lexer": "ipython3",
   "version": "3.6.2"
  }
 },
 "nbformat": 4,
 "nbformat_minor": 2
}
